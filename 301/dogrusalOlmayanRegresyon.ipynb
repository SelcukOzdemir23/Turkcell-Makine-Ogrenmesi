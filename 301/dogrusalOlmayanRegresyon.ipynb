{
 "cells": [
  {
   "attachments": {},
   "cell_type": "markdown",
   "metadata": {},
   "source": [
    "# K en yakın komşu"
   ]
  },
  {
   "attachments": {},
   "cell_type": "markdown",
   "metadata": {},
   "source": [
    "## en yakın komşular"
   ]
  },
  {
   "cell_type": "code",
   "execution_count": 52,
   "metadata": {},
   "outputs": [],
   "source": [
    "import numpy as np\n",
    "import pandas as pd\n",
    "import matplotlib.pyplot as plt\n",
    "from sklearn.metrics import mean_squared_error,r2_score\n",
    "from sklearn.preprocessing import scale\n",
    "from sklearn.preprocessing import StandardScaler\n",
    "from sklearn import model_selection\n",
    "from sklearn.linear_model import LinearRegression\n",
    "from sklearn.tree import DecisionTreeRegressor\n",
    "from sklearn.neighbors import KNeighborsRegressor\n",
    "from sklearn.neural_network import MLPRegressor\n",
    "from sklearn.ensemble import RandomForestRegressor\n",
    "from sklearn.ensemble import GradientBoostingRegressor\n",
    "from sklearn import neighbors\n",
    "from sklearn.svm import SVR\n",
    "from sklearn.model_selection import train_test_split\n",
    "from sklearn.model_selection import GridSearchCV\n"
   ]
  },
  {
   "cell_type": "code",
   "execution_count": 53,
   "metadata": {},
   "outputs": [],
   "source": [
    "from warnings import filterwarnings\n",
    "filterwarnings(\"ignore\")"
   ]
  },
  {
   "cell_type": "code",
   "execution_count": 54,
   "metadata": {},
   "outputs": [],
   "source": [
    "df = pd.read_csv(\"Hitters.csv\")\n",
    "df = df.dropna()\n",
    "dms = pd.get_dummies(df[[\"League\",\"Division\",\"NewLeague\"]])\n",
    "y = df[\"Salary\"]\n",
    "X_ = df.drop([\"Salary\",\"League\",\"Division\",\"NewLeague\"],axis=1).astype(\"float64\")\n",
    "X = pd.concat([X_,dms[[\"League_N\",\"Division_W\",\"NewLeague_N\"]]],axis=1)\n",
    "X_train , X_test,y_train,y_test = train_test_split(X,y,test_size=0.25,random_state=42)\n"
   ]
  },
  {
   "cell_type": "code",
   "execution_count": 55,
   "metadata": {},
   "outputs": [
    {
     "data": {
      "text/html": [
       "<div>\n",
       "<style scoped>\n",
       "    .dataframe tbody tr th:only-of-type {\n",
       "        vertical-align: middle;\n",
       "    }\n",
       "\n",
       "    .dataframe tbody tr th {\n",
       "        vertical-align: top;\n",
       "    }\n",
       "\n",
       "    .dataframe thead th {\n",
       "        text-align: right;\n",
       "    }\n",
       "</style>\n",
       "<table border=\"1\" class=\"dataframe\">\n",
       "  <thead>\n",
       "    <tr style=\"text-align: right;\">\n",
       "      <th></th>\n",
       "      <th>AtBat</th>\n",
       "      <th>Hits</th>\n",
       "      <th>HmRun</th>\n",
       "      <th>Runs</th>\n",
       "      <th>RBI</th>\n",
       "      <th>Walks</th>\n",
       "      <th>Years</th>\n",
       "      <th>CAtBat</th>\n",
       "      <th>CHits</th>\n",
       "      <th>CHmRun</th>\n",
       "      <th>CRuns</th>\n",
       "      <th>CRBI</th>\n",
       "      <th>CWalks</th>\n",
       "      <th>PutOuts</th>\n",
       "      <th>Assists</th>\n",
       "      <th>Errors</th>\n",
       "      <th>League_N</th>\n",
       "      <th>Division_W</th>\n",
       "      <th>NewLeague_N</th>\n",
       "    </tr>\n",
       "  </thead>\n",
       "  <tbody>\n",
       "    <tr>\n",
       "      <th>183</th>\n",
       "      <td>328.0</td>\n",
       "      <td>91.0</td>\n",
       "      <td>12.0</td>\n",
       "      <td>51.0</td>\n",
       "      <td>43.0</td>\n",
       "      <td>33.0</td>\n",
       "      <td>2.0</td>\n",
       "      <td>342.0</td>\n",
       "      <td>94.0</td>\n",
       "      <td>12.0</td>\n",
       "      <td>51.0</td>\n",
       "      <td>44.0</td>\n",
       "      <td>33.0</td>\n",
       "      <td>145.0</td>\n",
       "      <td>59.0</td>\n",
       "      <td>8.0</td>\n",
       "      <td>1</td>\n",
       "      <td>0</td>\n",
       "      <td>1</td>\n",
       "    </tr>\n",
       "    <tr>\n",
       "      <th>229</th>\n",
       "      <td>514.0</td>\n",
       "      <td>144.0</td>\n",
       "      <td>0.0</td>\n",
       "      <td>67.0</td>\n",
       "      <td>54.0</td>\n",
       "      <td>79.0</td>\n",
       "      <td>9.0</td>\n",
       "      <td>4739.0</td>\n",
       "      <td>1169.0</td>\n",
       "      <td>13.0</td>\n",
       "      <td>583.0</td>\n",
       "      <td>374.0</td>\n",
       "      <td>528.0</td>\n",
       "      <td>229.0</td>\n",
       "      <td>453.0</td>\n",
       "      <td>15.0</td>\n",
       "      <td>1</td>\n",
       "      <td>0</td>\n",
       "      <td>1</td>\n",
       "    </tr>\n",
       "    <tr>\n",
       "      <th>286</th>\n",
       "      <td>593.0</td>\n",
       "      <td>152.0</td>\n",
       "      <td>23.0</td>\n",
       "      <td>69.0</td>\n",
       "      <td>75.0</td>\n",
       "      <td>53.0</td>\n",
       "      <td>6.0</td>\n",
       "      <td>2765.0</td>\n",
       "      <td>686.0</td>\n",
       "      <td>133.0</td>\n",
       "      <td>369.0</td>\n",
       "      <td>384.0</td>\n",
       "      <td>321.0</td>\n",
       "      <td>315.0</td>\n",
       "      <td>10.0</td>\n",
       "      <td>6.0</td>\n",
       "      <td>0</td>\n",
       "      <td>1</td>\n",
       "      <td>0</td>\n",
       "    </tr>\n",
       "    <tr>\n",
       "      <th>102</th>\n",
       "      <td>233.0</td>\n",
       "      <td>49.0</td>\n",
       "      <td>2.0</td>\n",
       "      <td>41.0</td>\n",
       "      <td>23.0</td>\n",
       "      <td>18.0</td>\n",
       "      <td>8.0</td>\n",
       "      <td>1350.0</td>\n",
       "      <td>336.0</td>\n",
       "      <td>7.0</td>\n",
       "      <td>166.0</td>\n",
       "      <td>122.0</td>\n",
       "      <td>106.0</td>\n",
       "      <td>102.0</td>\n",
       "      <td>132.0</td>\n",
       "      <td>10.0</td>\n",
       "      <td>0</td>\n",
       "      <td>0</td>\n",
       "      <td>0</td>\n",
       "    </tr>\n",
       "    <tr>\n",
       "      <th>153</th>\n",
       "      <td>341.0</td>\n",
       "      <td>95.0</td>\n",
       "      <td>6.0</td>\n",
       "      <td>48.0</td>\n",
       "      <td>42.0</td>\n",
       "      <td>20.0</td>\n",
       "      <td>10.0</td>\n",
       "      <td>2964.0</td>\n",
       "      <td>808.0</td>\n",
       "      <td>81.0</td>\n",
       "      <td>379.0</td>\n",
       "      <td>428.0</td>\n",
       "      <td>221.0</td>\n",
       "      <td>158.0</td>\n",
       "      <td>4.0</td>\n",
       "      <td>5.0</td>\n",
       "      <td>1</td>\n",
       "      <td>1</td>\n",
       "      <td>1</td>\n",
       "    </tr>\n",
       "  </tbody>\n",
       "</table>\n",
       "</div>"
      ],
      "text/plain": [
       "     AtBat   Hits  HmRun  Runs   RBI  Walks  Years  CAtBat   CHits  CHmRun  \\\n",
       "183  328.0   91.0   12.0  51.0  43.0   33.0    2.0   342.0    94.0    12.0   \n",
       "229  514.0  144.0    0.0  67.0  54.0   79.0    9.0  4739.0  1169.0    13.0   \n",
       "286  593.0  152.0   23.0  69.0  75.0   53.0    6.0  2765.0   686.0   133.0   \n",
       "102  233.0   49.0    2.0  41.0  23.0   18.0    8.0  1350.0   336.0     7.0   \n",
       "153  341.0   95.0    6.0  48.0  42.0   20.0   10.0  2964.0   808.0    81.0   \n",
       "\n",
       "     CRuns   CRBI  CWalks  PutOuts  Assists  Errors  League_N  Division_W  \\\n",
       "183   51.0   44.0    33.0    145.0     59.0     8.0         1           0   \n",
       "229  583.0  374.0   528.0    229.0    453.0    15.0         1           0   \n",
       "286  369.0  384.0   321.0    315.0     10.0     6.0         0           1   \n",
       "102  166.0  122.0   106.0    102.0    132.0    10.0         0           0   \n",
       "153  379.0  428.0   221.0    158.0      4.0     5.0         1           1   \n",
       "\n",
       "     NewLeague_N  \n",
       "183            1  \n",
       "229            1  \n",
       "286            0  \n",
       "102            0  \n",
       "153            1  "
      ]
     },
     "execution_count": 55,
     "metadata": {},
     "output_type": "execute_result"
    }
   ],
   "source": [
    "X_train.head()"
   ]
  },
  {
   "attachments": {},
   "cell_type": "markdown",
   "metadata": {},
   "source": [
    "# MODEL & TAHMİN"
   ]
  },
  {
   "cell_type": "code",
   "execution_count": 56,
   "metadata": {},
   "outputs": [
    {
     "data": {
      "text/html": [
       "<style>#sk-container-id-4 {color: black;background-color: white;}#sk-container-id-4 pre{padding: 0;}#sk-container-id-4 div.sk-toggleable {background-color: white;}#sk-container-id-4 label.sk-toggleable__label {cursor: pointer;display: block;width: 100%;margin-bottom: 0;padding: 0.3em;box-sizing: border-box;text-align: center;}#sk-container-id-4 label.sk-toggleable__label-arrow:before {content: \"▸\";float: left;margin-right: 0.25em;color: #696969;}#sk-container-id-4 label.sk-toggleable__label-arrow:hover:before {color: black;}#sk-container-id-4 div.sk-estimator:hover label.sk-toggleable__label-arrow:before {color: black;}#sk-container-id-4 div.sk-toggleable__content {max-height: 0;max-width: 0;overflow: hidden;text-align: left;background-color: #f0f8ff;}#sk-container-id-4 div.sk-toggleable__content pre {margin: 0.2em;color: black;border-radius: 0.25em;background-color: #f0f8ff;}#sk-container-id-4 input.sk-toggleable__control:checked~div.sk-toggleable__content {max-height: 200px;max-width: 100%;overflow: auto;}#sk-container-id-4 input.sk-toggleable__control:checked~label.sk-toggleable__label-arrow:before {content: \"▾\";}#sk-container-id-4 div.sk-estimator input.sk-toggleable__control:checked~label.sk-toggleable__label {background-color: #d4ebff;}#sk-container-id-4 div.sk-label input.sk-toggleable__control:checked~label.sk-toggleable__label {background-color: #d4ebff;}#sk-container-id-4 input.sk-hidden--visually {border: 0;clip: rect(1px 1px 1px 1px);clip: rect(1px, 1px, 1px, 1px);height: 1px;margin: -1px;overflow: hidden;padding: 0;position: absolute;width: 1px;}#sk-container-id-4 div.sk-estimator {font-family: monospace;background-color: #f0f8ff;border: 1px dotted black;border-radius: 0.25em;box-sizing: border-box;margin-bottom: 0.5em;}#sk-container-id-4 div.sk-estimator:hover {background-color: #d4ebff;}#sk-container-id-4 div.sk-parallel-item::after {content: \"\";width: 100%;border-bottom: 1px solid gray;flex-grow: 1;}#sk-container-id-4 div.sk-label:hover label.sk-toggleable__label {background-color: #d4ebff;}#sk-container-id-4 div.sk-serial::before {content: \"\";position: absolute;border-left: 1px solid gray;box-sizing: border-box;top: 0;bottom: 0;left: 50%;z-index: 0;}#sk-container-id-4 div.sk-serial {display: flex;flex-direction: column;align-items: center;background-color: white;padding-right: 0.2em;padding-left: 0.2em;position: relative;}#sk-container-id-4 div.sk-item {position: relative;z-index: 1;}#sk-container-id-4 div.sk-parallel {display: flex;align-items: stretch;justify-content: center;background-color: white;position: relative;}#sk-container-id-4 div.sk-item::before, #sk-container-id-4 div.sk-parallel-item::before {content: \"\";position: absolute;border-left: 1px solid gray;box-sizing: border-box;top: 0;bottom: 0;left: 50%;z-index: -1;}#sk-container-id-4 div.sk-parallel-item {display: flex;flex-direction: column;z-index: 1;position: relative;background-color: white;}#sk-container-id-4 div.sk-parallel-item:first-child::after {align-self: flex-end;width: 50%;}#sk-container-id-4 div.sk-parallel-item:last-child::after {align-self: flex-start;width: 50%;}#sk-container-id-4 div.sk-parallel-item:only-child::after {width: 0;}#sk-container-id-4 div.sk-dashed-wrapped {border: 1px dashed gray;margin: 0 0.4em 0.5em 0.4em;box-sizing: border-box;padding-bottom: 0.4em;background-color: white;}#sk-container-id-4 div.sk-label label {font-family: monospace;font-weight: bold;display: inline-block;line-height: 1.2em;}#sk-container-id-4 div.sk-label-container {text-align: center;}#sk-container-id-4 div.sk-container {/* jupyter's `normalize.less` sets `[hidden] { display: none; }` but bootstrap.min.css set `[hidden] { display: none !important; }` so we also need the `!important` here to be able to override the default hidden behavior on the sphinx rendered scikit-learn.org. See: https://github.com/scikit-learn/scikit-learn/issues/21755 */display: inline-block !important;position: relative;}#sk-container-id-4 div.sk-text-repr-fallback {display: none;}</style><div id=\"sk-container-id-4\" class=\"sk-top-container\"><div class=\"sk-text-repr-fallback\"><pre>KNeighborsRegressor()</pre><b>In a Jupyter environment, please rerun this cell to show the HTML representation or trust the notebook. <br />On GitHub, the HTML representation is unable to render, please try loading this page with nbviewer.org.</b></div><div class=\"sk-container\" hidden><div class=\"sk-item\"><div class=\"sk-estimator sk-toggleable\"><input class=\"sk-toggleable__control sk-hidden--visually\" id=\"sk-estimator-id-4\" type=\"checkbox\" checked><label for=\"sk-estimator-id-4\" class=\"sk-toggleable__label sk-toggleable__label-arrow\">KNeighborsRegressor</label><div class=\"sk-toggleable__content\"><pre>KNeighborsRegressor()</pre></div></div></div></div></div>"
      ],
      "text/plain": [
       "KNeighborsRegressor()"
      ]
     },
     "execution_count": 56,
     "metadata": {},
     "output_type": "execute_result"
    }
   ],
   "source": [
    "knn_model = KNeighborsRegressor().fit(X_train,y_train)\n",
    "knn_model"
   ]
  },
  {
   "cell_type": "code",
   "execution_count": 57,
   "metadata": {},
   "outputs": [
    {
     "data": {
      "text/plain": [
       "5"
      ]
     },
     "execution_count": 57,
     "metadata": {},
     "output_type": "execute_result"
    }
   ],
   "source": [
    "knn_model.n_neighbors"
   ]
  },
  {
   "cell_type": "code",
   "execution_count": 58,
   "metadata": {},
   "outputs": [
    {
     "data": {
      "text/plain": [
       "'minkowski'"
      ]
     },
     "execution_count": 58,
     "metadata": {},
     "output_type": "execute_result"
    }
   ],
   "source": [
    "knn_model.metric"
   ]
  },
  {
   "cell_type": "code",
   "execution_count": 59,
   "metadata": {},
   "outputs": [],
   "source": [
    "y_pred = knn_model.predict(X_test)"
   ]
  },
  {
   "cell_type": "code",
   "execution_count": 60,
   "metadata": {},
   "outputs": [
    {
     "data": {
      "text/plain": [
       "426.6570764525201"
      ]
     },
     "execution_count": 60,
     "metadata": {},
     "output_type": "execute_result"
    }
   ],
   "source": [
    "np.sqrt(mean_squared_error(y_pred,y_test))"
   ]
  },
  {
   "attachments": {},
   "cell_type": "markdown",
   "metadata": {},
   "source": [
    "# MODEL TUNİNG"
   ]
  },
  {
   "cell_type": "code",
   "execution_count": 61,
   "metadata": {},
   "outputs": [
    {
     "name": "stdout",
     "output_type": "stream",
     "text": [
      "k= 1  için RMSE değeri :  455.03925390751965\n",
      "k= 2  için RMSE değeri :  415.99629571490965\n",
      "k= 3  için RMSE değeri :  420.6765370082348\n",
      "k= 4  için RMSE değeri :  428.8564674588792\n",
      "k= 5  için RMSE değeri :  426.6570764525201\n",
      "k= 6  için RMSE değeri :  423.5071669008732\n",
      "k= 7  için RMSE değeri :  414.9361222421057\n",
      "k= 8  için RMSE değeri :  413.7094731463598\n",
      "k= 9  için RMSE değeri :  417.84419990871265\n",
      "k= 10  için RMSE değeri :  421.6252180741266\n",
      "413.7094731463598\n"
     ]
    }
   ],
   "source": [
    "RMSE = []\n",
    "for k in range(10):\n",
    "    k =k+1\n",
    "    knn_model = KNeighborsRegressor(n_neighbors=k).fit(X_train,y_train)\n",
    "    y_pred = knn_model.predict(X_test)\n",
    "    rmse = np.sqrt(mean_squared_error(y_test,y_pred))\n",
    "    RMSE.append(rmse)\n",
    "    print(\"k=\",k,\" için RMSE değeri : \",rmse)\n",
    "\n",
    "\n",
    "print(np.min(RMSE))\n",
    "\n",
    "\n"
   ]
  },
  {
   "cell_type": "code",
   "execution_count": 62,
   "metadata": {},
   "outputs": [],
   "source": [
    "#GridSearchCV"
   ]
  },
  {
   "cell_type": "code",
   "execution_count": 63,
   "metadata": {},
   "outputs": [],
   "source": [
    "knn_params = {\"n_neighbors\":np.arange(1,10,1)}\n",
    "knn = KNeighborsRegressor()\n",
    "knn_cv_model = GridSearchCV(knn,knn_params,cv=10).fit(X_train,y_train)"
   ]
  },
  {
   "cell_type": "code",
   "execution_count": 64,
   "metadata": {},
   "outputs": [
    {
     "data": {
      "text/plain": [
       "{'n_neighbors': 8}"
      ]
     },
     "execution_count": 64,
     "metadata": {},
     "output_type": "execute_result"
    }
   ],
   "source": [
    "knn_cv_model.best_params_"
   ]
  },
  {
   "cell_type": "code",
   "execution_count": 65,
   "metadata": {},
   "outputs": [],
   "source": [
    "#final modeli \n",
    "knn_tuned = KNeighborsRegressor(n_neighbors=knn_cv_model.best_params_[\"n_neighbors\"]).fit(X_train,y_train)"
   ]
  },
  {
   "cell_type": "code",
   "execution_count": 66,
   "metadata": {},
   "outputs": [
    {
     "data": {
      "text/plain": [
       "413.7094731463598"
      ]
     },
     "execution_count": 66,
     "metadata": {},
     "output_type": "execute_result"
    }
   ],
   "source": [
    "y_pred = knn_tuned.predict(X_test)\n",
    "np.sqrt(mean_squared_error(y_pred,y_test))"
   ]
  },
  {
   "attachments": {},
   "cell_type": "markdown",
   "metadata": {},
   "source": [
    "# DESTEK VEKTÖR REGRESYONU (SVL)"
   ]
  },
  {
   "cell_type": "code",
   "execution_count": 67,
   "metadata": {},
   "outputs": [],
   "source": [
    "df = pd.read_csv(\"Hitters.csv\")\n",
    "df = df.dropna()\n",
    "dms = pd.get_dummies(df[[\"League\",\"Division\",\"NewLeague\"]])\n",
    "y = df[\"Salary\"]\n",
    "X_ = df.drop([\"Salary\",\"League\",\"Division\",\"NewLeague\"],axis=1).astype(\"float64\")\n",
    "X = pd.concat([X_,dms[[\"League_N\",\"Division_W\",\"NewLeague_N\"]]],axis=1)\n",
    "X_train , X_test,y_train,y_test = train_test_split(X,y,test_size=0.25,random_state=42)\n"
   ]
  },
  {
   "attachments": {},
   "cell_type": "markdown",
   "metadata": {},
   "source": [
    "# MODEL & TAHMİN"
   ]
  },
  {
   "cell_type": "code",
   "execution_count": 68,
   "metadata": {},
   "outputs": [],
   "source": [
    "svr_model = SVR(kernel=\"linear\",epsilon=0.1).fit(X_train,y_train)"
   ]
  },
  {
   "cell_type": "code",
   "execution_count": 69,
   "metadata": {},
   "outputs": [
    {
     "data": {
      "text/plain": [
       "['C',\n",
       " '__abstractmethods__',\n",
       " '__class__',\n",
       " '__delattr__',\n",
       " '__dict__',\n",
       " '__dir__',\n",
       " '__doc__',\n",
       " '__eq__',\n",
       " '__format__',\n",
       " '__ge__',\n",
       " '__getattribute__',\n",
       " '__getstate__',\n",
       " '__gt__',\n",
       " '__hash__',\n",
       " '__init__',\n",
       " '__init_subclass__',\n",
       " '__le__',\n",
       " '__lt__',\n",
       " '__module__',\n",
       " '__ne__',\n",
       " '__new__',\n",
       " '__reduce__',\n",
       " '__reduce_ex__',\n",
       " '__repr__',\n",
       " '__setattr__',\n",
       " '__setstate__',\n",
       " '__sizeof__',\n",
       " '__str__',\n",
       " '__subclasshook__',\n",
       " '__weakref__',\n",
       " '_abc_impl',\n",
       " '_check_feature_names',\n",
       " '_check_n_features',\n",
       " '_compute_kernel',\n",
       " '_decision_function',\n",
       " '_dense_decision_function',\n",
       " '_dense_fit',\n",
       " '_dense_predict',\n",
       " '_dual_coef_',\n",
       " '_estimator_type',\n",
       " '_gamma',\n",
       " '_get_coef',\n",
       " '_get_param_names',\n",
       " '_get_tags',\n",
       " '_impl',\n",
       " '_intercept_',\n",
       " '_more_tags',\n",
       " '_n_support',\n",
       " '_num_iter',\n",
       " '_probA',\n",
       " '_probB',\n",
       " '_repr_html_',\n",
       " '_repr_html_inner',\n",
       " '_repr_mimebundle_',\n",
       " '_sparse',\n",
       " '_sparse_decision_function',\n",
       " '_sparse_fit',\n",
       " '_sparse_kernels',\n",
       " '_sparse_predict',\n",
       " '_validate_data',\n",
       " '_validate_for_predict',\n",
       " '_validate_targets',\n",
       " '_warn_from_fit_status',\n",
       " 'cache_size',\n",
       " 'class_weight',\n",
       " 'class_weight_',\n",
       " 'coef0',\n",
       " 'coef_',\n",
       " 'degree',\n",
       " 'dual_coef_',\n",
       " 'epsilon',\n",
       " 'feature_names_in_',\n",
       " 'fit',\n",
       " 'fit_status_',\n",
       " 'gamma',\n",
       " 'get_params',\n",
       " 'intercept_',\n",
       " 'kernel',\n",
       " 'max_iter',\n",
       " 'n_features_in_',\n",
       " 'n_iter_',\n",
       " 'n_support_',\n",
       " 'nu',\n",
       " 'predict',\n",
       " 'probability',\n",
       " 'random_state',\n",
       " 'score',\n",
       " 'set_params',\n",
       " 'shape_fit_',\n",
       " 'shrinking',\n",
       " 'support_',\n",
       " 'support_vectors_',\n",
       " 'tol',\n",
       " 'verbose']"
      ]
     },
     "execution_count": 69,
     "metadata": {},
     "output_type": "execute_result"
    }
   ],
   "source": [
    "dir(svr_model)"
   ]
  },
  {
   "cell_type": "code",
   "execution_count": 70,
   "metadata": {},
   "outputs": [],
   "source": [
    "y_pred = svr_model.predict(X_train)\n",
    "y_pred = svr_model.predict(X_test)"
   ]
  },
  {
   "cell_type": "code",
   "execution_count": 71,
   "metadata": {},
   "outputs": [
    {
     "data": {
      "text/plain": [
       "array([-80.15196063])"
      ]
     },
     "execution_count": 71,
     "metadata": {},
     "output_type": "execute_result"
    }
   ],
   "source": [
    "svr_model.intercept_"
   ]
  },
  {
   "cell_type": "code",
   "execution_count": 72,
   "metadata": {},
   "outputs": [
    {
     "data": {
      "text/plain": [
       "array([[ -1.2183904 ,   6.09602978,  -3.67574533,   0.14217072,\n",
       "          0.51435925,   1.28388992,  12.55922527,  -0.08693754,\n",
       "          0.46597185,   2.98259931,   0.52944513,  -0.79820793,\n",
       "         -0.16015531,   0.30872795,   0.28842348,  -1.79560066,\n",
       "          6.41868986, -10.74313785,   1.33374319]])"
      ]
     },
     "execution_count": 72,
     "metadata": {},
     "output_type": "execute_result"
    }
   ],
   "source": [
    "svr_model.coef_"
   ]
  },
  {
   "cell_type": "code",
   "execution_count": 73,
   "metadata": {},
   "outputs": [
    {
     "data": {
      "text/plain": [
       "370.0408415795005"
      ]
     },
     "execution_count": 73,
     "metadata": {},
     "output_type": "execute_result"
    }
   ],
   "source": [
    "#test\n",
    "np.sqrt(mean_squared_error(y_test,y_pred))"
   ]
  },
  {
   "attachments": {},
   "cell_type": "markdown",
   "metadata": {},
   "source": [
    "# MODEL TUNİNG"
   ]
  },
  {
   "cell_type": "code",
   "execution_count": 74,
   "metadata": {},
   "outputs": [],
   "source": [
    "svr_model = SVR(kernel=\"linear\")"
   ]
  },
  {
   "cell_type": "code",
   "execution_count": 75,
   "metadata": {},
   "outputs": [],
   "source": [
    "svr_params = {\"C\":[0.1,0.5,1,3]}"
   ]
  },
  {
   "cell_type": "code",
   "execution_count": 76,
   "metadata": {},
   "outputs": [
    {
     "name": "stdout",
     "output_type": "stream",
     "text": [
      "Fitting 5 folds for each of 4 candidates, totalling 20 fits\n"
     ]
    }
   ],
   "source": [
    "svr_cv_model = GridSearchCV(svr_model,svr_params,cv=5,verbose=2,n_jobs=-1).fit(X_train,y_train)"
   ]
  },
  {
   "cell_type": "code",
   "execution_count": 77,
   "metadata": {},
   "outputs": [
    {
     "data": {
      "text/plain": [
       "{'C': 0.5}"
      ]
     },
     "execution_count": 77,
     "metadata": {},
     "output_type": "execute_result"
    }
   ],
   "source": [
    "svr_cv_model.best_params_"
   ]
  },
  {
   "cell_type": "code",
   "execution_count": 78,
   "metadata": {},
   "outputs": [
    {
     "data": {
      "text/plain": [
       "367.98747616655294"
      ]
     },
     "execution_count": 78,
     "metadata": {},
     "output_type": "execute_result"
    }
   ],
   "source": [
    "svr_tuned = SVR(kernel=\"linear\",C=0.5).fit(X_train,y_train)\n",
    "y_pred = svr_tuned.predict(X_test)\n",
    "np.sqrt(mean_squared_error(y_test,y_pred))"
   ]
  },
  {
   "attachments": {},
   "cell_type": "markdown",
   "metadata": {},
   "source": [
    "# YAPAY SİNİR AĞLARI"
   ]
  },
  {
   "cell_type": "code",
   "execution_count": 79,
   "metadata": {},
   "outputs": [],
   "source": [
    "df = pd.read_csv(\"Hitters.csv\")\n",
    "df = df.dropna()\n",
    "dms = pd.get_dummies(df[[\"League\",\"Division\",\"NewLeague\"]])\n",
    "y = df[\"Salary\"]\n",
    "X_ = df.drop([\"Salary\",\"League\",\"Division\",\"NewLeague\"],axis=1).astype(\"float64\")\n",
    "X = pd.concat([X_,dms[[\"League_N\",\"Division_W\",\"NewLeague_N\"]]],axis=1)\n",
    "X_train , X_test,y_train,y_test = train_test_split(X,y,test_size=0.25,random_state=42)\n"
   ]
  },
  {
   "attachments": {},
   "cell_type": "markdown",
   "metadata": {},
   "source": [
    "# MODEL & TAHMİN"
   ]
  },
  {
   "attachments": {},
   "cell_type": "markdown",
   "metadata": {},
   "source": [
    "# ön işleme yapılmak zorundandır"
   ]
  },
  {
   "cell_type": "code",
   "execution_count": 80,
   "metadata": {},
   "outputs": [],
   "source": [
    "scaler = StandardScaler()\n",
    "scaler.fit(X_train)\n",
    "X_train_scaled = scaler.transform(X_train)\n",
    "scaler.fit(X_test)\n",
    "X_test_scaled = scaler.transform(X_test)"
   ]
  },
  {
   "cell_type": "code",
   "execution_count": 81,
   "metadata": {},
   "outputs": [],
   "source": [
    "mlp_model = MLPRegressor().fit(X_train_scaled,y_train)"
   ]
  },
  {
   "cell_type": "code",
   "execution_count": 82,
   "metadata": {},
   "outputs": [],
   "source": [
    "y_pred = mlp_model.predict(X_test_scaled)"
   ]
  },
  {
   "cell_type": "code",
   "execution_count": 83,
   "metadata": {},
   "outputs": [
    {
     "data": {
      "text/plain": [
       "656.7235804092862"
      ]
     },
     "execution_count": 83,
     "metadata": {},
     "output_type": "execute_result"
    }
   ],
   "source": [
    "np.sqrt(mean_squared_error(y_test,y_pred))"
   ]
  },
  {
   "attachments": {},
   "cell_type": "markdown",
   "metadata": {},
   "source": [
    "# MODEL TUNİNG"
   ]
  },
  {
   "cell_type": "code",
   "execution_count": 84,
   "metadata": {},
   "outputs": [],
   "source": [
    "mlp_params = {\"alpha\":[0.1,0.01,0.02,0.001,0.0001],\n",
    " \"hidden_layer_sizes\":[(10,20),(5,5),(100,100)]}"
   ]
  },
  {
   "cell_type": "code",
   "execution_count": 85,
   "metadata": {},
   "outputs": [
    {
     "name": "stdout",
     "output_type": "stream",
     "text": [
      "Fitting 10 folds for each of 15 candidates, totalling 150 fits\n"
     ]
    }
   ],
   "source": [
    "mlp_cv_model = GridSearchCV(mlp_model,mlp_params,verbose=2,n_jobs=-1,cv=10).fit(X_train_scaled,y_train)"
   ]
  },
  {
   "cell_type": "code",
   "execution_count": 86,
   "metadata": {},
   "outputs": [
    {
     "data": {
      "text/plain": [
       "{'alpha': 0.02, 'hidden_layer_sizes': (100, 100)}"
      ]
     },
     "execution_count": 86,
     "metadata": {},
     "output_type": "execute_result"
    }
   ],
   "source": [
    "mlp_cv_model.best_params_"
   ]
  },
  {
   "cell_type": "code",
   "execution_count": 87,
   "metadata": {},
   "outputs": [],
   "source": [
    "#final\n",
    "mlp_tuned = MLPRegressor(alpha=0.01,hidden_layer_sizes=(100,100)).fit(X_train_scaled,y_train)"
   ]
  },
  {
   "cell_type": "code",
   "execution_count": 88,
   "metadata": {},
   "outputs": [],
   "source": [
    "y_pred = mlp_tuned.predict(X_test_scaled)"
   ]
  },
  {
   "cell_type": "code",
   "execution_count": 89,
   "metadata": {},
   "outputs": [
    {
     "data": {
      "text/plain": [
       "358.3579790543064"
      ]
     },
     "execution_count": 89,
     "metadata": {},
     "output_type": "execute_result"
    }
   ],
   "source": [
    "np.sqrt(mean_squared_error(y_test,y_pred))"
   ]
  },
  {
   "attachments": {},
   "cell_type": "markdown",
   "metadata": {},
   "source": [
    "# CART"
   ]
  },
  {
   "attachments": {},
   "cell_type": "markdown",
   "metadata": {},
   "source": [
    "# MODEL & TAHMİN"
   ]
  },
  {
   "cell_type": "code",
   "execution_count": 90,
   "metadata": {},
   "outputs": [],
   "source": [
    "df = pd.read_csv(\"Hitters.csv\")\n",
    "df = df.dropna()\n",
    "dms = pd.get_dummies(df[[\"League\",\"Division\",\"NewLeague\"]])\n",
    "y = df[\"Salary\"]\n",
    "X_ = df.drop([\"Salary\",\"League\",\"Division\",\"NewLeague\"],axis=1).astype(\"float64\")\n",
    "X = pd.concat([X_,dms[[\"League_N\",\"Division_W\",\"NewLeague_N\"]]],axis=1)\n",
    "X_train , X_test,y_train,y_test = train_test_split(X,y,test_size=0.25,random_state=42)\n"
   ]
  },
  {
   "cell_type": "code",
   "execution_count": 91,
   "metadata": {},
   "outputs": [],
   "source": [
    "X_train = pd.DataFrame(X_train[\"Hits\"])\n",
    "X_test = pd.DataFrame(X_test[\"Hits\"])"
   ]
  },
  {
   "cell_type": "code",
   "execution_count": 92,
   "metadata": {},
   "outputs": [],
   "source": [
    "cart_model = DecisionTreeRegressor()"
   ]
  },
  {
   "cell_type": "code",
   "execution_count": 93,
   "metadata": {},
   "outputs": [
    {
     "data": {
      "text/html": [
       "<style>#sk-container-id-5 {color: black;background-color: white;}#sk-container-id-5 pre{padding: 0;}#sk-container-id-5 div.sk-toggleable {background-color: white;}#sk-container-id-5 label.sk-toggleable__label {cursor: pointer;display: block;width: 100%;margin-bottom: 0;padding: 0.3em;box-sizing: border-box;text-align: center;}#sk-container-id-5 label.sk-toggleable__label-arrow:before {content: \"▸\";float: left;margin-right: 0.25em;color: #696969;}#sk-container-id-5 label.sk-toggleable__label-arrow:hover:before {color: black;}#sk-container-id-5 div.sk-estimator:hover label.sk-toggleable__label-arrow:before {color: black;}#sk-container-id-5 div.sk-toggleable__content {max-height: 0;max-width: 0;overflow: hidden;text-align: left;background-color: #f0f8ff;}#sk-container-id-5 div.sk-toggleable__content pre {margin: 0.2em;color: black;border-radius: 0.25em;background-color: #f0f8ff;}#sk-container-id-5 input.sk-toggleable__control:checked~div.sk-toggleable__content {max-height: 200px;max-width: 100%;overflow: auto;}#sk-container-id-5 input.sk-toggleable__control:checked~label.sk-toggleable__label-arrow:before {content: \"▾\";}#sk-container-id-5 div.sk-estimator input.sk-toggleable__control:checked~label.sk-toggleable__label {background-color: #d4ebff;}#sk-container-id-5 div.sk-label input.sk-toggleable__control:checked~label.sk-toggleable__label {background-color: #d4ebff;}#sk-container-id-5 input.sk-hidden--visually {border: 0;clip: rect(1px 1px 1px 1px);clip: rect(1px, 1px, 1px, 1px);height: 1px;margin: -1px;overflow: hidden;padding: 0;position: absolute;width: 1px;}#sk-container-id-5 div.sk-estimator {font-family: monospace;background-color: #f0f8ff;border: 1px dotted black;border-radius: 0.25em;box-sizing: border-box;margin-bottom: 0.5em;}#sk-container-id-5 div.sk-estimator:hover {background-color: #d4ebff;}#sk-container-id-5 div.sk-parallel-item::after {content: \"\";width: 100%;border-bottom: 1px solid gray;flex-grow: 1;}#sk-container-id-5 div.sk-label:hover label.sk-toggleable__label {background-color: #d4ebff;}#sk-container-id-5 div.sk-serial::before {content: \"\";position: absolute;border-left: 1px solid gray;box-sizing: border-box;top: 0;bottom: 0;left: 50%;z-index: 0;}#sk-container-id-5 div.sk-serial {display: flex;flex-direction: column;align-items: center;background-color: white;padding-right: 0.2em;padding-left: 0.2em;position: relative;}#sk-container-id-5 div.sk-item {position: relative;z-index: 1;}#sk-container-id-5 div.sk-parallel {display: flex;align-items: stretch;justify-content: center;background-color: white;position: relative;}#sk-container-id-5 div.sk-item::before, #sk-container-id-5 div.sk-parallel-item::before {content: \"\";position: absolute;border-left: 1px solid gray;box-sizing: border-box;top: 0;bottom: 0;left: 50%;z-index: -1;}#sk-container-id-5 div.sk-parallel-item {display: flex;flex-direction: column;z-index: 1;position: relative;background-color: white;}#sk-container-id-5 div.sk-parallel-item:first-child::after {align-self: flex-end;width: 50%;}#sk-container-id-5 div.sk-parallel-item:last-child::after {align-self: flex-start;width: 50%;}#sk-container-id-5 div.sk-parallel-item:only-child::after {width: 0;}#sk-container-id-5 div.sk-dashed-wrapped {border: 1px dashed gray;margin: 0 0.4em 0.5em 0.4em;box-sizing: border-box;padding-bottom: 0.4em;background-color: white;}#sk-container-id-5 div.sk-label label {font-family: monospace;font-weight: bold;display: inline-block;line-height: 1.2em;}#sk-container-id-5 div.sk-label-container {text-align: center;}#sk-container-id-5 div.sk-container {/* jupyter's `normalize.less` sets `[hidden] { display: none; }` but bootstrap.min.css set `[hidden] { display: none !important; }` so we also need the `!important` here to be able to override the default hidden behavior on the sphinx rendered scikit-learn.org. See: https://github.com/scikit-learn/scikit-learn/issues/21755 */display: inline-block !important;position: relative;}#sk-container-id-5 div.sk-text-repr-fallback {display: none;}</style><div id=\"sk-container-id-5\" class=\"sk-top-container\"><div class=\"sk-text-repr-fallback\"><pre>DecisionTreeRegressor()</pre><b>In a Jupyter environment, please rerun this cell to show the HTML representation or trust the notebook. <br />On GitHub, the HTML representation is unable to render, please try loading this page with nbviewer.org.</b></div><div class=\"sk-container\" hidden><div class=\"sk-item\"><div class=\"sk-estimator sk-toggleable\"><input class=\"sk-toggleable__control sk-hidden--visually\" id=\"sk-estimator-id-5\" type=\"checkbox\" checked><label for=\"sk-estimator-id-5\" class=\"sk-toggleable__label sk-toggleable__label-arrow\">DecisionTreeRegressor</label><div class=\"sk-toggleable__content\"><pre>DecisionTreeRegressor()</pre></div></div></div></div></div>"
      ],
      "text/plain": [
       "DecisionTreeRegressor()"
      ]
     },
     "execution_count": 93,
     "metadata": {},
     "output_type": "execute_result"
    }
   ],
   "source": [
    "cart_model.fit(X_train,y_train)"
   ]
  },
  {
   "cell_type": "code",
   "execution_count": 94,
   "metadata": {},
   "outputs": [
    {
     "data": {
      "text/plain": [
       "[<matplotlib.lines.Line2D at 0x150e37eb910>]"
      ]
     },
     "execution_count": 94,
     "metadata": {},
     "output_type": "execute_result"
    },
    {
     "data": {
      "image/png": "[encoded data removed]",
      "text/plain": [
       "<Figure size 640x480 with 1 Axes>"
      ]
     },
     "metadata": {},
     "output_type": "display_data"
    }
   ],
   "source": [
    "X_grid = np.arange(min(np.array(X_train)),max(np.array(X_train)),0.01)\n",
    "X_grid = X_grid.reshape(len(X_grid),1)\n",
    "plt.scatter(X_train,y_train,color=\"red\")\n",
    "plt.plot(X_grid,cart_model.predict(X_grid),color=\"blue\")\n"
   ]
  },
  {
   "cell_type": "code",
   "execution_count": 95,
   "metadata": {},
   "outputs": [],
   "source": [
    "#tahmin\n",
    "y_pred = cart_model.predict(X_test)"
   ]
  },
  {
   "cell_type": "code",
   "execution_count": 96,
   "metadata": {},
   "outputs": [
    {
     "data": {
      "text/plain": [
       "468.49579052913884"
      ]
     },
     "execution_count": 96,
     "metadata": {},
     "output_type": "execute_result"
    }
   ],
   "source": [
    "np.sqrt(mean_squared_error(y_test,y_pred))"
   ]
  },
  {
   "cell_type": "code",
   "execution_count": 97,
   "metadata": {},
   "outputs": [],
   "source": [
    "df = pd.read_csv(\"Hitters.csv\")\n",
    "df = df.dropna()\n",
    "dms = pd.get_dummies(df[[\"League\",\"Division\",\"NewLeague\"]])\n",
    "y = df[\"Salary\"]\n",
    "X_ = df.drop([\"Salary\",\"League\",\"Division\",\"NewLeague\"],axis=1).astype(\"float64\")\n",
    "X = pd.concat([X_,dms[[\"League_N\",\"Division_W\",\"NewLeague_N\"]]],axis=1)\n",
    "X_train , X_test,y_train,y_test = train_test_split(X,y,test_size=0.25,random_state=42)\n"
   ]
  },
  {
   "cell_type": "code",
   "execution_count": 98,
   "metadata": {},
   "outputs": [],
   "source": [
    "cart_model = DecisionTreeRegressor().fit(X_train,y_train)"
   ]
  },
  {
   "cell_type": "code",
   "execution_count": 99,
   "metadata": {},
   "outputs": [],
   "source": [
    "y_pred = cart_model.predict(X_test)"
   ]
  },
  {
   "cell_type": "code",
   "execution_count": 100,
   "metadata": {},
   "outputs": [
    {
     "data": {
      "text/plain": [
       "516.0795297967576"
      ]
     },
     "execution_count": 100,
     "metadata": {},
     "output_type": "execute_result"
    }
   ],
   "source": [
    "np.sqrt(mean_squared_error(y_test,y_pred))"
   ]
  },
  {
   "attachments": {},
   "cell_type": "markdown",
   "metadata": {},
   "source": [
    "# MODEL TUNİNG"
   ]
  },
  {
   "cell_type": "code",
   "execution_count": 101,
   "metadata": {},
   "outputs": [
    {
     "data": {
      "text/html": [
       "<style>#sk-container-id-6 {color: black;background-color: white;}#sk-container-id-6 pre{padding: 0;}#sk-container-id-6 div.sk-toggleable {background-color: white;}#sk-container-id-6 label.sk-toggleable__label {cursor: pointer;display: block;width: 100%;margin-bottom: 0;padding: 0.3em;box-sizing: border-box;text-align: center;}#sk-container-id-6 label.sk-toggleable__label-arrow:before {content: \"▸\";float: left;margin-right: 0.25em;color: #696969;}#sk-container-id-6 label.sk-toggleable__label-arrow:hover:before {color: black;}#sk-container-id-6 div.sk-estimator:hover label.sk-toggleable__label-arrow:before {color: black;}#sk-container-id-6 div.sk-toggleable__content {max-height: 0;max-width: 0;overflow: hidden;text-align: left;background-color: #f0f8ff;}#sk-container-id-6 div.sk-toggleable__content pre {margin: 0.2em;color: black;border-radius: 0.25em;background-color: #f0f8ff;}#sk-container-id-6 input.sk-toggleable__control:checked~div.sk-toggleable__content {max-height: 200px;max-width: 100%;overflow: auto;}#sk-container-id-6 input.sk-toggleable__control:checked~label.sk-toggleable__label-arrow:before {content: \"▾\";}#sk-container-id-6 div.sk-estimator input.sk-toggleable__control:checked~label.sk-toggleable__label {background-color: #d4ebff;}#sk-container-id-6 div.sk-label input.sk-toggleable__control:checked~label.sk-toggleable__label {background-color: #d4ebff;}#sk-container-id-6 input.sk-hidden--visually {border: 0;clip: rect(1px 1px 1px 1px);clip: rect(1px, 1px, 1px, 1px);height: 1px;margin: -1px;overflow: hidden;padding: 0;position: absolute;width: 1px;}#sk-container-id-6 div.sk-estimator {font-family: monospace;background-color: #f0f8ff;border: 1px dotted black;border-radius: 0.25em;box-sizing: border-box;margin-bottom: 0.5em;}#sk-container-id-6 div.sk-estimator:hover {background-color: #d4ebff;}#sk-container-id-6 div.sk-parallel-item::after {content: \"\";width: 100%;border-bottom: 1px solid gray;flex-grow: 1;}#sk-container-id-6 div.sk-label:hover label.sk-toggleable__label {background-color: #d4ebff;}#sk-container-id-6 div.sk-serial::before {content: \"\";position: absolute;border-left: 1px solid gray;box-sizing: border-box;top: 0;bottom: 0;left: 50%;z-index: 0;}#sk-container-id-6 div.sk-serial {display: flex;flex-direction: column;align-items: center;background-color: white;padding-right: 0.2em;padding-left: 0.2em;position: relative;}#sk-container-id-6 div.sk-item {position: relative;z-index: 1;}#sk-container-id-6 div.sk-parallel {display: flex;align-items: stretch;justify-content: center;background-color: white;position: relative;}#sk-container-id-6 div.sk-item::before, #sk-container-id-6 div.sk-parallel-item::before {content: \"\";position: absolute;border-left: 1px solid gray;box-sizing: border-box;top: 0;bottom: 0;left: 50%;z-index: -1;}#sk-container-id-6 div.sk-parallel-item {display: flex;flex-direction: column;z-index: 1;position: relative;background-color: white;}#sk-container-id-6 div.sk-parallel-item:first-child::after {align-self: flex-end;width: 50%;}#sk-container-id-6 div.sk-parallel-item:last-child::after {align-self: flex-start;width: 50%;}#sk-container-id-6 div.sk-parallel-item:only-child::after {width: 0;}#sk-container-id-6 div.sk-dashed-wrapped {border: 1px dashed gray;margin: 0 0.4em 0.5em 0.4em;box-sizing: border-box;padding-bottom: 0.4em;background-color: white;}#sk-container-id-6 div.sk-label label {font-family: monospace;font-weight: bold;display: inline-block;line-height: 1.2em;}#sk-container-id-6 div.sk-label-container {text-align: center;}#sk-container-id-6 div.sk-container {/* jupyter's `normalize.less` sets `[hidden] { display: none; }` but bootstrap.min.css set `[hidden] { display: none !important; }` so we also need the `!important` here to be able to override the default hidden behavior on the sphinx rendered scikit-learn.org. See: https://github.com/scikit-learn/scikit-learn/issues/21755 */display: inline-block !important;position: relative;}#sk-container-id-6 div.sk-text-repr-fallback {display: none;}</style><div id=\"sk-container-id-6\" class=\"sk-top-container\"><div class=\"sk-text-repr-fallback\"><pre>DecisionTreeRegressor()</pre><b>In a Jupyter environment, please rerun this cell to show the HTML representation or trust the notebook. <br />On GitHub, the HTML representation is unable to render, please try loading this page with nbviewer.org.</b></div><div class=\"sk-container\" hidden><div class=\"sk-item\"><div class=\"sk-estimator sk-toggleable\"><input class=\"sk-toggleable__control sk-hidden--visually\" id=\"sk-estimator-id-6\" type=\"checkbox\" checked><label for=\"sk-estimator-id-6\" class=\"sk-toggleable__label sk-toggleable__label-arrow\">DecisionTreeRegressor</label><div class=\"sk-toggleable__content\"><pre>DecisionTreeRegressor()</pre></div></div></div></div></div>"
      ],
      "text/plain": [
       "DecisionTreeRegressor()"
      ]
     },
     "execution_count": 101,
     "metadata": {},
     "output_type": "execute_result"
    }
   ],
   "source": [
    "cart_model"
   ]
  },
  {
   "cell_type": "code",
   "execution_count": 104,
   "metadata": {},
   "outputs": [
    {
     "data": {
      "text/plain": [
       "435.5080020622849"
      ]
     },
     "execution_count": 104,
     "metadata": {},
     "output_type": "execute_result"
    }
   ],
   "source": [
    "cart_model = DecisionTreeRegressor(max_depth=5).fit(X_train,y_train)\n",
    "y_pred = cart_model.predict(X_test)\n",
    "np.sqrt(mean_squared_error(y_test,y_pred))"
   ]
  },
  {
   "cell_type": "code",
   "execution_count": 110,
   "metadata": {},
   "outputs": [],
   "source": [
    "cart_params = {\"max_depth\":[2,3,4,5,10,20],\n",
    "                \"min_samples_split\":[2,10,5,30,50,10]}\n",
    "cart_model = DecisionTreeRegressor()\n",
    "cart_cv_model = GridSearchCV(cart_model,cart_params,cv=10).fit(X_train,y_train)"
   ]
  },
  {
   "cell_type": "code",
   "execution_count": 111,
   "metadata": {},
   "outputs": [
    {
     "data": {
      "text/plain": [
       "{'max_depth': 4, 'min_samples_split': 50}"
      ]
     },
     "execution_count": 111,
     "metadata": {},
     "output_type": "execute_result"
    }
   ],
   "source": [
    "cart_cv_model.best_params_"
   ]
  },
  {
   "cell_type": "code",
   "execution_count": 114,
   "metadata": {},
   "outputs": [
    {
     "data": {
      "text/plain": [
       "361.0876906511434"
      ]
     },
     "execution_count": 114,
     "metadata": {},
     "output_type": "execute_result"
    }
   ],
   "source": [
    "#final model \n",
    "cart_tuned_model = DecisionTreeRegressor(max_depth=4,min_samples_split=50).fit(X_train,y_train)\n",
    "y_pred = cart_tuned_model.predict(X_test)\n",
    "np.sqrt(mean_squared_error(y_test,y_pred))"
   ]
  },
  {
   "attachments": {},
   "cell_type": "markdown",
   "metadata": {},
   "source": [
    "# RANDOM FOREST"
   ]
  },
  {
   "attachments": {},
   "cell_type": "markdown",
   "metadata": {},
   "source": [
    "### bagging"
   ]
  },
  {
   "cell_type": "code",
   "execution_count": 115,
   "metadata": {},
   "outputs": [],
   "source": [
    "df = pd.read_csv(\"Hitters.csv\")\n",
    "df = df.dropna()\n",
    "dms = pd.get_dummies(df[[\"League\",\"Division\",\"NewLeague\"]])\n",
    "y = df[\"Salary\"]\n",
    "X_ = df.drop([\"Salary\",\"League\",\"Division\",\"NewLeague\"],axis=1).astype(\"float64\")\n",
    "X = pd.concat([X_,dms[[\"League_N\",\"Division_W\",\"NewLeague_N\"]]],axis=1)\n",
    "X_train , X_test,y_train,y_test = train_test_split(X,y,test_size=0.25,random_state=42)\n"
   ]
  },
  {
   "attachments": {},
   "cell_type": "markdown",
   "metadata": {},
   "source": [
    "# Model & Tahmin"
   ]
  },
  {
   "cell_type": "code",
   "execution_count": 131,
   "metadata": {},
   "outputs": [],
   "source": [
    "rf_model = RandomForestRegressor(random_state=42).fit(X_train,y_train)"
   ]
  },
  {
   "cell_type": "code",
   "execution_count": 132,
   "metadata": {},
   "outputs": [
    {
     "data": {
      "text/plain": [
       "344.8191624908484"
      ]
     },
     "execution_count": 132,
     "metadata": {},
     "output_type": "execute_result"
    }
   ],
   "source": [
    "y_pred = rf_model.predict(X_test)\n",
    "np.sqrt(mean_squared_error(y_test,y_pred))"
   ]
  },
  {
   "attachments": {},
   "cell_type": "markdown",
   "metadata": {},
   "source": [
    "# Model Tuning"
   ]
  },
  {
   "cell_type": "code",
   "execution_count": 139,
   "metadata": {},
   "outputs": [],
   "source": [
    "rf_params = {\"max_depth\":[8],\n",
    "        \"max_features\":[2],\n",
    "        \"n_estimators\":[200],\n",
    "        \"min_samples_split\":[2]}"
   ]
  },
  {
   "cell_type": "code",
   "execution_count": 140,
   "metadata": {},
   "outputs": [
    {
     "name": "stdout",
     "output_type": "stream",
     "text": [
      "Fitting 10 folds for each of 1 candidates, totalling 10 fits\n"
     ]
    }
   ],
   "source": [
    "rf_cv_model = GridSearchCV(rf_model,rf_params,cv=10,verbose=2,n_jobs=-1).fit(X_train,y_train)"
   ]
  },
  {
   "cell_type": "code",
   "execution_count": 141,
   "metadata": {},
   "outputs": [
    {
     "data": {
      "text/plain": [
       "{'max_depth': 8,\n",
       " 'max_features': 2,\n",
       " 'min_samples_split': 2,\n",
       " 'n_estimators': 200}"
      ]
     },
     "execution_count": 141,
     "metadata": {},
     "output_type": "execute_result"
    }
   ],
   "source": [
    "rf_cv_model.best_params_"
   ]
  },
  {
   "cell_type": "code",
   "execution_count": 142,
   "metadata": {},
   "outputs": [],
   "source": [
    "rf_model = RandomForestRegressor(random_state=42,max_depth=8,max_features=2,min_samples_split=2,n_estimators=200)\n",
    "rf_tuned = rf_model.fit(X_train,y_train)"
   ]
  },
  {
   "cell_type": "code",
   "execution_count": 143,
   "metadata": {},
   "outputs": [
    {
     "data": {
      "text/plain": [
       "349.1649379391149"
      ]
     },
     "execution_count": 143,
     "metadata": {},
     "output_type": "execute_result"
    }
   ],
   "source": [
    "y_pred = rf_tuned.predict(X_test)\n",
    "np.sqrt(mean_squared_error(y_test,y_pred))"
   ]
  },
  {
   "attachments": {},
   "cell_type": "markdown",
   "metadata": {},
   "source": [
    "# Değişken önem düzeyi"
   ]
  },
  {
   "attachments": {},
   "cell_type": "markdown",
   "metadata": {},
   "source": [
    "# GRADIENT BOOSTING MACHINES"
   ]
  },
  {
   "cell_type": "code",
   "execution_count": 144,
   "metadata": {},
   "outputs": [],
   "source": [
    "df = pd.read_csv(\"Hitters.csv\")\n",
    "df = df.dropna()\n",
    "dms = pd.get_dummies(df[[\"League\",\"Division\",\"NewLeague\"]])\n",
    "y = df[\"Salary\"]\n",
    "X_ = df.drop([\"Salary\",\"League\",\"Division\",\"NewLeague\"],axis=1).astype(\"float64\")\n",
    "X = pd.concat([X_,dms[[\"League_N\",\"Division_W\",\"NewLeague_N\"]]],axis=1)\n",
    "X_train , X_test,y_train,y_test = train_test_split(X,y,test_size=0.25,random_state=42)\n"
   ]
  },
  {
   "attachments": {},
   "cell_type": "markdown",
   "metadata": {},
   "source": [
    "# Model  tahmin"
   ]
  },
  {
   "cell_type": "code",
   "execution_count": 150,
   "metadata": {},
   "outputs": [],
   "source": [
    "gbm_model = GradientBoostingRegressor().fit(X_train,y_train)"
   ]
  },
  {
   "cell_type": "code",
   "execution_count": 151,
   "metadata": {},
   "outputs": [
    {
     "data": {
      "text/plain": [
       "349.87983285948815"
      ]
     },
     "execution_count": 151,
     "metadata": {},
     "output_type": "execute_result"
    }
   ],
   "source": [
    "y_pred = gbm_nodel.predict(X_test)\n",
    "np.sqrt(mean_squared_error(y_test,y_pred))"
   ]
  },
  {
   "attachments": {},
   "cell_type": "markdown",
   "metadata": {},
   "source": [
    "# Model tuning"
   ]
  },
  {
   "cell_type": "code",
   "execution_count": 154,
   "metadata": {},
   "outputs": [],
   "source": [
    "gbm_params = {\"learning_rate\":[0.1],\n",
    "              \"max_depth\":[3],\n",
    "              \"n_estimators\":[200],\n",
    "              \"subsample\":[1],\n",
    "              \"loss\":[\"lad\"]}"
   ]
  },
  {
   "cell_type": "code",
   "execution_count": 155,
   "metadata": {},
   "outputs": [
    {
     "name": "stdout",
     "output_type": "stream",
     "text": [
      "Fitting 10 folds for each of 1 candidates, totalling 10 fits\n"
     ]
    }
   ],
   "source": [
    "gmb_cv_model = GridSearchCV(gbm_model,gbm_params,cv=10,verbose=2,n_jobs=-1).fit(X_train,y_train)"
   ]
  },
  {
   "cell_type": "code",
   "execution_count": 157,
   "metadata": {},
   "outputs": [
    {
     "data": {
      "text/plain": [
       "{'learning_rate': 0.1,\n",
       " 'loss': 'lad',\n",
       " 'max_depth': 3,\n",
       " 'n_estimators': 200,\n",
       " 'subsample': 1}"
      ]
     },
     "execution_count": 157,
     "metadata": {},
     "output_type": "execute_result"
    }
   ],
   "source": [
    "gmb_cv_model.best_params_"
   ]
  },
  {
   "cell_type": "code",
   "execution_count": 158,
   "metadata": {},
   "outputs": [],
   "source": [
    "gmb_tuned = GradientBoostingRegressor(learning_rate=0.1,loss=\"lad\",max_depth=3,n_estimators=300,subsample=1).fit(X_train,y_train)"
   ]
  },
  {
   "cell_type": "code",
   "execution_count": 159,
   "metadata": {},
   "outputs": [
    {
     "data": {
      "text/plain": [
       "335.97895253708975"
      ]
     },
     "execution_count": 159,
     "metadata": {},
     "output_type": "execute_result"
    }
   ],
   "source": [
    "y_pred = gmb_tuned.predict(X_test)\n",
    "np.sqrt(mean_squared_error(y_test,y_pred))"
   ]
  },
  {
   "attachments": {},
   "cell_type": "markdown",
   "metadata": {},
   "source": [
    "# XG BOOST"
   ]
  },
  {
   "cell_type": "code",
   "execution_count": 160,
   "metadata": {},
   "outputs": [],
   "source": [
    "df = pd.read_csv(\"Hitters.csv\")\n",
    "df = df.dropna()\n",
    "dms = pd.get_dummies(df[[\"League\",\"Division\",\"NewLeague\"]])\n",
    "y = df[\"Salary\"]\n",
    "X_ = df.drop([\"Salary\",\"League\",\"Division\",\"NewLeague\"],axis=1).astype(\"float64\")\n",
    "X = pd.concat([X_,dms[[\"League_N\",\"Division_W\",\"NewLeague_N\"]]],axis=1)\n",
    "X_train , X_test,y_train,y_test = train_test_split(X,y,test_size=0.25,random_state=42)\n"
   ]
  },
  {
   "cell_type": "code",
   "execution_count": 161,
   "metadata": {},
   "outputs": [],
   "source": [
    "import xgboost\n",
    "from xgboost import XGBRegressor"
   ]
  },
  {
   "cell_type": "code",
   "execution_count": 162,
   "metadata": {},
   "outputs": [],
   "source": [
    "xgb = XGBRegressor().fit(X_train,y_train)"
   ]
  },
  {
   "cell_type": "code",
   "execution_count": 163,
   "metadata": {},
   "outputs": [
    {
     "data": {
      "text/plain": [
       "355.46515176059927"
      ]
     },
     "execution_count": 163,
     "metadata": {},
     "output_type": "execute_result"
    }
   ],
   "source": [
    "y_pred = xgb.predict(X_test)\n",
    "np.sqrt(mean_squared_error(y_test,y_pred))"
   ]
  },
  {
   "attachments": {},
   "cell_type": "markdown",
   "metadata": {},
   "source": [
    "# model tuning"
   ]
  },
  {
   "cell_type": "code",
   "execution_count": 166,
   "metadata": {},
   "outputs": [],
   "source": [
    "xgb_params = {\"learning_rate\":[0.5],\n",
    "              \"max_depth\":[2],\n",
    "              \"n_estimators\":[100],\n",
    "              \"colsample_bytree\":[0.7]}"
   ]
  },
  {
   "cell_type": "code",
   "execution_count": 167,
   "metadata": {},
   "outputs": [
    {
     "name": "stdout",
     "output_type": "stream",
     "text": [
      "Fitting 10 folds for each of 1 candidates, totalling 10 fits\n"
     ]
    }
   ],
   "source": [
    "xgb_cv_model = GridSearchCV(xgb,xgb_params,cv=10,verbose=2,n_jobs=-1).fit(X_train,y_train)"
   ]
  },
  {
   "cell_type": "code",
   "execution_count": 168,
   "metadata": {},
   "outputs": [
    {
     "data": {
      "text/plain": [
       "{'colsample_bytree': 0.7,\n",
       " 'learning_rate': 0.5,\n",
       " 'max_depth': 2,\n",
       " 'n_estimators': 100}"
      ]
     },
     "execution_count": 168,
     "metadata": {},
     "output_type": "execute_result"
    }
   ],
   "source": [
    "xgb_cv_model.best_params_"
   ]
  },
  {
   "cell_type": "code",
   "execution_count": 169,
   "metadata": {},
   "outputs": [],
   "source": [
    "xgb_tuned_model = XGBRegressor(colsample_bytree=0.7,learning_rate=0.5,max_depth=2,n_estimators=100).fit(X_train,y_train)"
   ]
  },
  {
   "cell_type": "code",
   "execution_count": 170,
   "metadata": {},
   "outputs": [
    {
     "data": {
      "text/plain": [
       "333.77027174571015"
      ]
     },
     "execution_count": 170,
     "metadata": {},
     "output_type": "execute_result"
    }
   ],
   "source": [
    "y_pred = xgb_tuned_model.predict(X_test)\n",
    "np.sqrt(mean_squared_error(y_test,y_pred))"
   ]
  },
  {
   "attachments": {},
   "cell_type": "markdown",
   "metadata": {},
   "source": [
    "# Light GBM"
   ]
  },
  {
   "cell_type": "code",
   "execution_count": 171,
   "metadata": {},
   "outputs": [],
   "source": [
    "df = pd.read_csv(\"Hitters.csv\")\n",
    "df = df.dropna()\n",
    "dms = pd.get_dummies(df[[\"League\",\"Division\",\"NewLeague\"]])\n",
    "y = df[\"Salary\"]\n",
    "X_ = df.drop([\"Salary\",\"League\",\"Division\",\"NewLeague\"],axis=1).astype(\"float64\")\n",
    "X = pd.concat([X_,dms[[\"League_N\",\"Division_W\",\"NewLeague_N\"]]],axis=1)\n",
    "X_train , X_test,y_train,y_test = train_test_split(X,y,test_size=0.25,random_state=42)\n"
   ]
  },
  {
   "cell_type": "code",
   "execution_count": 173,
   "metadata": {},
   "outputs": [],
   "source": [
    "from lightgbm import LGBMRegressor\n",
    "lgb_model = LGBMRegressor().fit(X_train,y_train)"
   ]
  },
  {
   "cell_type": "code",
   "execution_count": 174,
   "metadata": {},
   "outputs": [],
   "source": [
    "y_pred= lgb_model.predict(X_test)"
   ]
  },
  {
   "cell_type": "code",
   "execution_count": 175,
   "metadata": {},
   "outputs": [
    {
     "data": {
      "text/plain": [
       "363.8712087611089"
      ]
     },
     "execution_count": 175,
     "metadata": {},
     "output_type": "execute_result"
    }
   ],
   "source": [
    "np.sqrt(mean_squared_error(y_test,y_pred))"
   ]
  },
  {
   "attachments": {},
   "cell_type": "markdown",
   "metadata": {},
   "source": [
    "# Model tuning"
   ]
  },
  {
   "cell_type": "code",
   "execution_count": 177,
   "metadata": {},
   "outputs": [],
   "source": [
    "lgm_params = {\"learning_rate\":[0.7],\n",
    "              \"max_depth\":[2],\n",
    "              \"n_estimators\":[100]\n",
    "              }"
   ]
  },
  {
   "cell_type": "code",
   "execution_count": 178,
   "metadata": {},
   "outputs": [
    {
     "name": "stdout",
     "output_type": "stream",
     "text": [
      "Fitting 10 folds for each of 1 candidates, totalling 10 fits\n"
     ]
    }
   ],
   "source": [
    "lgbm_cv_model = GridSearchCV(lgb_model,lgm_params,verbose=2,n_jobs=-1,cv=10).fit(X_train,y_train)"
   ]
  },
  {
   "cell_type": "code",
   "execution_count": 179,
   "metadata": {},
   "outputs": [
    {
     "data": {
      "text/plain": [
       "{'learning_rate': 0.7, 'max_depth': 2, 'n_estimators': 100}"
      ]
     },
     "execution_count": 179,
     "metadata": {},
     "output_type": "execute_result"
    }
   ],
   "source": [
    "lgbm_cv_model.best_params_"
   ]
  },
  {
   "cell_type": "code",
   "execution_count": 180,
   "metadata": {},
   "outputs": [],
   "source": [
    "lgb_tuned_model = LGBMRegressor(learning_rate=0.7,max_depth=2,n_estimators=100).fit(X_train,y_train)"
   ]
  },
  {
   "cell_type": "code",
   "execution_count": 182,
   "metadata": {},
   "outputs": [],
   "source": [
    "y_pred = lgb_tuned_model.predict(X_test)"
   ]
  },
  {
   "cell_type": "code",
   "execution_count": 183,
   "metadata": {},
   "outputs": [
    {
     "data": {
      "text/plain": [
       "380.31840329595826"
      ]
     },
     "execution_count": 183,
     "metadata": {},
     "output_type": "execute_result"
    }
   ],
   "source": [
    "np.sqrt(mean_squared_error(y_test,y_pred))"
   ]
  },
  {
   "attachments": {},
   "cell_type": "markdown",
   "metadata": {},
   "source": [
    "# CAT BOOST"
   ]
  },
  {
   "attachments": {},
   "cell_type": "markdown",
   "metadata": {},
   "source": [
    "# model"
   ]
  },
  {
   "cell_type": "code",
   "execution_count": 184,
   "metadata": {},
   "outputs": [],
   "source": [
    "df = pd.read_csv(\"Hitters.csv\")\n",
    "df = df.dropna()\n",
    "dms = pd.get_dummies(df[[\"League\",\"Division\",\"NewLeague\"]])\n",
    "y = df[\"Salary\"]\n",
    "X_ = df.drop([\"Salary\",\"League\",\"Division\",\"NewLeague\"],axis=1).astype(\"float64\")\n",
    "X = pd.concat([X_,dms[[\"League_N\",\"Division_W\",\"NewLeague_N\"]]],axis=1)\n",
    "X_train , X_test,y_train,y_test = train_test_split(X,y,test_size=0.25,random_state=42)\n"
   ]
  },
  {
   "cell_type": "code",
   "execution_count": 185,
   "metadata": {},
   "outputs": [],
   "source": [
    "from catboost import CatBoostRegressor"
   ]
  },
  {
   "cell_type": "code",
   "execution_count": 186,
   "metadata": {},
   "outputs": [
    {
     "name": "stdout",
     "output_type": "stream",
     "text": [
      "Learning rate set to 0.031674\n",
      "0:\tlearn: 437.6430699\ttotal: 145ms\tremaining: 2m 25s\n",
      "1:\tlearn: 431.3923642\ttotal: 147ms\tremaining: 1m 13s\n",
      "2:\tlearn: 424.8820360\ttotal: 148ms\tremaining: 49.3s\n",
      "3:\tlearn: 418.2514904\ttotal: 150ms\tremaining: 37.4s\n",
      "4:\tlearn: 412.6394021\ttotal: 152ms\tremaining: 30.2s\n",
      "5:\tlearn: 406.6247020\ttotal: 153ms\tremaining: 25.4s\n",
      "6:\tlearn: 400.5321206\ttotal: 155ms\tremaining: 22s\n",
      "7:\tlearn: 394.6683437\ttotal: 157ms\tremaining: 19.4s\n",
      "8:\tlearn: 388.2496484\ttotal: 158ms\tremaining: 17.4s\n",
      "9:\tlearn: 382.9448842\ttotal: 160ms\tremaining: 15.9s\n",
      "10:\tlearn: 377.2600080\ttotal: 167ms\tremaining: 15s\n",
      "11:\tlearn: 372.4829606\ttotal: 169ms\tremaining: 13.9s\n",
      "12:\tlearn: 366.6823437\ttotal: 170ms\tremaining: 12.9s\n",
      "13:\tlearn: 362.6076230\ttotal: 172ms\tremaining: 12.1s\n",
      "14:\tlearn: 358.0107745\ttotal: 176ms\tremaining: 11.5s\n",
      "15:\tlearn: 353.2802665\ttotal: 179ms\tremaining: 11s\n",
      "16:\tlearn: 348.5646265\ttotal: 180ms\tremaining: 10.4s\n",
      "17:\tlearn: 343.6407912\ttotal: 181ms\tremaining: 9.89s\n",
      "18:\tlearn: 339.2363847\ttotal: 183ms\tremaining: 9.44s\n",
      "19:\tlearn: 334.3431252\ttotal: 184ms\tremaining: 9.03s\n",
      "20:\tlearn: 330.3247028\ttotal: 186ms\tremaining: 8.66s\n",
      "21:\tlearn: 326.6118334\ttotal: 190ms\tremaining: 8.47s\n",
      "22:\tlearn: 322.7759981\ttotal: 194ms\tremaining: 8.23s\n",
      "23:\tlearn: 318.9511822\ttotal: 196ms\tremaining: 7.95s\n",
      "24:\tlearn: 315.4216253\ttotal: 198ms\tremaining: 7.72s\n",
      "25:\tlearn: 311.3551377\ttotal: 199ms\tremaining: 7.47s\n",
      "26:\tlearn: 308.1492371\ttotal: 204ms\tremaining: 7.33s\n",
      "27:\tlearn: 304.7284729\ttotal: 207ms\tremaining: 7.18s\n",
      "28:\tlearn: 301.3893204\ttotal: 209ms\tremaining: 7s\n",
      "29:\tlearn: 298.2080758\ttotal: 212ms\tremaining: 6.87s\n",
      "30:\tlearn: 295.6878398\ttotal: 219ms\tremaining: 6.84s\n",
      "31:\tlearn: 292.3912243\ttotal: 223ms\tremaining: 6.74s\n",
      "32:\tlearn: 289.6345744\ttotal: 227ms\tremaining: 6.64s\n",
      "33:\tlearn: 287.2158711\ttotal: 230ms\tremaining: 6.53s\n",
      "34:\tlearn: 284.3879081\ttotal: 236ms\tremaining: 6.49s\n",
      "35:\tlearn: 281.7994818\ttotal: 238ms\tremaining: 6.38s\n",
      "36:\tlearn: 279.2028261\ttotal: 240ms\tremaining: 6.24s\n",
      "37:\tlearn: 276.5821160\ttotal: 241ms\tremaining: 6.11s\n",
      "38:\tlearn: 273.8890894\ttotal: 243ms\tremaining: 5.99s\n",
      "39:\tlearn: 271.1681677\ttotal: 249ms\tremaining: 5.97s\n",
      "40:\tlearn: 269.0159531\ttotal: 252ms\tremaining: 5.9s\n",
      "41:\tlearn: 266.3601804\ttotal: 254ms\tremaining: 5.8s\n",
      "42:\tlearn: 263.8608958\ttotal: 256ms\tremaining: 5.71s\n",
      "43:\tlearn: 261.1405566\ttotal: 259ms\tremaining: 5.62s\n",
      "44:\tlearn: 258.9314736\ttotal: 263ms\tremaining: 5.58s\n",
      "45:\tlearn: 256.3885577\ttotal: 267ms\tremaining: 5.54s\n",
      "46:\tlearn: 254.2857349\ttotal: 268ms\tremaining: 5.44s\n",
      "47:\tlearn: 252.2347121\ttotal: 270ms\tremaining: 5.36s\n",
      "48:\tlearn: 250.1779367\ttotal: 272ms\tremaining: 5.27s\n",
      "49:\tlearn: 248.2687430\ttotal: 274ms\tremaining: 5.2s\n",
      "50:\tlearn: 246.3685582\ttotal: 278ms\tremaining: 5.17s\n",
      "51:\tlearn: 244.8719988\ttotal: 280ms\tremaining: 5.1s\n",
      "52:\tlearn: 242.7348892\ttotal: 281ms\tremaining: 5.03s\n",
      "53:\tlearn: 241.1611112\ttotal: 283ms\tremaining: 4.96s\n",
      "54:\tlearn: 239.4819462\ttotal: 284ms\tremaining: 4.88s\n",
      "55:\tlearn: 237.3877895\ttotal: 286ms\tremaining: 4.81s\n",
      "56:\tlearn: 235.7619262\ttotal: 287ms\tremaining: 4.75s\n",
      "57:\tlearn: 233.9604804\ttotal: 290ms\tremaining: 4.71s\n",
      "58:\tlearn: 232.4948011\ttotal: 292ms\tremaining: 4.66s\n",
      "59:\tlearn: 230.6283304\ttotal: 294ms\tremaining: 4.61s\n",
      "60:\tlearn: 228.9920307\ttotal: 299ms\tremaining: 4.6s\n",
      "61:\tlearn: 227.5197637\ttotal: 301ms\tremaining: 4.55s\n",
      "62:\tlearn: 226.0561213\ttotal: 306ms\tremaining: 4.55s\n",
      "63:\tlearn: 224.3484762\ttotal: 309ms\tremaining: 4.52s\n",
      "64:\tlearn: 223.0652023\ttotal: 312ms\tremaining: 4.49s\n",
      "65:\tlearn: 221.6608069\ttotal: 313ms\tremaining: 4.43s\n",
      "66:\tlearn: 220.2445284\ttotal: 315ms\tremaining: 4.39s\n",
      "67:\tlearn: 219.0044262\ttotal: 317ms\tremaining: 4.34s\n",
      "68:\tlearn: 217.4624313\ttotal: 320ms\tremaining: 4.31s\n",
      "69:\tlearn: 216.0502248\ttotal: 322ms\tremaining: 4.28s\n",
      "70:\tlearn: 214.5361705\ttotal: 325ms\tremaining: 4.25s\n",
      "71:\tlearn: 213.1812509\ttotal: 328ms\tremaining: 4.22s\n",
      "72:\tlearn: 211.7399390\ttotal: 329ms\tremaining: 4.18s\n",
      "73:\tlearn: 210.5557639\ttotal: 330ms\tremaining: 4.13s\n",
      "74:\tlearn: 209.4242283\ttotal: 331ms\tremaining: 4.09s\n",
      "75:\tlearn: 208.4366109\ttotal: 333ms\tremaining: 4.05s\n",
      "76:\tlearn: 207.4514860\ttotal: 336ms\tremaining: 4.03s\n",
      "77:\tlearn: 206.1912213\ttotal: 338ms\tremaining: 3.99s\n",
      "78:\tlearn: 205.2585316\ttotal: 340ms\tremaining: 3.96s\n",
      "79:\tlearn: 203.8747879\ttotal: 342ms\tremaining: 3.94s\n",
      "80:\tlearn: 202.5993031\ttotal: 345ms\tremaining: 3.91s\n",
      "81:\tlearn: 201.4719061\ttotal: 346ms\tremaining: 3.88s\n",
      "82:\tlearn: 200.2871874\ttotal: 349ms\tremaining: 3.85s\n",
      "83:\tlearn: 199.1074683\ttotal: 353ms\tremaining: 3.84s\n",
      "84:\tlearn: 197.8511342\ttotal: 356ms\tremaining: 3.83s\n",
      "85:\tlearn: 196.8788042\ttotal: 358ms\tremaining: 3.81s\n",
      "86:\tlearn: 195.9815130\ttotal: 360ms\tremaining: 3.77s\n",
      "87:\tlearn: 195.0807956\ttotal: 361ms\tremaining: 3.74s\n",
      "88:\tlearn: 193.9775466\ttotal: 362ms\tremaining: 3.7s\n",
      "89:\tlearn: 192.8810426\ttotal: 365ms\tremaining: 3.69s\n",
      "90:\tlearn: 192.5363626\ttotal: 367ms\tremaining: 3.67s\n",
      "91:\tlearn: 191.3259849\ttotal: 369ms\tremaining: 3.64s\n",
      "92:\tlearn: 190.3650025\ttotal: 371ms\tremaining: 3.62s\n",
      "93:\tlearn: 189.3255643\ttotal: 373ms\tremaining: 3.6s\n",
      "94:\tlearn: 188.2433480\ttotal: 375ms\tremaining: 3.57s\n",
      "95:\tlearn: 187.2786096\ttotal: 376ms\tremaining: 3.54s\n",
      "96:\tlearn: 186.1284681\ttotal: 378ms\tremaining: 3.52s\n",
      "97:\tlearn: 185.0190872\ttotal: 381ms\tremaining: 3.51s\n",
      "98:\tlearn: 184.2888024\ttotal: 383ms\tremaining: 3.49s\n",
      "99:\tlearn: 183.3111217\ttotal: 384ms\tremaining: 3.46s\n",
      "100:\tlearn: 182.2519940\ttotal: 386ms\tremaining: 3.44s\n",
      "101:\tlearn: 181.0186200\ttotal: 388ms\tremaining: 3.42s\n",
      "102:\tlearn: 179.9672344\ttotal: 390ms\tremaining: 3.4s\n",
      "103:\tlearn: 178.9776753\ttotal: 391ms\tremaining: 3.37s\n",
      "104:\tlearn: 178.2445101\ttotal: 393ms\tremaining: 3.35s\n",
      "105:\tlearn: 177.4055906\ttotal: 396ms\tremaining: 3.34s\n",
      "106:\tlearn: 176.2405445\ttotal: 397ms\tremaining: 3.31s\n",
      "107:\tlearn: 175.1813091\ttotal: 399ms\tremaining: 3.29s\n",
      "108:\tlearn: 174.5537682\ttotal: 400ms\tremaining: 3.27s\n",
      "109:\tlearn: 173.8231890\ttotal: 402ms\tremaining: 3.25s\n",
      "110:\tlearn: 172.9324461\ttotal: 404ms\tremaining: 3.23s\n",
      "111:\tlearn: 172.0019421\ttotal: 405ms\tremaining: 3.21s\n",
      "112:\tlearn: 171.2945678\ttotal: 407ms\tremaining: 3.2s\n",
      "113:\tlearn: 170.4815313\ttotal: 413ms\tremaining: 3.21s\n",
      "114:\tlearn: 169.9491294\ttotal: 415ms\tremaining: 3.19s\n",
      "115:\tlearn: 169.2483859\ttotal: 416ms\tremaining: 3.17s\n",
      "116:\tlearn: 168.7342383\ttotal: 418ms\tremaining: 3.15s\n",
      "117:\tlearn: 168.1837140\ttotal: 420ms\tremaining: 3.14s\n",
      "118:\tlearn: 167.1222358\ttotal: 422ms\tremaining: 3.12s\n",
      "119:\tlearn: 166.3472734\ttotal: 426ms\tremaining: 3.12s\n",
      "120:\tlearn: 165.5330342\ttotal: 429ms\tremaining: 3.12s\n",
      "121:\tlearn: 164.8476246\ttotal: 431ms\tremaining: 3.1s\n",
      "122:\tlearn: 164.2399797\ttotal: 433ms\tremaining: 3.09s\n",
      "123:\tlearn: 164.0121571\ttotal: 435ms\tremaining: 3.07s\n",
      "124:\tlearn: 162.9794212\ttotal: 437ms\tremaining: 3.06s\n",
      "125:\tlearn: 162.2095741\ttotal: 440ms\tremaining: 3.05s\n",
      "126:\tlearn: 161.1695920\ttotal: 444ms\tremaining: 3.05s\n",
      "127:\tlearn: 160.3516612\ttotal: 446ms\tremaining: 3.04s\n",
      "128:\tlearn: 159.1596356\ttotal: 447ms\tremaining: 3.02s\n",
      "129:\tlearn: 158.5354394\ttotal: 448ms\tremaining: 3s\n",
      "130:\tlearn: 157.5922383\ttotal: 450ms\tremaining: 2.98s\n",
      "131:\tlearn: 156.9689796\ttotal: 451ms\tremaining: 2.97s\n",
      "132:\tlearn: 156.4170623\ttotal: 452ms\tremaining: 2.95s\n",
      "133:\tlearn: 156.1222595\ttotal: 454ms\tremaining: 2.93s\n",
      "134:\tlearn: 155.5996569\ttotal: 458ms\tremaining: 2.93s\n",
      "135:\tlearn: 154.8990155\ttotal: 459ms\tremaining: 2.92s\n",
      "136:\tlearn: 154.3704896\ttotal: 461ms\tremaining: 2.9s\n",
      "137:\tlearn: 153.8560012\ttotal: 462ms\tremaining: 2.88s\n",
      "138:\tlearn: 153.2399938\ttotal: 463ms\tremaining: 2.87s\n",
      "139:\tlearn: 152.2142414\ttotal: 464ms\tremaining: 2.85s\n",
      "140:\tlearn: 151.5976950\ttotal: 465ms\tremaining: 2.83s\n",
      "141:\tlearn: 151.4426506\ttotal: 466ms\tremaining: 2.82s\n",
      "142:\tlearn: 150.8467135\ttotal: 467ms\tremaining: 2.8s\n",
      "143:\tlearn: 150.0175883\ttotal: 469ms\tremaining: 2.79s\n",
      "144:\tlearn: 149.6327647\ttotal: 473ms\tremaining: 2.79s\n",
      "145:\tlearn: 148.9265718\ttotal: 475ms\tremaining: 2.78s\n",
      "146:\tlearn: 148.4460764\ttotal: 476ms\tremaining: 2.76s\n",
      "147:\tlearn: 147.8108318\ttotal: 478ms\tremaining: 2.75s\n",
      "148:\tlearn: 147.2766525\ttotal: 479ms\tremaining: 2.73s\n",
      "149:\tlearn: 146.8537279\ttotal: 480ms\tremaining: 2.72s\n",
      "150:\tlearn: 146.0227438\ttotal: 481ms\tremaining: 2.71s\n",
      "151:\tlearn: 145.5603059\ttotal: 483ms\tremaining: 2.69s\n",
      "152:\tlearn: 145.0318400\ttotal: 484ms\tremaining: 2.68s\n",
      "153:\tlearn: 144.6082188\ttotal: 487ms\tremaining: 2.67s\n",
      "154:\tlearn: 144.2070501\ttotal: 490ms\tremaining: 2.67s\n",
      "155:\tlearn: 143.8060676\ttotal: 491ms\tremaining: 2.66s\n",
      "156:\tlearn: 143.3819707\ttotal: 493ms\tremaining: 2.65s\n",
      "157:\tlearn: 143.0764402\ttotal: 495ms\tremaining: 2.64s\n",
      "158:\tlearn: 142.4609449\ttotal: 496ms\tremaining: 2.62s\n",
      "159:\tlearn: 142.3321970\ttotal: 498ms\tremaining: 2.61s\n",
      "160:\tlearn: 141.9044208\ttotal: 499ms\tremaining: 2.6s\n",
      "161:\tlearn: 141.4544471\ttotal: 503ms\tremaining: 2.6s\n",
      "162:\tlearn: 140.9391569\ttotal: 505ms\tremaining: 2.59s\n",
      "163:\tlearn: 140.3413557\ttotal: 507ms\tremaining: 2.58s\n",
      "164:\tlearn: 139.7992277\ttotal: 508ms\tremaining: 2.57s\n",
      "165:\tlearn: 139.3139418\ttotal: 509ms\tremaining: 2.56s\n",
      "166:\tlearn: 139.1617594\ttotal: 511ms\tremaining: 2.55s\n",
      "167:\tlearn: 138.8837397\ttotal: 512ms\tremaining: 2.54s\n",
      "168:\tlearn: 138.6951410\ttotal: 513ms\tremaining: 2.52s\n",
      "169:\tlearn: 138.0167618\ttotal: 515ms\tremaining: 2.51s\n",
      "170:\tlearn: 137.7020324\ttotal: 518ms\tremaining: 2.51s\n",
      "171:\tlearn: 137.1976478\ttotal: 519ms\tremaining: 2.5s\n",
      "172:\tlearn: 136.6670434\ttotal: 520ms\tremaining: 2.49s\n",
      "173:\tlearn: 136.4670074\ttotal: 521ms\tremaining: 2.47s\n",
      "174:\tlearn: 136.0663779\ttotal: 523ms\tremaining: 2.46s\n",
      "175:\tlearn: 135.9542221\ttotal: 524ms\tremaining: 2.45s\n",
      "176:\tlearn: 135.6178437\ttotal: 525ms\tremaining: 2.44s\n",
      "177:\tlearn: 134.6062854\ttotal: 526ms\tremaining: 2.43s\n",
      "178:\tlearn: 134.5063344\ttotal: 527ms\tremaining: 2.42s\n",
      "179:\tlearn: 133.9371247\ttotal: 528ms\tremaining: 2.41s\n",
      "180:\tlearn: 133.8431589\ttotal: 529ms\tremaining: 2.39s\n",
      "181:\tlearn: 133.4293648\ttotal: 530ms\tremaining: 2.38s\n",
      "182:\tlearn: 133.2065999\ttotal: 534ms\tremaining: 2.38s\n",
      "183:\tlearn: 132.9235113\ttotal: 535ms\tremaining: 2.37s\n",
      "184:\tlearn: 132.6695944\ttotal: 536ms\tremaining: 2.36s\n",
      "185:\tlearn: 132.3135234\ttotal: 539ms\tremaining: 2.36s\n",
      "186:\tlearn: 132.2233433\ttotal: 539ms\tremaining: 2.35s\n",
      "187:\tlearn: 132.0628764\ttotal: 541ms\tremaining: 2.33s\n",
      "188:\tlearn: 131.8624217\ttotal: 542ms\tremaining: 2.33s\n",
      "189:\tlearn: 131.3846390\ttotal: 543ms\tremaining: 2.32s\n",
      "190:\tlearn: 131.0638781\ttotal: 545ms\tremaining: 2.31s\n",
      "191:\tlearn: 130.4721276\ttotal: 547ms\tremaining: 2.3s\n",
      "192:\tlearn: 129.9910319\ttotal: 548ms\tremaining: 2.29s\n",
      "193:\tlearn: 129.7074214\ttotal: 550ms\tremaining: 2.29s\n",
      "194:\tlearn: 129.0491404\ttotal: 552ms\tremaining: 2.28s\n",
      "195:\tlearn: 128.6928621\ttotal: 553ms\tremaining: 2.27s\n",
      "196:\tlearn: 128.5117514\ttotal: 555ms\tremaining: 2.26s\n",
      "197:\tlearn: 128.4035709\ttotal: 557ms\tremaining: 2.25s\n",
      "198:\tlearn: 127.9924182\ttotal: 558ms\tremaining: 2.25s\n",
      "199:\tlearn: 127.7690317\ttotal: 561ms\tremaining: 2.24s\n",
      "200:\tlearn: 127.6252249\ttotal: 564ms\tremaining: 2.24s\n",
      "201:\tlearn: 127.4951417\ttotal: 567ms\tremaining: 2.24s\n",
      "202:\tlearn: 127.0315349\ttotal: 569ms\tremaining: 2.23s\n",
      "203:\tlearn: 126.7791475\ttotal: 570ms\tremaining: 2.22s\n",
      "204:\tlearn: 126.4903107\ttotal: 571ms\tremaining: 2.21s\n",
      "205:\tlearn: 126.0664803\ttotal: 573ms\tremaining: 2.21s\n",
      "206:\tlearn: 125.3934071\ttotal: 574ms\tremaining: 2.2s\n",
      "207:\tlearn: 125.0899622\ttotal: 577ms\tremaining: 2.2s\n",
      "208:\tlearn: 124.7757310\ttotal: 579ms\tremaining: 2.19s\n",
      "209:\tlearn: 124.5475960\ttotal: 581ms\tremaining: 2.19s\n",
      "210:\tlearn: 124.1962887\ttotal: 582ms\tremaining: 2.18s\n",
      "211:\tlearn: 123.9686937\ttotal: 583ms\tremaining: 2.17s\n",
      "212:\tlearn: 123.0280048\ttotal: 585ms\tremaining: 2.16s\n",
      "213:\tlearn: 122.5447141\ttotal: 586ms\tremaining: 2.15s\n",
      "214:\tlearn: 122.1785305\ttotal: 587ms\tremaining: 2.14s\n",
      "215:\tlearn: 121.4403560\ttotal: 589ms\tremaining: 2.14s\n",
      "216:\tlearn: 120.8269584\ttotal: 591ms\tremaining: 2.13s\n",
      "217:\tlearn: 120.2399329\ttotal: 595ms\tremaining: 2.13s\n",
      "218:\tlearn: 119.4852557\ttotal: 596ms\tremaining: 2.13s\n",
      "219:\tlearn: 119.2094151\ttotal: 597ms\tremaining: 2.12s\n",
      "220:\tlearn: 119.0417229\ttotal: 598ms\tremaining: 2.11s\n",
      "221:\tlearn: 118.9557915\ttotal: 599ms\tremaining: 2.1s\n",
      "222:\tlearn: 118.3082421\ttotal: 600ms\tremaining: 2.09s\n",
      "223:\tlearn: 117.7364211\ttotal: 602ms\tremaining: 2.08s\n",
      "224:\tlearn: 117.6324235\ttotal: 603ms\tremaining: 2.08s\n",
      "225:\tlearn: 117.2879743\ttotal: 604ms\tremaining: 2.07s\n",
      "226:\tlearn: 117.0422612\ttotal: 609ms\tremaining: 2.07s\n",
      "227:\tlearn: 116.8001379\ttotal: 611ms\tremaining: 2.07s\n",
      "228:\tlearn: 116.4854978\ttotal: 612ms\tremaining: 2.06s\n",
      "229:\tlearn: 115.7559740\ttotal: 614ms\tremaining: 2.05s\n",
      "230:\tlearn: 115.1896271\ttotal: 615ms\tremaining: 2.05s\n",
      "231:\tlearn: 114.9666291\ttotal: 616ms\tremaining: 2.04s\n",
      "232:\tlearn: 114.1239318\ttotal: 618ms\tremaining: 2.03s\n",
      "233:\tlearn: 113.9964466\ttotal: 619ms\tremaining: 2.03s\n",
      "234:\tlearn: 113.8912592\ttotal: 620ms\tremaining: 2.02s\n",
      "235:\tlearn: 113.4606970\ttotal: 624ms\tremaining: 2.02s\n",
      "236:\tlearn: 113.0958922\ttotal: 626ms\tremaining: 2.01s\n",
      "237:\tlearn: 113.0091361\ttotal: 627ms\tremaining: 2.01s\n",
      "238:\tlearn: 112.7657197\ttotal: 628ms\tremaining: 2s\n",
      "239:\tlearn: 112.2315070\ttotal: 630ms\tremaining: 1.99s\n",
      "240:\tlearn: 111.9507125\ttotal: 631ms\tremaining: 1.99s\n",
      "241:\tlearn: 111.7384492\ttotal: 632ms\tremaining: 1.98s\n",
      "242:\tlearn: 111.0693763\ttotal: 633ms\tremaining: 1.97s\n",
      "243:\tlearn: 110.3499926\ttotal: 634ms\tremaining: 1.96s\n",
      "244:\tlearn: 110.2316231\ttotal: 635ms\tremaining: 1.96s\n",
      "245:\tlearn: 109.6985998\ttotal: 638ms\tremaining: 1.96s\n",
      "246:\tlearn: 109.4279824\ttotal: 640ms\tremaining: 1.95s\n",
      "247:\tlearn: 109.1466762\ttotal: 641ms\tremaining: 1.94s\n",
      "248:\tlearn: 108.9628542\ttotal: 642ms\tremaining: 1.94s\n",
      "249:\tlearn: 108.7268676\ttotal: 644ms\tremaining: 1.93s\n",
      "250:\tlearn: 108.0921190\ttotal: 645ms\tremaining: 1.92s\n",
      "251:\tlearn: 107.6167844\ttotal: 646ms\tremaining: 1.92s\n",
      "252:\tlearn: 106.9716563\ttotal: 648ms\tremaining: 1.91s\n",
      "253:\tlearn: 106.4272485\ttotal: 649ms\tremaining: 1.91s\n",
      "254:\tlearn: 106.2032614\ttotal: 650ms\tremaining: 1.9s\n",
      "255:\tlearn: 105.5756794\ttotal: 652ms\tremaining: 1.9s\n",
      "256:\tlearn: 105.4918649\ttotal: 654ms\tremaining: 1.89s\n",
      "257:\tlearn: 105.2466976\ttotal: 656ms\tremaining: 1.89s\n",
      "258:\tlearn: 105.0461428\ttotal: 657ms\tremaining: 1.88s\n",
      "259:\tlearn: 104.5887628\ttotal: 658ms\tremaining: 1.87s\n",
      "260:\tlearn: 104.1305873\ttotal: 659ms\tremaining: 1.87s\n",
      "261:\tlearn: 103.5527158\ttotal: 660ms\tremaining: 1.86s\n",
      "262:\tlearn: 103.0334823\ttotal: 661ms\tremaining: 1.85s\n",
      "263:\tlearn: 102.6732388\ttotal: 663ms\tremaining: 1.85s\n",
      "264:\tlearn: 102.4678728\ttotal: 664ms\tremaining: 1.84s\n",
      "265:\tlearn: 101.9608852\ttotal: 665ms\tremaining: 1.83s\n",
      "266:\tlearn: 101.4449668\ttotal: 667ms\tremaining: 1.83s\n",
      "267:\tlearn: 100.9647899\ttotal: 670ms\tremaining: 1.83s\n",
      "268:\tlearn: 100.4376357\ttotal: 671ms\tremaining: 1.82s\n",
      "269:\tlearn: 100.1038322\ttotal: 672ms\tremaining: 1.82s\n",
      "270:\tlearn: 99.8991183\ttotal: 673ms\tremaining: 1.81s\n",
      "271:\tlearn: 99.4016031\ttotal: 674ms\tremaining: 1.8s\n",
      "272:\tlearn: 98.9231252\ttotal: 675ms\tremaining: 1.8s\n",
      "273:\tlearn: 98.5734863\ttotal: 676ms\tremaining: 1.79s\n",
      "274:\tlearn: 98.3333355\ttotal: 678ms\tremaining: 1.79s\n",
      "275:\tlearn: 97.9164082\ttotal: 679ms\tremaining: 1.78s\n",
      "276:\tlearn: 97.3911203\ttotal: 681ms\tremaining: 1.78s\n",
      "277:\tlearn: 96.9317789\ttotal: 683ms\tremaining: 1.77s\n",
      "278:\tlearn: 96.6243997\ttotal: 685ms\tremaining: 1.77s\n",
      "279:\tlearn: 96.3288821\ttotal: 687ms\tremaining: 1.77s\n",
      "280:\tlearn: 95.8579534\ttotal: 688ms\tremaining: 1.76s\n",
      "281:\tlearn: 95.4136026\ttotal: 690ms\tremaining: 1.75s\n",
      "282:\tlearn: 95.3442077\ttotal: 691ms\tremaining: 1.75s\n",
      "283:\tlearn: 95.1166584\ttotal: 692ms\tremaining: 1.75s\n",
      "284:\tlearn: 94.8017360\ttotal: 694ms\tremaining: 1.74s\n",
      "285:\tlearn: 94.5863908\ttotal: 695ms\tremaining: 1.74s\n",
      "286:\tlearn: 94.4111694\ttotal: 696ms\tremaining: 1.73s\n",
      "287:\tlearn: 94.2678024\ttotal: 700ms\tremaining: 1.73s\n",
      "288:\tlearn: 93.7753419\ttotal: 702ms\tremaining: 1.73s\n",
      "289:\tlearn: 93.3772710\ttotal: 703ms\tremaining: 1.72s\n",
      "290:\tlearn: 92.8750904\ttotal: 704ms\tremaining: 1.72s\n",
      "291:\tlearn: 92.6654794\ttotal: 706ms\tremaining: 1.71s\n",
      "292:\tlearn: 92.2659876\ttotal: 707ms\tremaining: 1.71s\n",
      "293:\tlearn: 92.0282495\ttotal: 708ms\tremaining: 1.7s\n",
      "294:\tlearn: 91.8288855\ttotal: 709ms\tremaining: 1.69s\n",
      "295:\tlearn: 91.6752612\ttotal: 710ms\tremaining: 1.69s\n",
      "296:\tlearn: 91.2561883\ttotal: 712ms\tremaining: 1.68s\n",
      "297:\tlearn: 91.0227123\ttotal: 716ms\tremaining: 1.69s\n",
      "298:\tlearn: 90.8392142\ttotal: 717ms\tremaining: 1.68s\n",
      "299:\tlearn: 90.6853014\ttotal: 718ms\tremaining: 1.68s\n",
      "300:\tlearn: 90.5986761\ttotal: 720ms\tremaining: 1.67s\n",
      "301:\tlearn: 90.2180036\ttotal: 721ms\tremaining: 1.67s\n",
      "302:\tlearn: 89.8313622\ttotal: 722ms\tremaining: 1.66s\n",
      "303:\tlearn: 89.6872837\ttotal: 723ms\tremaining: 1.66s\n",
      "304:\tlearn: 89.3853276\ttotal: 725ms\tremaining: 1.65s\n",
      "305:\tlearn: 88.9459206\ttotal: 726ms\tremaining: 1.65s\n",
      "306:\tlearn: 88.7258770\ttotal: 727ms\tremaining: 1.64s\n",
      "307:\tlearn: 88.5374358\ttotal: 730ms\tremaining: 1.64s\n",
      "308:\tlearn: 88.0624447\ttotal: 732ms\tremaining: 1.64s\n",
      "309:\tlearn: 87.7942692\ttotal: 733ms\tremaining: 1.63s\n",
      "310:\tlearn: 87.6354184\ttotal: 735ms\tremaining: 1.63s\n",
      "311:\tlearn: 87.4879486\ttotal: 737ms\tremaining: 1.62s\n",
      "312:\tlearn: 87.0294739\ttotal: 738ms\tremaining: 1.62s\n",
      "313:\tlearn: 86.6746221\ttotal: 739ms\tremaining: 1.61s\n",
      "314:\tlearn: 86.2792146\ttotal: 740ms\tremaining: 1.61s\n",
      "315:\tlearn: 86.2127070\ttotal: 742ms\tremaining: 1.6s\n",
      "316:\tlearn: 86.1507368\ttotal: 744ms\tremaining: 1.6s\n",
      "317:\tlearn: 85.7089141\ttotal: 746ms\tremaining: 1.6s\n",
      "318:\tlearn: 85.6035137\ttotal: 747ms\tremaining: 1.59s\n",
      "319:\tlearn: 85.3587988\ttotal: 749ms\tremaining: 1.59s\n",
      "320:\tlearn: 84.9660906\ttotal: 751ms\tremaining: 1.59s\n",
      "321:\tlearn: 84.5474713\ttotal: 752ms\tremaining: 1.58s\n",
      "322:\tlearn: 84.1996852\ttotal: 754ms\tremaining: 1.58s\n",
      "323:\tlearn: 84.0654282\ttotal: 755ms\tremaining: 1.57s\n",
      "324:\tlearn: 83.7937327\ttotal: 757ms\tremaining: 1.57s\n",
      "325:\tlearn: 83.5064288\ttotal: 760ms\tremaining: 1.57s\n",
      "326:\tlearn: 83.3997655\ttotal: 762ms\tremaining: 1.57s\n",
      "327:\tlearn: 83.2958622\ttotal: 764ms\tremaining: 1.56s\n",
      "328:\tlearn: 82.9877578\ttotal: 765ms\tremaining: 1.56s\n",
      "329:\tlearn: 82.6286638\ttotal: 767ms\tremaining: 1.56s\n",
      "330:\tlearn: 82.2827132\ttotal: 768ms\tremaining: 1.55s\n",
      "331:\tlearn: 82.0895251\ttotal: 769ms\tremaining: 1.55s\n",
      "332:\tlearn: 82.0130649\ttotal: 770ms\tremaining: 1.54s\n",
      "333:\tlearn: 81.6771734\ttotal: 772ms\tremaining: 1.54s\n",
      "334:\tlearn: 81.3519124\ttotal: 776ms\tremaining: 1.54s\n",
      "335:\tlearn: 81.0170326\ttotal: 777ms\tremaining: 1.54s\n",
      "336:\tlearn: 80.6917886\ttotal: 779ms\tremaining: 1.53s\n",
      "337:\tlearn: 80.3455177\ttotal: 781ms\tremaining: 1.53s\n",
      "338:\tlearn: 80.0260727\ttotal: 782ms\tremaining: 1.52s\n",
      "339:\tlearn: 79.9154748\ttotal: 783ms\tremaining: 1.52s\n",
      "340:\tlearn: 79.7813079\ttotal: 784ms\tremaining: 1.52s\n",
      "341:\tlearn: 79.3513293\ttotal: 787ms\tremaining: 1.51s\n",
      "342:\tlearn: 78.8666019\ttotal: 790ms\tremaining: 1.51s\n",
      "343:\tlearn: 78.7959013\ttotal: 791ms\tremaining: 1.51s\n",
      "344:\tlearn: 78.7081334\ttotal: 793ms\tremaining: 1.5s\n",
      "345:\tlearn: 78.3354931\ttotal: 794ms\tremaining: 1.5s\n",
      "346:\tlearn: 77.9475067\ttotal: 795ms\tremaining: 1.5s\n",
      "347:\tlearn: 77.8910420\ttotal: 796ms\tremaining: 1.49s\n",
      "348:\tlearn: 77.5461672\ttotal: 797ms\tremaining: 1.49s\n",
      "349:\tlearn: 77.3717101\ttotal: 798ms\tremaining: 1.48s\n",
      "350:\tlearn: 77.0729657\ttotal: 799ms\tremaining: 1.48s\n",
      "351:\tlearn: 76.7699287\ttotal: 801ms\tremaining: 1.48s\n",
      "352:\tlearn: 76.6029759\ttotal: 804ms\tremaining: 1.47s\n",
      "353:\tlearn: 76.1642615\ttotal: 806ms\tremaining: 1.47s\n",
      "354:\tlearn: 76.1202523\ttotal: 807ms\tremaining: 1.47s\n",
      "355:\tlearn: 75.9487132\ttotal: 808ms\tremaining: 1.46s\n",
      "356:\tlearn: 75.6748479\ttotal: 810ms\tremaining: 1.46s\n",
      "357:\tlearn: 75.4290864\ttotal: 811ms\tremaining: 1.45s\n",
      "358:\tlearn: 75.0463849\ttotal: 812ms\tremaining: 1.45s\n",
      "359:\tlearn: 74.9902381\ttotal: 814ms\tremaining: 1.45s\n",
      "360:\tlearn: 74.5243875\ttotal: 815ms\tremaining: 1.44s\n",
      "361:\tlearn: 74.1913065\ttotal: 818ms\tremaining: 1.44s\n",
      "362:\tlearn: 73.8413359\ttotal: 820ms\tremaining: 1.44s\n",
      "363:\tlearn: 73.7602119\ttotal: 821ms\tremaining: 1.43s\n",
      "364:\tlearn: 73.3278135\ttotal: 823ms\tremaining: 1.43s\n",
      "365:\tlearn: 72.9524336\ttotal: 824ms\tremaining: 1.43s\n",
      "366:\tlearn: 72.6791856\ttotal: 825ms\tremaining: 1.42s\n",
      "367:\tlearn: 72.4333577\ttotal: 827ms\tremaining: 1.42s\n",
      "368:\tlearn: 72.1672937\ttotal: 828ms\tremaining: 1.42s\n",
      "369:\tlearn: 71.9070276\ttotal: 829ms\tremaining: 1.41s\n",
      "370:\tlearn: 71.5496196\ttotal: 832ms\tremaining: 1.41s\n",
      "371:\tlearn: 71.3161902\ttotal: 834ms\tremaining: 1.41s\n",
      "372:\tlearn: 71.1259191\ttotal: 835ms\tremaining: 1.4s\n",
      "373:\tlearn: 70.9889962\ttotal: 836ms\tremaining: 1.4s\n",
      "374:\tlearn: 70.7417966\ttotal: 837ms\tremaining: 1.4s\n",
      "375:\tlearn: 70.4931174\ttotal: 839ms\tremaining: 1.39s\n",
      "376:\tlearn: 70.3300576\ttotal: 840ms\tremaining: 1.39s\n",
      "377:\tlearn: 69.9233248\ttotal: 841ms\tremaining: 1.38s\n",
      "378:\tlearn: 69.6261005\ttotal: 842ms\tremaining: 1.38s\n",
      "379:\tlearn: 69.3989708\ttotal: 843ms\tremaining: 1.38s\n",
      "380:\tlearn: 69.0085387\ttotal: 845ms\tremaining: 1.37s\n",
      "381:\tlearn: 68.7604153\ttotal: 846ms\tremaining: 1.37s\n",
      "382:\tlearn: 68.4602767\ttotal: 849ms\tremaining: 1.37s\n",
      "383:\tlearn: 68.1005452\ttotal: 850ms\tremaining: 1.36s\n",
      "384:\tlearn: 68.0540467\ttotal: 851ms\tremaining: 1.36s\n",
      "385:\tlearn: 67.8972753\ttotal: 852ms\tremaining: 1.35s\n",
      "386:\tlearn: 67.5389629\ttotal: 854ms\tremaining: 1.35s\n",
      "387:\tlearn: 67.2390178\ttotal: 855ms\tremaining: 1.35s\n",
      "388:\tlearn: 67.0279888\ttotal: 856ms\tremaining: 1.34s\n",
      "389:\tlearn: 66.8375919\ttotal: 857ms\tremaining: 1.34s\n",
      "390:\tlearn: 66.4118315\ttotal: 858ms\tremaining: 1.34s\n",
      "391:\tlearn: 66.3642690\ttotal: 860ms\tremaining: 1.33s\n",
      "392:\tlearn: 66.1673138\ttotal: 861ms\tremaining: 1.33s\n",
      "393:\tlearn: 66.0177482\ttotal: 864ms\tremaining: 1.33s\n",
      "394:\tlearn: 65.8018038\ttotal: 866ms\tremaining: 1.32s\n",
      "395:\tlearn: 65.6886505\ttotal: 868ms\tremaining: 1.32s\n",
      "396:\tlearn: 65.6120185\ttotal: 869ms\tremaining: 1.32s\n",
      "397:\tlearn: 65.5746662\ttotal: 870ms\tremaining: 1.31s\n",
      "398:\tlearn: 65.2974851\ttotal: 871ms\tremaining: 1.31s\n",
      "399:\tlearn: 65.2464764\ttotal: 872ms\tremaining: 1.31s\n",
      "400:\tlearn: 65.1241314\ttotal: 873ms\tremaining: 1.3s\n",
      "401:\tlearn: 65.0515740\ttotal: 875ms\tremaining: 1.3s\n",
      "402:\tlearn: 64.8089636\ttotal: 876ms\tremaining: 1.3s\n",
      "403:\tlearn: 64.5992230\ttotal: 879ms\tremaining: 1.3s\n",
      "404:\tlearn: 64.2907010\ttotal: 880ms\tremaining: 1.29s\n",
      "405:\tlearn: 64.1568642\ttotal: 882ms\tremaining: 1.29s\n",
      "406:\tlearn: 63.8279106\ttotal: 883ms\tremaining: 1.29s\n",
      "407:\tlearn: 63.5558565\ttotal: 884ms\tremaining: 1.28s\n",
      "408:\tlearn: 63.3865445\ttotal: 885ms\tremaining: 1.28s\n",
      "409:\tlearn: 63.2752408\ttotal: 887ms\tremaining: 1.27s\n",
      "410:\tlearn: 63.1070190\ttotal: 888ms\tremaining: 1.27s\n",
      "411:\tlearn: 62.7868376\ttotal: 889ms\tremaining: 1.27s\n",
      "412:\tlearn: 62.5345803\ttotal: 890ms\tremaining: 1.26s\n",
      "413:\tlearn: 62.2729058\ttotal: 893ms\tremaining: 1.26s\n",
      "414:\tlearn: 61.9850985\ttotal: 895ms\tremaining: 1.26s\n",
      "415:\tlearn: 61.7784164\ttotal: 896ms\tremaining: 1.26s\n",
      "416:\tlearn: 61.7431976\ttotal: 897ms\tremaining: 1.25s\n",
      "417:\tlearn: 61.4309964\ttotal: 898ms\tremaining: 1.25s\n",
      "418:\tlearn: 61.3513660\ttotal: 899ms\tremaining: 1.25s\n",
      "419:\tlearn: 61.1253739\ttotal: 901ms\tremaining: 1.24s\n",
      "420:\tlearn: 61.0742571\ttotal: 903ms\tremaining: 1.24s\n",
      "421:\tlearn: 61.0390980\ttotal: 904ms\tremaining: 1.24s\n",
      "422:\tlearn: 61.0095757\ttotal: 905ms\tremaining: 1.23s\n",
      "423:\tlearn: 60.6843255\ttotal: 907ms\tremaining: 1.23s\n",
      "424:\tlearn: 60.4045551\ttotal: 910ms\tremaining: 1.23s\n",
      "425:\tlearn: 60.3649587\ttotal: 911ms\tremaining: 1.23s\n",
      "426:\tlearn: 60.3315828\ttotal: 912ms\tremaining: 1.22s\n",
      "427:\tlearn: 60.1047027\ttotal: 913ms\tremaining: 1.22s\n",
      "428:\tlearn: 59.9170736\ttotal: 915ms\tremaining: 1.22s\n",
      "429:\tlearn: 59.6875648\ttotal: 916ms\tremaining: 1.21s\n",
      "430:\tlearn: 59.6662150\ttotal: 917ms\tremaining: 1.21s\n",
      "431:\tlearn: 59.4208112\ttotal: 919ms\tremaining: 1.21s\n",
      "432:\tlearn: 59.2358034\ttotal: 920ms\tremaining: 1.2s\n",
      "433:\tlearn: 58.9818868\ttotal: 921ms\tremaining: 1.2s\n",
      "434:\tlearn: 58.7089433\ttotal: 925ms\tremaining: 1.2s\n",
      "435:\tlearn: 58.5898817\ttotal: 926ms\tremaining: 1.2s\n",
      "436:\tlearn: 58.5425342\ttotal: 928ms\tremaining: 1.2s\n",
      "437:\tlearn: 58.2884605\ttotal: 929ms\tremaining: 1.19s\n",
      "438:\tlearn: 58.2643873\ttotal: 932ms\tremaining: 1.19s\n",
      "439:\tlearn: 58.2330868\ttotal: 934ms\tremaining: 1.19s\n",
      "440:\tlearn: 57.9676592\ttotal: 935ms\tremaining: 1.19s\n",
      "441:\tlearn: 57.7670212\ttotal: 936ms\tremaining: 1.18s\n",
      "442:\tlearn: 57.5322464\ttotal: 939ms\tremaining: 1.18s\n",
      "443:\tlearn: 57.2771620\ttotal: 941ms\tremaining: 1.18s\n",
      "444:\tlearn: 57.0227885\ttotal: 950ms\tremaining: 1.19s\n",
      "445:\tlearn: 56.7616770\ttotal: 952ms\tremaining: 1.18s\n",
      "446:\tlearn: 56.7367450\ttotal: 955ms\tremaining: 1.18s\n",
      "447:\tlearn: 56.6715001\ttotal: 957ms\tremaining: 1.18s\n",
      "448:\tlearn: 56.4881346\ttotal: 959ms\tremaining: 1.18s\n",
      "449:\tlearn: 56.3749776\ttotal: 961ms\tremaining: 1.17s\n",
      "450:\tlearn: 56.2172319\ttotal: 962ms\tremaining: 1.17s\n",
      "451:\tlearn: 55.9461925\ttotal: 964ms\tremaining: 1.17s\n",
      "452:\tlearn: 55.8884270\ttotal: 967ms\tremaining: 1.17s\n",
      "453:\tlearn: 55.7987432\ttotal: 969ms\tremaining: 1.17s\n",
      "454:\tlearn: 55.7376337\ttotal: 970ms\tremaining: 1.16s\n",
      "455:\tlearn: 55.5150595\ttotal: 971ms\tremaining: 1.16s\n",
      "456:\tlearn: 55.4819680\ttotal: 973ms\tremaining: 1.16s\n",
      "457:\tlearn: 55.1719919\ttotal: 974ms\tremaining: 1.15s\n",
      "458:\tlearn: 55.1295759\ttotal: 975ms\tremaining: 1.15s\n",
      "459:\tlearn: 55.0856302\ttotal: 976ms\tremaining: 1.15s\n",
      "460:\tlearn: 54.8056235\ttotal: 977ms\tremaining: 1.14s\n",
      "461:\tlearn: 54.4030407\ttotal: 978ms\tremaining: 1.14s\n",
      "462:\tlearn: 54.3308204\ttotal: 982ms\tremaining: 1.14s\n",
      "463:\tlearn: 54.0283724\ttotal: 983ms\tremaining: 1.14s\n",
      "464:\tlearn: 53.9962714\ttotal: 984ms\tremaining: 1.13s\n",
      "465:\tlearn: 53.8149476\ttotal: 986ms\tremaining: 1.13s\n",
      "466:\tlearn: 53.7806209\ttotal: 987ms\tremaining: 1.13s\n",
      "467:\tlearn: 53.7585727\ttotal: 988ms\tremaining: 1.12s\n",
      "468:\tlearn: 53.5042777\ttotal: 989ms\tremaining: 1.12s\n",
      "469:\tlearn: 53.3257034\ttotal: 990ms\tremaining: 1.12s\n",
      "470:\tlearn: 53.0801119\ttotal: 991ms\tremaining: 1.11s\n",
      "471:\tlearn: 53.0136550\ttotal: 993ms\tremaining: 1.11s\n",
      "472:\tlearn: 52.9408930\ttotal: 994ms\tremaining: 1.11s\n",
      "473:\tlearn: 52.7089062\ttotal: 996ms\tremaining: 1.1s\n",
      "474:\tlearn: 52.6819781\ttotal: 998ms\tremaining: 1.1s\n",
      "475:\tlearn: 52.5065568\ttotal: 1000ms\tremaining: 1.1s\n",
      "476:\tlearn: 52.3688770\ttotal: 1s\tremaining: 1.1s\n",
      "477:\tlearn: 52.2402473\ttotal: 1s\tremaining: 1.09s\n",
      "478:\tlearn: 52.1406517\ttotal: 1s\tremaining: 1.09s\n",
      "479:\tlearn: 52.1107144\ttotal: 1s\tremaining: 1.09s\n",
      "480:\tlearn: 51.9239449\ttotal: 1s\tremaining: 1.08s\n",
      "481:\tlearn: 51.7096820\ttotal: 1.01s\tremaining: 1.08s\n",
      "482:\tlearn: 51.6266918\ttotal: 1.01s\tremaining: 1.08s\n",
      "483:\tlearn: 51.5969797\ttotal: 1.01s\tremaining: 1.07s\n",
      "484:\tlearn: 51.4480162\ttotal: 1.01s\tremaining: 1.07s\n",
      "485:\tlearn: 51.2269261\ttotal: 1.01s\tremaining: 1.07s\n",
      "486:\tlearn: 50.9904632\ttotal: 1.01s\tremaining: 1.07s\n",
      "487:\tlearn: 50.9342043\ttotal: 1.01s\tremaining: 1.06s\n",
      "488:\tlearn: 50.8423680\ttotal: 1.01s\tremaining: 1.06s\n",
      "489:\tlearn: 50.7269788\ttotal: 1.02s\tremaining: 1.06s\n",
      "490:\tlearn: 50.5384699\ttotal: 1.02s\tremaining: 1.05s\n",
      "491:\tlearn: 50.5047793\ttotal: 1.02s\tremaining: 1.05s\n",
      "492:\tlearn: 50.3234448\ttotal: 1.02s\tremaining: 1.05s\n",
      "493:\tlearn: 50.1653421\ttotal: 1.02s\tremaining: 1.05s\n",
      "494:\tlearn: 49.9835558\ttotal: 1.02s\tremaining: 1.04s\n",
      "495:\tlearn: 49.8884283\ttotal: 1.02s\tremaining: 1.04s\n",
      "496:\tlearn: 49.6217364\ttotal: 1.03s\tremaining: 1.04s\n",
      "497:\tlearn: 49.5268562\ttotal: 1.03s\tremaining: 1.04s\n",
      "498:\tlearn: 49.3078402\ttotal: 1.03s\tremaining: 1.03s\n",
      "499:\tlearn: 49.2571676\ttotal: 1.03s\tremaining: 1.03s\n",
      "500:\tlearn: 49.2173141\ttotal: 1.03s\tremaining: 1.03s\n",
      "501:\tlearn: 48.9813103\ttotal: 1.03s\tremaining: 1.02s\n",
      "502:\tlearn: 48.8304542\ttotal: 1.03s\tremaining: 1.02s\n",
      "503:\tlearn: 48.7430936\ttotal: 1.03s\tremaining: 1.02s\n",
      "504:\tlearn: 48.5493989\ttotal: 1.04s\tremaining: 1.02s\n",
      "505:\tlearn: 48.5134839\ttotal: 1.04s\tremaining: 1.01s\n",
      "506:\tlearn: 48.3516141\ttotal: 1.04s\tremaining: 1.01s\n",
      "507:\tlearn: 48.0631542\ttotal: 1.04s\tremaining: 1.01s\n",
      "508:\tlearn: 47.8591880\ttotal: 1.04s\tremaining: 1.01s\n",
      "509:\tlearn: 47.7182444\ttotal: 1.04s\tremaining: 1s\n",
      "510:\tlearn: 47.6301870\ttotal: 1.04s\tremaining: 1s\n",
      "511:\tlearn: 47.4767324\ttotal: 1.05s\tremaining: 998ms\n",
      "512:\tlearn: 47.2822625\ttotal: 1.05s\tremaining: 995ms\n",
      "513:\tlearn: 47.1022658\ttotal: 1.05s\tremaining: 992ms\n",
      "514:\tlearn: 47.0536181\ttotal: 1.05s\tremaining: 990ms\n",
      "515:\tlearn: 47.0249559\ttotal: 1.05s\tremaining: 987ms\n",
      "516:\tlearn: 46.8789720\ttotal: 1.05s\tremaining: 984ms\n",
      "517:\tlearn: 46.7133769\ttotal: 1.05s\tremaining: 981ms\n",
      "518:\tlearn: 46.5157986\ttotal: 1.06s\tremaining: 980ms\n",
      "519:\tlearn: 46.3630405\ttotal: 1.06s\tremaining: 977ms\n",
      "520:\tlearn: 46.1730188\ttotal: 1.06s\tremaining: 975ms\n",
      "521:\tlearn: 46.1360908\ttotal: 1.06s\tremaining: 972ms\n",
      "522:\tlearn: 45.9652487\ttotal: 1.06s\tremaining: 970ms\n",
      "523:\tlearn: 45.8122703\ttotal: 1.06s\tremaining: 967ms\n",
      "524:\tlearn: 45.4984451\ttotal: 1.06s\tremaining: 964ms\n",
      "525:\tlearn: 45.3161076\ttotal: 1.07s\tremaining: 961ms\n",
      "526:\tlearn: 45.2802854\ttotal: 1.07s\tremaining: 959ms\n",
      "527:\tlearn: 45.2448275\ttotal: 1.07s\tremaining: 956ms\n",
      "528:\tlearn: 45.0816321\ttotal: 1.07s\tremaining: 954ms\n",
      "529:\tlearn: 44.9794319\ttotal: 1.07s\tremaining: 952ms\n",
      "530:\tlearn: 44.6832140\ttotal: 1.07s\tremaining: 949ms\n",
      "531:\tlearn: 44.4460046\ttotal: 1.07s\tremaining: 946ms\n",
      "532:\tlearn: 44.2118287\ttotal: 1.08s\tremaining: 944ms\n",
      "533:\tlearn: 44.0693524\ttotal: 1.08s\tremaining: 941ms\n",
      "534:\tlearn: 43.7781614\ttotal: 1.08s\tremaining: 938ms\n",
      "535:\tlearn: 43.5541731\ttotal: 1.08s\tremaining: 936ms\n",
      "536:\tlearn: 43.5134866\ttotal: 1.08s\tremaining: 933ms\n",
      "537:\tlearn: 43.3609810\ttotal: 1.08s\tremaining: 930ms\n",
      "538:\tlearn: 43.1828364\ttotal: 1.08s\tremaining: 927ms\n",
      "539:\tlearn: 43.1681810\ttotal: 1.08s\tremaining: 924ms\n",
      "540:\tlearn: 43.0597548\ttotal: 1.09s\tremaining: 923ms\n",
      "541:\tlearn: 43.0399237\ttotal: 1.09s\tremaining: 920ms\n",
      "542:\tlearn: 42.7955247\ttotal: 1.09s\tremaining: 918ms\n",
      "543:\tlearn: 42.5339065\ttotal: 1.09s\tremaining: 915ms\n",
      "544:\tlearn: 42.4295635\ttotal: 1.09s\tremaining: 912ms\n",
      "545:\tlearn: 42.2338376\ttotal: 1.09s\tremaining: 910ms\n",
      "546:\tlearn: 42.0124060\ttotal: 1.09s\tremaining: 907ms\n",
      "547:\tlearn: 41.8255183\ttotal: 1.1s\tremaining: 905ms\n",
      "548:\tlearn: 41.6388681\ttotal: 1.1s\tremaining: 902ms\n",
      "549:\tlearn: 41.4001270\ttotal: 1.1s\tremaining: 899ms\n",
      "550:\tlearn: 41.1013528\ttotal: 1.1s\tremaining: 897ms\n",
      "551:\tlearn: 41.0100295\ttotal: 1.1s\tremaining: 896ms\n",
      "552:\tlearn: 40.9906076\ttotal: 1.1s\tremaining: 893ms\n",
      "553:\tlearn: 40.8809109\ttotal: 1.1s\tremaining: 890ms\n",
      "554:\tlearn: 40.7831302\ttotal: 1.11s\tremaining: 888ms\n",
      "555:\tlearn: 40.7317763\ttotal: 1.11s\tremaining: 885ms\n",
      "556:\tlearn: 40.6321710\ttotal: 1.11s\tremaining: 883ms\n",
      "557:\tlearn: 40.4475073\ttotal: 1.11s\tremaining: 880ms\n",
      "558:\tlearn: 40.2859957\ttotal: 1.11s\tremaining: 878ms\n",
      "559:\tlearn: 40.0262057\ttotal: 1.11s\tremaining: 875ms\n",
      "560:\tlearn: 39.9326350\ttotal: 1.12s\tremaining: 874ms\n",
      "561:\tlearn: 39.8735956\ttotal: 1.12s\tremaining: 872ms\n",
      "562:\tlearn: 39.7083019\ttotal: 1.12s\tremaining: 869ms\n",
      "563:\tlearn: 39.5379855\ttotal: 1.12s\tremaining: 868ms\n",
      "564:\tlearn: 39.3451301\ttotal: 1.12s\tremaining: 865ms\n",
      "565:\tlearn: 39.2041273\ttotal: 1.13s\tremaining: 863ms\n",
      "566:\tlearn: 38.9870162\ttotal: 1.13s\tremaining: 861ms\n",
      "567:\tlearn: 38.8638040\ttotal: 1.13s\tremaining: 858ms\n",
      "568:\tlearn: 38.7752116\ttotal: 1.13s\tremaining: 855ms\n",
      "569:\tlearn: 38.6530297\ttotal: 1.13s\tremaining: 853ms\n",
      "570:\tlearn: 38.5505372\ttotal: 1.13s\tremaining: 852ms\n",
      "571:\tlearn: 38.5134486\ttotal: 1.14s\tremaining: 850ms\n",
      "572:\tlearn: 38.3680902\ttotal: 1.14s\tremaining: 847ms\n",
      "573:\tlearn: 38.1897295\ttotal: 1.14s\tremaining: 844ms\n",
      "574:\tlearn: 38.1083536\ttotal: 1.14s\tremaining: 842ms\n",
      "575:\tlearn: 37.9229216\ttotal: 1.14s\tremaining: 840ms\n",
      "576:\tlearn: 37.8377087\ttotal: 1.14s\tremaining: 837ms\n",
      "577:\tlearn: 37.7966900\ttotal: 1.14s\tremaining: 835ms\n",
      "578:\tlearn: 37.6700761\ttotal: 1.14s\tremaining: 832ms\n",
      "579:\tlearn: 37.6355177\ttotal: 1.15s\tremaining: 829ms\n",
      "580:\tlearn: 37.4648199\ttotal: 1.15s\tremaining: 828ms\n",
      "581:\tlearn: 37.2959505\ttotal: 1.15s\tremaining: 826ms\n",
      "582:\tlearn: 37.1423961\ttotal: 1.15s\tremaining: 824ms\n",
      "583:\tlearn: 36.9297315\ttotal: 1.15s\tremaining: 822ms\n",
      "584:\tlearn: 36.8850382\ttotal: 1.15s\tremaining: 819ms\n",
      "585:\tlearn: 36.7546519\ttotal: 1.16s\tremaining: 817ms\n",
      "586:\tlearn: 36.7377554\ttotal: 1.16s\tremaining: 814ms\n",
      "587:\tlearn: 36.6899102\ttotal: 1.16s\tremaining: 812ms\n",
      "588:\tlearn: 36.5617094\ttotal: 1.16s\tremaining: 809ms\n",
      "589:\tlearn: 36.4272921\ttotal: 1.16s\tremaining: 807ms\n",
      "590:\tlearn: 36.2657889\ttotal: 1.16s\tremaining: 806ms\n",
      "591:\tlearn: 36.2539345\ttotal: 1.17s\tremaining: 803ms\n",
      "592:\tlearn: 36.2314399\ttotal: 1.17s\tremaining: 801ms\n",
      "593:\tlearn: 36.0683824\ttotal: 1.17s\tremaining: 798ms\n",
      "594:\tlearn: 35.9283095\ttotal: 1.17s\tremaining: 796ms\n",
      "595:\tlearn: 35.7968288\ttotal: 1.17s\tremaining: 793ms\n",
      "596:\tlearn: 35.7223423\ttotal: 1.17s\tremaining: 791ms\n",
      "597:\tlearn: 35.5848854\ttotal: 1.17s\tremaining: 788ms\n",
      "598:\tlearn: 35.4754344\ttotal: 1.17s\tremaining: 786ms\n",
      "599:\tlearn: 35.3533890\ttotal: 1.17s\tremaining: 783ms\n",
      "600:\tlearn: 35.2201505\ttotal: 1.18s\tremaining: 781ms\n",
      "601:\tlearn: 35.0873272\ttotal: 1.18s\tremaining: 780ms\n",
      "602:\tlearn: 35.0461873\ttotal: 1.18s\tremaining: 777ms\n",
      "603:\tlearn: 34.9273071\ttotal: 1.18s\tremaining: 775ms\n",
      "604:\tlearn: 34.8162855\ttotal: 1.18s\tremaining: 773ms\n",
      "605:\tlearn: 34.7130059\ttotal: 1.18s\tremaining: 770ms\n",
      "606:\tlearn: 34.5585617\ttotal: 1.19s\tremaining: 768ms\n",
      "607:\tlearn: 34.4611907\ttotal: 1.19s\tremaining: 765ms\n",
      "608:\tlearn: 34.4326546\ttotal: 1.19s\tremaining: 763ms\n",
      "609:\tlearn: 34.2846979\ttotal: 1.19s\tremaining: 760ms\n",
      "610:\tlearn: 34.1734501\ttotal: 1.19s\tremaining: 758ms\n",
      "611:\tlearn: 34.0230965\ttotal: 1.19s\tremaining: 755ms\n",
      "612:\tlearn: 33.8282501\ttotal: 1.19s\tremaining: 754ms\n",
      "613:\tlearn: 33.7746747\ttotal: 1.2s\tremaining: 753ms\n",
      "614:\tlearn: 33.7068386\ttotal: 1.2s\tremaining: 750ms\n",
      "615:\tlearn: 33.5780800\ttotal: 1.2s\tremaining: 748ms\n",
      "616:\tlearn: 33.4695325\ttotal: 1.2s\tremaining: 746ms\n",
      "617:\tlearn: 33.3463443\ttotal: 1.2s\tremaining: 743ms\n",
      "618:\tlearn: 33.2877395\ttotal: 1.2s\tremaining: 741ms\n",
      "619:\tlearn: 33.2418826\ttotal: 1.2s\tremaining: 738ms\n",
      "620:\tlearn: 33.1045465\ttotal: 1.21s\tremaining: 736ms\n",
      "621:\tlearn: 32.9400639\ttotal: 1.21s\tremaining: 734ms\n",
      "622:\tlearn: 32.8996970\ttotal: 1.21s\tremaining: 733ms\n",
      "623:\tlearn: 32.7429487\ttotal: 1.21s\tremaining: 730ms\n",
      "624:\tlearn: 32.6132355\ttotal: 1.21s\tremaining: 728ms\n",
      "625:\tlearn: 32.4714976\ttotal: 1.21s\tremaining: 726ms\n",
      "626:\tlearn: 32.4320448\ttotal: 1.22s\tremaining: 724ms\n",
      "627:\tlearn: 32.2628258\ttotal: 1.22s\tremaining: 721ms\n",
      "628:\tlearn: 32.2038569\ttotal: 1.22s\tremaining: 719ms\n",
      "629:\tlearn: 32.0940738\ttotal: 1.22s\tremaining: 717ms\n",
      "630:\tlearn: 32.0068495\ttotal: 1.22s\tremaining: 714ms\n",
      "631:\tlearn: 31.9053748\ttotal: 1.22s\tremaining: 713ms\n",
      "632:\tlearn: 31.7715772\ttotal: 1.23s\tremaining: 711ms\n",
      "633:\tlearn: 31.6687835\ttotal: 1.23s\tremaining: 709ms\n",
      "634:\tlearn: 31.6368050\ttotal: 1.23s\tremaining: 707ms\n",
      "635:\tlearn: 31.5709628\ttotal: 1.23s\tremaining: 705ms\n",
      "636:\tlearn: 31.4052213\ttotal: 1.23s\tremaining: 702ms\n",
      "637:\tlearn: 31.2452229\ttotal: 1.23s\tremaining: 700ms\n",
      "638:\tlearn: 31.1221828\ttotal: 1.24s\tremaining: 698ms\n",
      "639:\tlearn: 31.0853500\ttotal: 1.24s\tremaining: 696ms\n",
      "640:\tlearn: 30.9167355\ttotal: 1.24s\tremaining: 693ms\n",
      "641:\tlearn: 30.8667253\ttotal: 1.24s\tremaining: 692ms\n",
      "642:\tlearn: 30.7427129\ttotal: 1.24s\tremaining: 690ms\n",
      "643:\tlearn: 30.5748228\ttotal: 1.24s\tremaining: 688ms\n",
      "644:\tlearn: 30.5080592\ttotal: 1.25s\tremaining: 686ms\n",
      "645:\tlearn: 30.3444228\ttotal: 1.25s\tremaining: 683ms\n",
      "646:\tlearn: 30.1858385\ttotal: 1.25s\tremaining: 681ms\n",
      "647:\tlearn: 30.1481951\ttotal: 1.25s\tremaining: 679ms\n",
      "648:\tlearn: 30.1139150\ttotal: 1.25s\tremaining: 677ms\n",
      "649:\tlearn: 30.0147177\ttotal: 1.25s\tremaining: 675ms\n",
      "650:\tlearn: 29.8610501\ttotal: 1.26s\tremaining: 674ms\n",
      "651:\tlearn: 29.7793561\ttotal: 1.26s\tremaining: 672ms\n",
      "652:\tlearn: 29.6870188\ttotal: 1.26s\tremaining: 670ms\n",
      "653:\tlearn: 29.6229921\ttotal: 1.26s\tremaining: 668ms\n",
      "654:\tlearn: 29.5806823\ttotal: 1.26s\tremaining: 666ms\n",
      "655:\tlearn: 29.4903496\ttotal: 1.26s\tremaining: 664ms\n",
      "656:\tlearn: 29.4011642\ttotal: 1.27s\tremaining: 661ms\n",
      "657:\tlearn: 29.3880977\ttotal: 1.27s\tremaining: 661ms\n",
      "658:\tlearn: 29.2615919\ttotal: 1.27s\tremaining: 659ms\n",
      "659:\tlearn: 29.1004727\ttotal: 1.27s\tremaining: 657ms\n",
      "660:\tlearn: 29.0530692\ttotal: 1.28s\tremaining: 655ms\n",
      "661:\tlearn: 28.9863628\ttotal: 1.28s\tremaining: 652ms\n",
      "662:\tlearn: 28.8714304\ttotal: 1.28s\tremaining: 650ms\n",
      "663:\tlearn: 28.7331979\ttotal: 1.28s\tremaining: 648ms\n",
      "664:\tlearn: 28.6366801\ttotal: 1.28s\tremaining: 646ms\n",
      "665:\tlearn: 28.5716341\ttotal: 1.29s\tremaining: 645ms\n",
      "666:\tlearn: 28.4974876\ttotal: 1.29s\tremaining: 643ms\n",
      "667:\tlearn: 28.4112710\ttotal: 1.29s\tremaining: 641ms\n",
      "668:\tlearn: 28.2984651\ttotal: 1.29s\tremaining: 639ms\n",
      "669:\tlearn: 28.1339510\ttotal: 1.29s\tremaining: 637ms\n",
      "670:\tlearn: 28.1075789\ttotal: 1.29s\tremaining: 635ms\n",
      "671:\tlearn: 28.0922293\ttotal: 1.3s\tremaining: 633ms\n",
      "672:\tlearn: 27.9723760\ttotal: 1.3s\tremaining: 631ms\n",
      "673:\tlearn: 27.9055283\ttotal: 1.3s\tremaining: 630ms\n",
      "674:\tlearn: 27.8205243\ttotal: 1.3s\tremaining: 628ms\n",
      "675:\tlearn: 27.8084834\ttotal: 1.31s\tremaining: 626ms\n",
      "676:\tlearn: 27.7891840\ttotal: 1.31s\tremaining: 624ms\n",
      "677:\tlearn: 27.6730952\ttotal: 1.31s\tremaining: 622ms\n",
      "678:\tlearn: 27.6094279\ttotal: 1.31s\tremaining: 620ms\n",
      "679:\tlearn: 27.5709406\ttotal: 1.32s\tremaining: 620ms\n",
      "680:\tlearn: 27.5062932\ttotal: 1.32s\tremaining: 618ms\n",
      "681:\tlearn: 27.4149358\ttotal: 1.32s\tremaining: 616ms\n",
      "682:\tlearn: 27.3480578\ttotal: 1.32s\tremaining: 613ms\n",
      "683:\tlearn: 27.2546632\ttotal: 1.32s\tremaining: 611ms\n",
      "684:\tlearn: 27.1581242\ttotal: 1.32s\tremaining: 609ms\n",
      "685:\tlearn: 27.1291330\ttotal: 1.33s\tremaining: 607ms\n",
      "686:\tlearn: 27.0589760\ttotal: 1.33s\tremaining: 605ms\n",
      "687:\tlearn: 26.9207571\ttotal: 1.33s\tremaining: 604ms\n",
      "688:\tlearn: 26.8046340\ttotal: 1.33s\tremaining: 602ms\n",
      "689:\tlearn: 26.7346039\ttotal: 1.33s\tremaining: 600ms\n",
      "690:\tlearn: 26.6359238\ttotal: 1.34s\tremaining: 598ms\n",
      "691:\tlearn: 26.5458163\ttotal: 1.34s\tremaining: 596ms\n",
      "692:\tlearn: 26.5287024\ttotal: 1.34s\tremaining: 593ms\n",
      "693:\tlearn: 26.4436127\ttotal: 1.34s\tremaining: 591ms\n",
      "694:\tlearn: 26.3860996\ttotal: 1.34s\tremaining: 589ms\n",
      "695:\tlearn: 26.3271824\ttotal: 1.34s\tremaining: 588ms\n",
      "696:\tlearn: 26.1929180\ttotal: 1.35s\tremaining: 586ms\n",
      "697:\tlearn: 26.0989501\ttotal: 1.35s\tremaining: 584ms\n",
      "698:\tlearn: 26.0348052\ttotal: 1.35s\tremaining: 582ms\n",
      "699:\tlearn: 25.9715846\ttotal: 1.35s\tremaining: 580ms\n",
      "700:\tlearn: 25.8624783\ttotal: 1.35s\tremaining: 578ms\n",
      "701:\tlearn: 25.8020332\ttotal: 1.35s\tremaining: 576ms\n",
      "702:\tlearn: 25.7940141\ttotal: 1.36s\tremaining: 573ms\n",
      "703:\tlearn: 25.6937173\ttotal: 1.36s\tremaining: 572ms\n",
      "704:\tlearn: 25.6133995\ttotal: 1.36s\tremaining: 570ms\n",
      "705:\tlearn: 25.5272559\ttotal: 1.36s\tremaining: 568ms\n",
      "706:\tlearn: 25.5087600\ttotal: 1.36s\tremaining: 566ms\n",
      "707:\tlearn: 25.3506858\ttotal: 1.36s\tremaining: 563ms\n",
      "708:\tlearn: 25.3314352\ttotal: 1.37s\tremaining: 561ms\n",
      "709:\tlearn: 25.3263712\ttotal: 1.37s\tremaining: 559ms\n",
      "710:\tlearn: 25.2377772\ttotal: 1.37s\tremaining: 556ms\n",
      "711:\tlearn: 25.1296003\ttotal: 1.37s\tremaining: 554ms\n",
      "712:\tlearn: 25.1138661\ttotal: 1.37s\tremaining: 552ms\n",
      "713:\tlearn: 25.0606164\ttotal: 1.37s\tremaining: 550ms\n",
      "714:\tlearn: 24.9701122\ttotal: 1.37s\tremaining: 547ms\n",
      "715:\tlearn: 24.9266980\ttotal: 1.38s\tremaining: 546ms\n",
      "716:\tlearn: 24.8355245\ttotal: 1.38s\tremaining: 544ms\n",
      "717:\tlearn: 24.7892595\ttotal: 1.38s\tremaining: 542ms\n",
      "718:\tlearn: 24.7784156\ttotal: 1.38s\tremaining: 540ms\n",
      "719:\tlearn: 24.7204068\ttotal: 1.38s\tremaining: 537ms\n",
      "720:\tlearn: 24.6868946\ttotal: 1.38s\tremaining: 535ms\n",
      "721:\tlearn: 24.5835248\ttotal: 1.38s\tremaining: 533ms\n",
      "722:\tlearn: 24.4605667\ttotal: 1.39s\tremaining: 531ms\n",
      "723:\tlearn: 24.3780491\ttotal: 1.39s\tremaining: 529ms\n",
      "724:\tlearn: 24.3695387\ttotal: 1.39s\tremaining: 526ms\n",
      "725:\tlearn: 24.2713928\ttotal: 1.39s\tremaining: 524ms\n",
      "726:\tlearn: 24.2564573\ttotal: 1.39s\tremaining: 523ms\n",
      "727:\tlearn: 24.1259045\ttotal: 1.39s\tremaining: 521ms\n",
      "728:\tlearn: 24.0410925\ttotal: 1.39s\tremaining: 519ms\n",
      "729:\tlearn: 23.9454740\ttotal: 1.4s\tremaining: 516ms\n",
      "730:\tlearn: 23.9293944\ttotal: 1.4s\tremaining: 514ms\n",
      "731:\tlearn: 23.8408373\ttotal: 1.4s\tremaining: 512ms\n",
      "732:\tlearn: 23.7301307\ttotal: 1.4s\tremaining: 510ms\n",
      "733:\tlearn: 23.6751178\ttotal: 1.4s\tremaining: 508ms\n",
      "734:\tlearn: 23.5518474\ttotal: 1.4s\tremaining: 505ms\n",
      "735:\tlearn: 23.5054838\ttotal: 1.4s\tremaining: 503ms\n",
      "736:\tlearn: 23.4781040\ttotal: 1.4s\tremaining: 501ms\n",
      "737:\tlearn: 23.3774725\ttotal: 1.41s\tremaining: 500ms\n",
      "738:\tlearn: 23.3081022\ttotal: 1.41s\tremaining: 498ms\n",
      "739:\tlearn: 23.2915892\ttotal: 1.41s\tremaining: 495ms\n",
      "740:\tlearn: 23.2095735\ttotal: 1.41s\tremaining: 493ms\n",
      "741:\tlearn: 23.1588315\ttotal: 1.41s\tremaining: 491ms\n",
      "742:\tlearn: 23.1197993\ttotal: 1.41s\tremaining: 489ms\n",
      "743:\tlearn: 23.0327780\ttotal: 1.41s\tremaining: 487ms\n",
      "744:\tlearn: 22.9759480\ttotal: 1.42s\tremaining: 485ms\n",
      "745:\tlearn: 22.8751423\ttotal: 1.42s\tremaining: 482ms\n",
      "746:\tlearn: 22.7768127\ttotal: 1.42s\tremaining: 480ms\n",
      "747:\tlearn: 22.6474970\ttotal: 1.42s\tremaining: 478ms\n",
      "748:\tlearn: 22.5780525\ttotal: 1.42s\tremaining: 476ms\n",
      "749:\tlearn: 22.5338308\ttotal: 1.42s\tremaining: 474ms\n",
      "750:\tlearn: 22.4330276\ttotal: 1.42s\tremaining: 472ms\n",
      "751:\tlearn: 22.4193891\ttotal: 1.43s\tremaining: 470ms\n",
      "752:\tlearn: 22.4093040\ttotal: 1.43s\tremaining: 468ms\n",
      "753:\tlearn: 22.3758979\ttotal: 1.43s\tremaining: 466ms\n",
      "754:\tlearn: 22.3560173\ttotal: 1.43s\tremaining: 464ms\n",
      "755:\tlearn: 22.3264261\ttotal: 1.43s\tremaining: 462ms\n",
      "756:\tlearn: 22.2796605\ttotal: 1.43s\tremaining: 460ms\n",
      "757:\tlearn: 22.2253439\ttotal: 1.43s\tremaining: 457ms\n",
      "758:\tlearn: 22.1636409\ttotal: 1.43s\tremaining: 455ms\n",
      "759:\tlearn: 22.1078491\ttotal: 1.44s\tremaining: 453ms\n",
      "760:\tlearn: 22.0275756\ttotal: 1.44s\tremaining: 452ms\n",
      "761:\tlearn: 22.0174143\ttotal: 1.44s\tremaining: 450ms\n",
      "762:\tlearn: 21.9887391\ttotal: 1.44s\tremaining: 448ms\n",
      "763:\tlearn: 21.9746733\ttotal: 1.44s\tremaining: 446ms\n",
      "764:\tlearn: 21.9529216\ttotal: 1.44s\tremaining: 444ms\n",
      "765:\tlearn: 21.8767644\ttotal: 1.45s\tremaining: 442ms\n",
      "766:\tlearn: 21.8668039\ttotal: 1.45s\tremaining: 440ms\n",
      "767:\tlearn: 21.8008688\ttotal: 1.45s\tremaining: 438ms\n",
      "768:\tlearn: 21.7612208\ttotal: 1.45s\tremaining: 436ms\n",
      "769:\tlearn: 21.6977978\ttotal: 1.45s\tremaining: 434ms\n",
      "770:\tlearn: 21.6870461\ttotal: 1.46s\tremaining: 432ms\n",
      "771:\tlearn: 21.6599780\ttotal: 1.46s\tremaining: 431ms\n",
      "772:\tlearn: 21.5522064\ttotal: 1.46s\tremaining: 429ms\n",
      "773:\tlearn: 21.5426327\ttotal: 1.46s\tremaining: 427ms\n",
      "774:\tlearn: 21.4391089\ttotal: 1.46s\tremaining: 425ms\n",
      "775:\tlearn: 21.4042993\ttotal: 1.46s\tremaining: 423ms\n",
      "776:\tlearn: 21.3284836\ttotal: 1.47s\tremaining: 422ms\n",
      "777:\tlearn: 21.3163774\ttotal: 1.47s\tremaining: 420ms\n",
      "778:\tlearn: 21.2708416\ttotal: 1.47s\tremaining: 418ms\n",
      "779:\tlearn: 21.2056943\ttotal: 1.47s\tremaining: 416ms\n",
      "780:\tlearn: 21.1434774\ttotal: 1.47s\tremaining: 414ms\n",
      "781:\tlearn: 21.0672473\ttotal: 1.48s\tremaining: 412ms\n",
      "782:\tlearn: 20.9629645\ttotal: 1.48s\tremaining: 410ms\n",
      "783:\tlearn: 20.9522537\ttotal: 1.48s\tremaining: 408ms\n",
      "784:\tlearn: 20.9252425\ttotal: 1.48s\tremaining: 406ms\n",
      "785:\tlearn: 20.8576799\ttotal: 1.48s\tremaining: 404ms\n",
      "786:\tlearn: 20.7922970\ttotal: 1.49s\tremaining: 402ms\n",
      "787:\tlearn: 20.7802134\ttotal: 1.49s\tremaining: 400ms\n",
      "788:\tlearn: 20.7125213\ttotal: 1.49s\tremaining: 398ms\n",
      "789:\tlearn: 20.7000005\ttotal: 1.49s\tremaining: 396ms\n",
      "790:\tlearn: 20.6366378\ttotal: 1.49s\tremaining: 394ms\n",
      "791:\tlearn: 20.6170923\ttotal: 1.49s\tremaining: 392ms\n",
      "792:\tlearn: 20.5485950\ttotal: 1.49s\tremaining: 390ms\n",
      "793:\tlearn: 20.5212323\ttotal: 1.5s\tremaining: 389ms\n",
      "794:\tlearn: 20.5004347\ttotal: 1.5s\tremaining: 387ms\n",
      "795:\tlearn: 20.4884649\ttotal: 1.5s\tremaining: 385ms\n",
      "796:\tlearn: 20.3727007\ttotal: 1.5s\tremaining: 383ms\n",
      "797:\tlearn: 20.2776166\ttotal: 1.51s\tremaining: 381ms\n",
      "798:\tlearn: 20.2690965\ttotal: 1.51s\tremaining: 380ms\n",
      "799:\tlearn: 20.2166634\ttotal: 1.51s\tremaining: 379ms\n",
      "800:\tlearn: 20.1160179\ttotal: 1.52s\tremaining: 377ms\n",
      "801:\tlearn: 20.0642268\ttotal: 1.52s\tremaining: 375ms\n",
      "802:\tlearn: 20.0323601\ttotal: 1.52s\tremaining: 373ms\n",
      "803:\tlearn: 19.9485334\ttotal: 1.52s\tremaining: 371ms\n",
      "804:\tlearn: 19.9071725\ttotal: 1.52s\tremaining: 369ms\n",
      "805:\tlearn: 19.8943564\ttotal: 1.52s\tremaining: 367ms\n",
      "806:\tlearn: 19.7804687\ttotal: 1.52s\tremaining: 365ms\n",
      "807:\tlearn: 19.7343406\ttotal: 1.53s\tremaining: 363ms\n",
      "808:\tlearn: 19.6963930\ttotal: 1.53s\tremaining: 362ms\n",
      "809:\tlearn: 19.6705675\ttotal: 1.53s\tremaining: 360ms\n",
      "810:\tlearn: 19.6382933\ttotal: 1.53s\tremaining: 358ms\n",
      "811:\tlearn: 19.5889191\ttotal: 1.54s\tremaining: 356ms\n",
      "812:\tlearn: 19.5638487\ttotal: 1.54s\tremaining: 354ms\n",
      "813:\tlearn: 19.4926424\ttotal: 1.54s\tremaining: 352ms\n",
      "814:\tlearn: 19.3961396\ttotal: 1.54s\tremaining: 350ms\n",
      "815:\tlearn: 19.3880242\ttotal: 1.54s\tremaining: 348ms\n",
      "816:\tlearn: 19.2808372\ttotal: 1.55s\tremaining: 347ms\n",
      "817:\tlearn: 19.1712815\ttotal: 1.55s\tremaining: 345ms\n",
      "818:\tlearn: 19.0909823\ttotal: 1.55s\tremaining: 343ms\n",
      "819:\tlearn: 18.9993504\ttotal: 1.55s\tremaining: 341ms\n",
      "820:\tlearn: 18.9773399\ttotal: 1.55s\tremaining: 339ms\n",
      "821:\tlearn: 18.8989735\ttotal: 1.55s\tremaining: 337ms\n",
      "822:\tlearn: 18.8275176\ttotal: 1.56s\tremaining: 335ms\n",
      "823:\tlearn: 18.8092278\ttotal: 1.56s\tremaining: 333ms\n",
      "824:\tlearn: 18.7938447\ttotal: 1.56s\tremaining: 331ms\n",
      "825:\tlearn: 18.7871267\ttotal: 1.56s\tremaining: 329ms\n",
      "826:\tlearn: 18.7299674\ttotal: 1.56s\tremaining: 327ms\n",
      "827:\tlearn: 18.6808264\ttotal: 1.56s\tremaining: 325ms\n",
      "828:\tlearn: 18.5984875\ttotal: 1.57s\tremaining: 323ms\n",
      "829:\tlearn: 18.5170088\ttotal: 1.57s\tremaining: 321ms\n",
      "830:\tlearn: 18.4707382\ttotal: 1.57s\tremaining: 319ms\n",
      "831:\tlearn: 18.4368619\ttotal: 1.57s\tremaining: 317ms\n",
      "832:\tlearn: 18.3683191\ttotal: 1.57s\tremaining: 316ms\n",
      "833:\tlearn: 18.3295058\ttotal: 1.58s\tremaining: 314ms\n",
      "834:\tlearn: 18.2587263\ttotal: 1.58s\tremaining: 312ms\n",
      "835:\tlearn: 18.2103679\ttotal: 1.58s\tremaining: 310ms\n",
      "836:\tlearn: 18.1781032\ttotal: 1.58s\tremaining: 308ms\n",
      "837:\tlearn: 18.0746921\ttotal: 1.58s\tremaining: 306ms\n",
      "838:\tlearn: 18.0131984\ttotal: 1.58s\tremaining: 304ms\n",
      "839:\tlearn: 17.9510877\ttotal: 1.58s\tremaining: 302ms\n",
      "840:\tlearn: 17.8893536\ttotal: 1.59s\tremaining: 300ms\n",
      "841:\tlearn: 17.8813583\ttotal: 1.59s\tremaining: 299ms\n",
      "842:\tlearn: 17.8129857\ttotal: 1.59s\tremaining: 297ms\n",
      "843:\tlearn: 17.7981202\ttotal: 1.59s\tremaining: 295ms\n",
      "844:\tlearn: 17.7414627\ttotal: 1.59s\tremaining: 293ms\n",
      "845:\tlearn: 17.7255534\ttotal: 1.59s\tremaining: 291ms\n",
      "846:\tlearn: 17.6965545\ttotal: 1.6s\tremaining: 289ms\n",
      "847:\tlearn: 17.6499397\ttotal: 1.6s\tremaining: 286ms\n",
      "848:\tlearn: 17.6133852\ttotal: 1.6s\tremaining: 284ms\n",
      "849:\tlearn: 17.5621620\ttotal: 1.6s\tremaining: 282ms\n",
      "850:\tlearn: 17.5064049\ttotal: 1.6s\tremaining: 280ms\n",
      "851:\tlearn: 17.4643467\ttotal: 1.6s\tremaining: 278ms\n",
      "852:\tlearn: 17.4569544\ttotal: 1.6s\tremaining: 277ms\n",
      "853:\tlearn: 17.3731897\ttotal: 1.61s\tremaining: 275ms\n",
      "854:\tlearn: 17.3313609\ttotal: 1.61s\tremaining: 273ms\n",
      "855:\tlearn: 17.2781582\ttotal: 1.61s\tremaining: 271ms\n",
      "856:\tlearn: 17.2283433\ttotal: 1.61s\tremaining: 269ms\n",
      "857:\tlearn: 17.1944614\ttotal: 1.61s\tremaining: 267ms\n",
      "858:\tlearn: 17.1573393\ttotal: 1.61s\tremaining: 265ms\n",
      "859:\tlearn: 17.0975067\ttotal: 1.61s\tremaining: 263ms\n",
      "860:\tlearn: 17.0462043\ttotal: 1.61s\tremaining: 261ms\n",
      "861:\tlearn: 17.0118805\ttotal: 1.62s\tremaining: 259ms\n",
      "862:\tlearn: 17.0045195\ttotal: 1.62s\tremaining: 257ms\n",
      "863:\tlearn: 16.9528999\ttotal: 1.62s\tremaining: 255ms\n",
      "864:\tlearn: 16.9270632\ttotal: 1.62s\tremaining: 253ms\n",
      "865:\tlearn: 16.8915252\ttotal: 1.62s\tremaining: 251ms\n",
      "866:\tlearn: 16.7946576\ttotal: 1.63s\tremaining: 249ms\n",
      "867:\tlearn: 16.7737222\ttotal: 1.63s\tremaining: 247ms\n",
      "868:\tlearn: 16.7192509\ttotal: 1.63s\tremaining: 245ms\n",
      "869:\tlearn: 16.7138388\ttotal: 1.63s\tremaining: 243ms\n",
      "870:\tlearn: 16.6877768\ttotal: 1.63s\tremaining: 241ms\n",
      "871:\tlearn: 16.6265748\ttotal: 1.63s\tremaining: 239ms\n",
      "872:\tlearn: 16.5641199\ttotal: 1.63s\tremaining: 237ms\n",
      "873:\tlearn: 16.4935111\ttotal: 1.63s\tremaining: 235ms\n",
      "874:\tlearn: 16.4250863\ttotal: 1.64s\tremaining: 234ms\n",
      "875:\tlearn: 16.3566947\ttotal: 1.64s\tremaining: 232ms\n",
      "876:\tlearn: 16.2731185\ttotal: 1.64s\tremaining: 230ms\n",
      "877:\tlearn: 16.2207923\ttotal: 1.64s\tremaining: 228ms\n",
      "878:\tlearn: 16.2073108\ttotal: 1.64s\tremaining: 226ms\n",
      "879:\tlearn: 16.1336576\ttotal: 1.64s\tremaining: 224ms\n",
      "880:\tlearn: 16.0994139\ttotal: 1.65s\tremaining: 222ms\n",
      "881:\tlearn: 16.0720217\ttotal: 1.65s\tremaining: 220ms\n",
      "882:\tlearn: 16.0192163\ttotal: 1.65s\tremaining: 218ms\n",
      "883:\tlearn: 16.0021989\ttotal: 1.65s\tremaining: 216ms\n",
      "884:\tlearn: 15.9003005\ttotal: 1.65s\tremaining: 215ms\n",
      "885:\tlearn: 15.8685768\ttotal: 1.65s\tremaining: 213ms\n",
      "886:\tlearn: 15.7757199\ttotal: 1.66s\tremaining: 211ms\n",
      "887:\tlearn: 15.7280015\ttotal: 1.66s\tremaining: 209ms\n",
      "888:\tlearn: 15.7037867\ttotal: 1.66s\tremaining: 207ms\n",
      "889:\tlearn: 15.6876254\ttotal: 1.66s\tremaining: 205ms\n",
      "890:\tlearn: 15.6002589\ttotal: 1.66s\tremaining: 203ms\n",
      "891:\tlearn: 15.5663914\ttotal: 1.66s\tremaining: 201ms\n",
      "892:\tlearn: 15.4827503\ttotal: 1.66s\tremaining: 199ms\n",
      "893:\tlearn: 15.4422647\ttotal: 1.66s\tremaining: 197ms\n",
      "894:\tlearn: 15.4230904\ttotal: 1.67s\tremaining: 196ms\n",
      "895:\tlearn: 15.3907978\ttotal: 1.67s\tremaining: 194ms\n",
      "896:\tlearn: 15.3022423\ttotal: 1.67s\tremaining: 192ms\n",
      "897:\tlearn: 15.2770800\ttotal: 1.67s\tremaining: 190ms\n",
      "898:\tlearn: 15.2708396\ttotal: 1.67s\tremaining: 188ms\n",
      "899:\tlearn: 15.2217814\ttotal: 1.67s\tremaining: 186ms\n",
      "900:\tlearn: 15.2150872\ttotal: 1.68s\tremaining: 184ms\n",
      "901:\tlearn: 15.1938758\ttotal: 1.68s\tremaining: 182ms\n",
      "902:\tlearn: 15.1087389\ttotal: 1.68s\tremaining: 180ms\n",
      "903:\tlearn: 15.0270836\ttotal: 1.68s\tremaining: 178ms\n",
      "904:\tlearn: 14.9579009\ttotal: 1.68s\tremaining: 176ms\n",
      "905:\tlearn: 14.9321713\ttotal: 1.68s\tremaining: 175ms\n",
      "906:\tlearn: 14.9254894\ttotal: 1.69s\tremaining: 173ms\n",
      "907:\tlearn: 14.8662999\ttotal: 1.69s\tremaining: 171ms\n",
      "908:\tlearn: 14.7969088\ttotal: 1.69s\tremaining: 169ms\n",
      "909:\tlearn: 14.7187437\ttotal: 1.69s\tremaining: 167ms\n",
      "910:\tlearn: 14.6594229\ttotal: 1.69s\tremaining: 165ms\n",
      "911:\tlearn: 14.6109629\ttotal: 1.69s\tremaining: 163ms\n",
      "912:\tlearn: 14.5833869\ttotal: 1.69s\tremaining: 161ms\n",
      "913:\tlearn: 14.5677206\ttotal: 1.7s\tremaining: 160ms\n",
      "914:\tlearn: 14.5260964\ttotal: 1.7s\tremaining: 158ms\n",
      "915:\tlearn: 14.4838792\ttotal: 1.7s\tremaining: 156ms\n",
      "916:\tlearn: 14.4614097\ttotal: 1.7s\tremaining: 154ms\n",
      "917:\tlearn: 14.4432212\ttotal: 1.7s\tremaining: 152ms\n",
      "918:\tlearn: 14.4363977\ttotal: 1.7s\tremaining: 150ms\n",
      "919:\tlearn: 14.3740822\ttotal: 1.71s\tremaining: 148ms\n",
      "920:\tlearn: 14.3363459\ttotal: 1.71s\tremaining: 146ms\n",
      "921:\tlearn: 14.2862425\ttotal: 1.71s\tremaining: 145ms\n",
      "922:\tlearn: 14.2195191\ttotal: 1.71s\tremaining: 143ms\n",
      "923:\tlearn: 14.1752422\ttotal: 1.71s\tremaining: 141ms\n",
      "924:\tlearn: 14.1582897\ttotal: 1.71s\tremaining: 139ms\n",
      "925:\tlearn: 14.0892518\ttotal: 1.72s\tremaining: 137ms\n",
      "926:\tlearn: 14.0163904\ttotal: 1.72s\tremaining: 135ms\n",
      "927:\tlearn: 13.9674906\ttotal: 1.72s\tremaining: 133ms\n",
      "928:\tlearn: 13.9421041\ttotal: 1.72s\tremaining: 131ms\n",
      "929:\tlearn: 13.9264108\ttotal: 1.72s\tremaining: 130ms\n",
      "930:\tlearn: 13.8953443\ttotal: 1.72s\tremaining: 128ms\n",
      "931:\tlearn: 13.8514821\ttotal: 1.72s\tremaining: 126ms\n",
      "932:\tlearn: 13.8317730\ttotal: 1.72s\tremaining: 124ms\n",
      "933:\tlearn: 13.7980615\ttotal: 1.73s\tremaining: 122ms\n",
      "934:\tlearn: 13.7252551\ttotal: 1.73s\tremaining: 120ms\n",
      "935:\tlearn: 13.6867475\ttotal: 1.73s\tremaining: 118ms\n",
      "936:\tlearn: 13.6663164\ttotal: 1.73s\tremaining: 116ms\n",
      "937:\tlearn: 13.6108173\ttotal: 1.73s\tremaining: 115ms\n",
      "938:\tlearn: 13.5827380\ttotal: 1.73s\tremaining: 113ms\n",
      "939:\tlearn: 13.5211246\ttotal: 1.74s\tremaining: 111ms\n",
      "940:\tlearn: 13.4752089\ttotal: 1.74s\tremaining: 109ms\n",
      "941:\tlearn: 13.4283115\ttotal: 1.74s\tremaining: 107ms\n",
      "942:\tlearn: 13.3912327\ttotal: 1.74s\tremaining: 105ms\n",
      "943:\tlearn: 13.3593766\ttotal: 1.74s\tremaining: 103ms\n",
      "944:\tlearn: 13.3015250\ttotal: 1.74s\tremaining: 102ms\n",
      "945:\tlearn: 13.2587480\ttotal: 1.75s\tremaining: 99.7ms\n",
      "946:\tlearn: 13.1949436\ttotal: 1.75s\tremaining: 97.8ms\n",
      "947:\tlearn: 13.1552441\ttotal: 1.75s\tremaining: 95.9ms\n",
      "948:\tlearn: 13.0700947\ttotal: 1.75s\tremaining: 94ms\n",
      "949:\tlearn: 13.0460884\ttotal: 1.75s\tremaining: 92.2ms\n",
      "950:\tlearn: 13.0315972\ttotal: 1.75s\tremaining: 90.3ms\n",
      "951:\tlearn: 12.9964111\ttotal: 1.75s\tremaining: 88.4ms\n",
      "952:\tlearn: 12.9757139\ttotal: 1.75s\tremaining: 86.6ms\n",
      "953:\tlearn: 12.9120533\ttotal: 1.76s\tremaining: 84.8ms\n",
      "954:\tlearn: 12.8776679\ttotal: 1.76s\tremaining: 83ms\n",
      "955:\tlearn: 12.8703243\ttotal: 1.76s\tremaining: 81.1ms\n",
      "956:\tlearn: 12.8058615\ttotal: 1.76s\tremaining: 79.3ms\n",
      "957:\tlearn: 12.7637381\ttotal: 1.77s\tremaining: 77.4ms\n",
      "958:\tlearn: 12.7517063\ttotal: 1.77s\tremaining: 75.6ms\n",
      "959:\tlearn: 12.7382108\ttotal: 1.77s\tremaining: 73.7ms\n",
      "960:\tlearn: 12.6881713\ttotal: 1.77s\tremaining: 71.9ms\n",
      "961:\tlearn: 12.6728317\ttotal: 1.77s\tremaining: 70.1ms\n",
      "962:\tlearn: 12.6386609\ttotal: 1.78s\tremaining: 68.2ms\n",
      "963:\tlearn: 12.5837642\ttotal: 1.78s\tremaining: 66.4ms\n",
      "964:\tlearn: 12.5689789\ttotal: 1.78s\tremaining: 64.5ms\n",
      "965:\tlearn: 12.5362136\ttotal: 1.78s\tremaining: 62.7ms\n",
      "966:\tlearn: 12.5186020\ttotal: 1.78s\tremaining: 60.8ms\n",
      "967:\tlearn: 12.4787889\ttotal: 1.78s\tremaining: 59ms\n",
      "968:\tlearn: 12.4463866\ttotal: 1.78s\tremaining: 57.1ms\n",
      "969:\tlearn: 12.3919484\ttotal: 1.79s\tremaining: 55.3ms\n",
      "970:\tlearn: 12.3583173\ttotal: 1.79s\tremaining: 53.5ms\n",
      "971:\tlearn: 12.3430204\ttotal: 1.79s\tremaining: 51.6ms\n",
      "972:\tlearn: 12.3036135\ttotal: 1.79s\tremaining: 49.8ms\n",
      "973:\tlearn: 12.2785886\ttotal: 1.79s\tremaining: 47.9ms\n",
      "974:\tlearn: 12.2424148\ttotal: 1.8s\tremaining: 46.1ms\n",
      "975:\tlearn: 12.2287225\ttotal: 1.8s\tremaining: 44.2ms\n",
      "976:\tlearn: 12.1894056\ttotal: 1.8s\tremaining: 42.4ms\n",
      "977:\tlearn: 12.1399699\ttotal: 1.8s\tremaining: 40.5ms\n",
      "978:\tlearn: 12.1165698\ttotal: 1.8s\tremaining: 38.7ms\n",
      "979:\tlearn: 12.1084930\ttotal: 1.81s\tremaining: 36.9ms\n",
      "980:\tlearn: 12.1041455\ttotal: 1.81s\tremaining: 35.1ms\n",
      "981:\tlearn: 12.0749440\ttotal: 1.81s\tremaining: 33.2ms\n",
      "982:\tlearn: 12.0676323\ttotal: 1.81s\tremaining: 31.4ms\n",
      "983:\tlearn: 12.0253491\ttotal: 1.81s\tremaining: 29.5ms\n",
      "984:\tlearn: 11.9725269\ttotal: 1.82s\tremaining: 27.7ms\n",
      "985:\tlearn: 11.9344239\ttotal: 1.82s\tremaining: 25.9ms\n",
      "986:\tlearn: 11.8870660\ttotal: 1.82s\tremaining: 24ms\n",
      "987:\tlearn: 11.8411099\ttotal: 1.82s\tremaining: 22.2ms\n",
      "988:\tlearn: 11.7973602\ttotal: 1.83s\tremaining: 20.3ms\n",
      "989:\tlearn: 11.7514376\ttotal: 1.83s\tremaining: 18.5ms\n",
      "990:\tlearn: 11.7232746\ttotal: 1.83s\tremaining: 16.6ms\n",
      "991:\tlearn: 11.6852796\ttotal: 1.83s\tremaining: 14.8ms\n",
      "992:\tlearn: 11.6463794\ttotal: 1.83s\tremaining: 12.9ms\n",
      "993:\tlearn: 11.6106308\ttotal: 1.84s\tremaining: 11.1ms\n",
      "994:\tlearn: 11.5731961\ttotal: 1.84s\tremaining: 9.25ms\n",
      "995:\tlearn: 11.5417359\ttotal: 1.84s\tremaining: 7.4ms\n",
      "996:\tlearn: 11.5167117\ttotal: 1.84s\tremaining: 5.55ms\n",
      "997:\tlearn: 11.4745232\ttotal: 1.84s\tremaining: 3.7ms\n",
      "998:\tlearn: 11.4604481\ttotal: 1.85s\tremaining: 1.85ms\n",
      "999:\tlearn: 11.4510502\ttotal: 1.85s\tremaining: 0us\n"
     ]
    }
   ],
   "source": [
    "ct_model = CatBoostRegressor().fit(X_train,y_train)"
   ]
  },
  {
   "cell_type": "code",
   "execution_count": 187,
   "metadata": {},
   "outputs": [
    {
     "data": {
      "text/plain": [
       "351.194631344607"
      ]
     },
     "execution_count": 187,
     "metadata": {},
     "output_type": "execute_result"
    }
   ],
   "source": [
    "y_pred = ct_model.predict(X_test)\n",
    "np.sqrt(mean_squared_error(y_test,y_pred))"
   ]
  },
  {
   "attachments": {},
   "cell_type": "markdown",
   "metadata": {},
   "source": [
    "# Model tuning"
   ]
  },
  {
   "cell_type": "code",
   "execution_count": 190,
   "metadata": {},
   "outputs": [],
   "source": [
    "catb_params = {\"iterations\":[500],\n",
    "                \"learning_rate\":[0.1],\n",
    "                \"depth\":[3]\n",
    "                }"
   ]
  },
  {
   "cell_type": "code",
   "execution_count": 191,
   "metadata": {},
   "outputs": [],
   "source": [
    "catb_model = CatBoostRegressor()"
   ]
  },
  {
   "cell_type": "code",
   "execution_count": 192,
   "metadata": {},
   "outputs": [
    {
     "name": "stdout",
     "output_type": "stream",
     "text": [
      "Fitting 5 folds for each of 1 candidates, totalling 5 fits\n",
      "0:\tlearn: 425.7900818\ttotal: 716us\tremaining: 358ms\n",
      "1:\tlearn: 404.8723520\ttotal: 1.64ms\tremaining: 410ms\n",
      "2:\tlearn: 387.4057666\ttotal: 2.18ms\tremaining: 361ms\n",
      "3:\tlearn: 372.2801584\ttotal: 2.61ms\tremaining: 324ms\n",
      "4:\tlearn: 358.9204229\ttotal: 3.04ms\tremaining: 301ms\n",
      "5:\tlearn: 347.0083933\ttotal: 3.45ms\tremaining: 284ms\n",
      "6:\tlearn: 336.0130818\ttotal: 3.88ms\tremaining: 273ms\n",
      "7:\tlearn: 324.3923300\ttotal: 4.28ms\tremaining: 263ms\n",
      "8:\tlearn: 314.8690957\ttotal: 4.69ms\tremaining: 256ms\n",
      "9:\tlearn: 308.5075563\ttotal: 5.2ms\tremaining: 255ms\n",
      "10:\tlearn: 298.8587285\ttotal: 5.6ms\tremaining: 249ms\n",
      "11:\tlearn: 294.7655438\ttotal: 5.96ms\tremaining: 242ms\n",
      "12:\tlearn: 288.0697862\ttotal: 6.43ms\tremaining: 241ms\n",
      "13:\tlearn: 282.6697154\ttotal: 6.96ms\tremaining: 242ms\n",
      "14:\tlearn: 277.6121667\ttotal: 7.45ms\tremaining: 241ms\n",
      "15:\tlearn: 273.4383979\ttotal: 9.58ms\tremaining: 290ms\n",
      "16:\tlearn: 269.1556201\ttotal: 10.5ms\tremaining: 300ms\n",
      "17:\tlearn: 264.8098704\ttotal: 11ms\tremaining: 294ms\n",
      "18:\tlearn: 261.6700768\ttotal: 11.4ms\tremaining: 290ms\n",
      "19:\tlearn: 257.3961290\ttotal: 11.8ms\tremaining: 284ms\n",
      "20:\tlearn: 252.2691509\ttotal: 12.2ms\tremaining: 279ms\n",
      "21:\tlearn: 249.0686482\ttotal: 12.8ms\tremaining: 279ms\n",
      "22:\tlearn: 244.1881041\ttotal: 13.4ms\tremaining: 278ms\n",
      "23:\tlearn: 242.1696687\ttotal: 14ms\tremaining: 277ms\n",
      "24:\tlearn: 239.2131476\ttotal: 14.8ms\tremaining: 280ms\n",
      "25:\tlearn: 236.6883901\ttotal: 15.6ms\tremaining: 285ms\n",
      "26:\tlearn: 234.5295613\ttotal: 16.4ms\tremaining: 287ms\n",
      "27:\tlearn: 231.7788834\ttotal: 17ms\tremaining: 287ms\n",
      "28:\tlearn: 228.8020330\ttotal: 17.8ms\tremaining: 289ms\n",
      "29:\tlearn: 226.8420565\ttotal: 18.4ms\tremaining: 289ms\n",
      "30:\tlearn: 224.0686558\ttotal: 19ms\tremaining: 288ms\n",
      "31:\tlearn: 222.6644699\ttotal: 19.7ms\tremaining: 289ms\n",
      "32:\tlearn: 221.6889573\ttotal: 20.5ms\tremaining: 290ms\n",
      "33:\tlearn: 220.5171653\ttotal: 21.1ms\tremaining: 289ms\n",
      "34:\tlearn: 217.7686033\ttotal: 24ms\tremaining: 319ms\n",
      "35:\tlearn: 214.8462789\ttotal: 24.9ms\tremaining: 321ms\n",
      "36:\tlearn: 214.4799251\ttotal: 25.4ms\tremaining: 318ms\n",
      "37:\tlearn: 212.3480429\ttotal: 25.9ms\tremaining: 315ms\n",
      "38:\tlearn: 210.0040644\ttotal: 26.3ms\tremaining: 311ms\n",
      "39:\tlearn: 208.3086913\ttotal: 26.7ms\tremaining: 308ms\n",
      "40:\tlearn: 207.5469119\ttotal: 27.2ms\tremaining: 305ms\n",
      "41:\tlearn: 205.9351113\ttotal: 27.6ms\tremaining: 301ms\n",
      "42:\tlearn: 205.3580824\ttotal: 28ms\tremaining: 297ms\n",
      "43:\tlearn: 204.6204266\ttotal: 28.3ms\tremaining: 293ms\n",
      "44:\tlearn: 202.5023220\ttotal: 28.6ms\tremaining: 290ms\n",
      "45:\tlearn: 201.4347853\ttotal: 29ms\tremaining: 286ms\n",
      "46:\tlearn: 200.8752553\ttotal: 29.3ms\tremaining: 283ms\n",
      "47:\tlearn: 200.4047344\ttotal: 29.7ms\tremaining: 279ms\n",
      "48:\tlearn: 197.5433004\ttotal: 30ms\tremaining: 276ms\n",
      "49:\tlearn: 194.6943292\ttotal: 30.4ms\tremaining: 274ms\n",
      "50:\tlearn: 194.3011982\ttotal: 30.8ms\tremaining: 271ms\n",
      "51:\tlearn: 193.4011843\ttotal: 31.1ms\tremaining: 268ms\n",
      "52:\tlearn: 193.0109753\ttotal: 31.5ms\tremaining: 266ms\n",
      "53:\tlearn: 192.6071142\ttotal: 31.8ms\tremaining: 263ms\n",
      "54:\tlearn: 191.9666153\ttotal: 32.2ms\tremaining: 261ms\n",
      "55:\tlearn: 191.5789727\ttotal: 32.6ms\tremaining: 258ms\n",
      "56:\tlearn: 190.7186284\ttotal: 32.9ms\tremaining: 256ms\n",
      "57:\tlearn: 190.4543087\ttotal: 33.7ms\tremaining: 257ms\n",
      "58:\tlearn: 190.1336317\ttotal: 34.1ms\tremaining: 255ms\n",
      "59:\tlearn: 188.2286484\ttotal: 34.5ms\tremaining: 253ms\n",
      "60:\tlearn: 187.7652417\ttotal: 34.8ms\tremaining: 251ms\n",
      "61:\tlearn: 187.4227950\ttotal: 35.1ms\tremaining: 248ms\n",
      "62:\tlearn: 186.9289182\ttotal: 35.5ms\tremaining: 246ms\n",
      "63:\tlearn: 185.2993487\ttotal: 37.5ms\tremaining: 256ms\n",
      "64:\tlearn: 185.0349598\ttotal: 39ms\tremaining: 261ms\n",
      "65:\tlearn: 183.9773430\ttotal: 39.6ms\tremaining: 260ms\n",
      "66:\tlearn: 183.4463166\ttotal: 40ms\tremaining: 259ms\n",
      "67:\tlearn: 181.6627740\ttotal: 40.5ms\tremaining: 257ms\n",
      "68:\tlearn: 179.8785055\ttotal: 40.9ms\tremaining: 255ms\n",
      "69:\tlearn: 179.6737527\ttotal: 41.3ms\tremaining: 254ms\n",
      "70:\tlearn: 177.0830981\ttotal: 41.6ms\tremaining: 252ms\n",
      "71:\tlearn: 176.5917790\ttotal: 42ms\tremaining: 250ms\n",
      "72:\tlearn: 176.1240502\ttotal: 42.3ms\tremaining: 248ms\n",
      "73:\tlearn: 174.4828953\ttotal: 42.7ms\tremaining: 246ms\n",
      "74:\tlearn: 173.4220482\ttotal: 43.1ms\tremaining: 244ms\n",
      "75:\tlearn: 171.9903405\ttotal: 43.5ms\tremaining: 243ms\n",
      "76:\tlearn: 171.5803116\ttotal: 43.8ms\tremaining: 241ms\n",
      "77:\tlearn: 170.1411594\ttotal: 44.2ms\tremaining: 239ms\n",
      "78:\tlearn: 167.9868133\ttotal: 44.5ms\tremaining: 237ms\n",
      "79:\tlearn: 166.5304475\ttotal: 44.9ms\tremaining: 236ms\n",
      "80:\tlearn: 166.1741622\ttotal: 45.3ms\tremaining: 234ms\n",
      "81:\tlearn: 165.8411762\ttotal: 45.7ms\tremaining: 233ms\n",
      "82:\tlearn: 165.1041583\ttotal: 46.2ms\tremaining: 232ms\n",
      "83:\tlearn: 163.5641543\ttotal: 46.7ms\tremaining: 231ms\n",
      "84:\tlearn: 163.2003311\ttotal: 47.1ms\tremaining: 230ms\n",
      "85:\tlearn: 161.1781702\ttotal: 47.5ms\tremaining: 229ms\n",
      "86:\tlearn: 160.8727658\ttotal: 48ms\tremaining: 228ms\n",
      "87:\tlearn: 159.7954077\ttotal: 48.4ms\tremaining: 226ms\n",
      "88:\tlearn: 158.8759132\ttotal: 48.7ms\tremaining: 225ms\n",
      "89:\tlearn: 158.4831323\ttotal: 49.1ms\tremaining: 224ms\n",
      "90:\tlearn: 157.4808127\ttotal: 49.5ms\tremaining: 222ms\n",
      "91:\tlearn: 157.1703230\ttotal: 50.7ms\tremaining: 225ms\n",
      "92:\tlearn: 155.3184755\ttotal: 51.5ms\tremaining: 225ms\n",
      "93:\tlearn: 154.3988879\ttotal: 52.3ms\tremaining: 226ms\n",
      "94:\tlearn: 153.4591935\ttotal: 52.8ms\tremaining: 225ms\n",
      "95:\tlearn: 153.1206893\ttotal: 53.2ms\tremaining: 224ms\n",
      "96:\tlearn: 152.7897351\ttotal: 53.7ms\tremaining: 223ms\n",
      "97:\tlearn: 150.9293164\ttotal: 54.1ms\tremaining: 222ms\n",
      "98:\tlearn: 149.7127171\ttotal: 54.5ms\tremaining: 221ms\n",
      "99:\tlearn: 149.5089324\ttotal: 54.9ms\tremaining: 220ms\n",
      "100:\tlearn: 149.3156312\ttotal: 55.3ms\tremaining: 218ms\n",
      "101:\tlearn: 147.7226718\ttotal: 55.7ms\tremaining: 217ms\n",
      "102:\tlearn: 146.7692282\ttotal: 56ms\tremaining: 216ms\n",
      "103:\tlearn: 145.9084983\ttotal: 56.4ms\tremaining: 215ms\n",
      "104:\tlearn: 144.8780979\ttotal: 56.8ms\tremaining: 214ms\n",
      "105:\tlearn: 143.8090268\ttotal: 57.2ms\tremaining: 213ms\n",
      "106:\tlearn: 143.1272551\ttotal: 57.6ms\tremaining: 211ms\n",
      "107:\tlearn: 142.4863018\ttotal: 57.9ms\tremaining: 210ms\n",
      "108:\tlearn: 141.4861279\ttotal: 58.3ms\tremaining: 209ms\n",
      "109:\tlearn: 140.8689530\ttotal: 59ms\tremaining: 209ms\n",
      "110:\tlearn: 140.4009570\ttotal: 59.4ms\tremaining: 208ms\n",
      "111:\tlearn: 140.0344439\ttotal: 59.8ms\tremaining: 207ms\n",
      "112:\tlearn: 139.4290096\ttotal: 60.2ms\tremaining: 206ms\n",
      "113:\tlearn: 139.2008874\ttotal: 60.6ms\tremaining: 205ms\n",
      "114:\tlearn: 138.6000188\ttotal: 61ms\tremaining: 204ms\n",
      "115:\tlearn: 138.3962706\ttotal: 61.4ms\tremaining: 203ms\n",
      "116:\tlearn: 138.1737256\ttotal: 61.7ms\tremaining: 202ms\n",
      "117:\tlearn: 137.6342361\ttotal: 62.2ms\tremaining: 201ms\n",
      "118:\tlearn: 136.7119826\ttotal: 62.6ms\tremaining: 200ms\n",
      "119:\tlearn: 135.3057402\ttotal: 63ms\tremaining: 199ms\n",
      "120:\tlearn: 134.4797815\ttotal: 63.4ms\tremaining: 198ms\n",
      "121:\tlearn: 133.0774331\ttotal: 63.7ms\tremaining: 198ms\n",
      "122:\tlearn: 131.8739238\ttotal: 65.5ms\tremaining: 201ms\n",
      "123:\tlearn: 131.3203837\ttotal: 66.5ms\tremaining: 202ms\n",
      "124:\tlearn: 130.8294604\ttotal: 67ms\tremaining: 201ms\n",
      "125:\tlearn: 130.6107905\ttotal: 67.4ms\tremaining: 200ms\n",
      "126:\tlearn: 130.1614924\ttotal: 67.8ms\tremaining: 199ms\n",
      "127:\tlearn: 129.3166972\ttotal: 68.2ms\tremaining: 198ms\n",
      "128:\tlearn: 129.1038672\ttotal: 68.5ms\tremaining: 197ms\n",
      "129:\tlearn: 128.9594874\ttotal: 68.9ms\tremaining: 196ms\n",
      "130:\tlearn: 128.1849638\ttotal: 69.2ms\tremaining: 195ms\n",
      "131:\tlearn: 128.0307033\ttotal: 69.6ms\tremaining: 194ms\n",
      "132:\tlearn: 127.3373882\ttotal: 70ms\tremaining: 193ms\n",
      "133:\tlearn: 126.2856989\ttotal: 70.4ms\tremaining: 192ms\n",
      "134:\tlearn: 126.1379832\ttotal: 70.8ms\tremaining: 191ms\n",
      "135:\tlearn: 126.0180019\ttotal: 71.1ms\tremaining: 190ms\n",
      "136:\tlearn: 125.8843963\ttotal: 71.5ms\tremaining: 190ms\n",
      "137:\tlearn: 125.7576333\ttotal: 71.9ms\tremaining: 189ms\n",
      "138:\tlearn: 125.4794581\ttotal: 72.3ms\tremaining: 188ms\n",
      "139:\tlearn: 124.7920270\ttotal: 72.7ms\tremaining: 187ms\n",
      "140:\tlearn: 124.6530278\ttotal: 73.1ms\tremaining: 186ms\n",
      "141:\tlearn: 123.4539010\ttotal: 73.4ms\tremaining: 185ms\n",
      "142:\tlearn: 122.8980001\ttotal: 73.8ms\tremaining: 184ms\n",
      "143:\tlearn: 122.0911177\ttotal: 74.2ms\tremaining: 183ms\n",
      "144:\tlearn: 121.1209154\ttotal: 74.5ms\tremaining: 182ms\n",
      "145:\tlearn: 120.1613553\ttotal: 74.9ms\tremaining: 182ms\n",
      "146:\tlearn: 119.1894727\ttotal: 75.2ms\tremaining: 181ms\n",
      "147:\tlearn: 118.0325732\ttotal: 75.6ms\tremaining: 180ms\n",
      "148:\tlearn: 117.9138240\ttotal: 76ms\tremaining: 179ms\n",
      "149:\tlearn: 117.3831462\ttotal: 76.3ms\tremaining: 178ms\n",
      "150:\tlearn: 116.8475244\ttotal: 76.7ms\tremaining: 177ms\n",
      "151:\tlearn: 116.3821954\ttotal: 77ms\tremaining: 176ms\n",
      "152:\tlearn: 115.5293176\ttotal: 77.4ms\tremaining: 176ms\n",
      "153:\tlearn: 115.0975175\ttotal: 78.4ms\tremaining: 176ms\n",
      "154:\tlearn: 114.0649594\ttotal: 79.5ms\tremaining: 177ms\n",
      "155:\tlearn: 113.2562326\ttotal: 80.4ms\tremaining: 177ms\n",
      "156:\tlearn: 112.7557871\ttotal: 80.8ms\tremaining: 177ms\n",
      "157:\tlearn: 112.5657565\ttotal: 81.2ms\tremaining: 176ms\n",
      "158:\tlearn: 112.3541525\ttotal: 81.7ms\tremaining: 175ms\n",
      "159:\tlearn: 111.8527982\ttotal: 82ms\tremaining: 174ms\n",
      "160:\tlearn: 111.1619644\ttotal: 82.5ms\tremaining: 174ms\n",
      "161:\tlearn: 110.3588257\ttotal: 82.9ms\tremaining: 173ms\n",
      "162:\tlearn: 109.6664293\ttotal: 83.3ms\tremaining: 172ms\n",
      "163:\tlearn: 109.5577303\ttotal: 83.7ms\tremaining: 172ms\n",
      "164:\tlearn: 109.0570285\ttotal: 84.3ms\tremaining: 171ms\n",
      "165:\tlearn: 108.7601467\ttotal: 84.8ms\tremaining: 171ms\n",
      "166:\tlearn: 108.0448620\ttotal: 85.2ms\tremaining: 170ms\n",
      "167:\tlearn: 107.5593372\ttotal: 85.6ms\tremaining: 169ms\n",
      "168:\tlearn: 106.3862999\ttotal: 86ms\tremaining: 169ms\n",
      "169:\tlearn: 106.2180807\ttotal: 86.4ms\tremaining: 168ms\n",
      "170:\tlearn: 106.0695603\ttotal: 86.8ms\tremaining: 167ms\n",
      "171:\tlearn: 105.6940213\ttotal: 87.2ms\tremaining: 166ms\n",
      "172:\tlearn: 104.7598987\ttotal: 87.6ms\tremaining: 166ms\n",
      "173:\tlearn: 104.6589992\ttotal: 88ms\tremaining: 165ms\n",
      "174:\tlearn: 103.7203657\ttotal: 88.4ms\tremaining: 164ms\n",
      "175:\tlearn: 103.2660987\ttotal: 88.7ms\tremaining: 163ms\n",
      "176:\tlearn: 103.0926213\ttotal: 89.1ms\tremaining: 163ms\n",
      "177:\tlearn: 102.6925209\ttotal: 89.4ms\tremaining: 162ms\n",
      "178:\tlearn: 102.1655154\ttotal: 89.8ms\tremaining: 161ms\n",
      "179:\tlearn: 101.8273108\ttotal: 90.2ms\tremaining: 160ms\n",
      "180:\tlearn: 101.7264515\ttotal: 90.5ms\tremaining: 160ms\n",
      "181:\tlearn: 101.1102333\ttotal: 90.9ms\tremaining: 159ms\n",
      "182:\tlearn: 100.7880364\ttotal: 91.2ms\tremaining: 158ms\n",
      "183:\tlearn: 100.6673014\ttotal: 91.6ms\tremaining: 157ms\n",
      "184:\tlearn: 100.0153055\ttotal: 93.1ms\tremaining: 158ms\n",
      "185:\tlearn: 99.7667281\ttotal: 94.1ms\tremaining: 159ms\n",
      "186:\tlearn: 99.1860593\ttotal: 94.5ms\tremaining: 158ms\n",
      "187:\tlearn: 99.0408133\ttotal: 94.9ms\tremaining: 158ms\n",
      "188:\tlearn: 98.9030718\ttotal: 95.3ms\tremaining: 157ms\n",
      "189:\tlearn: 97.4513860\ttotal: 95.7ms\tremaining: 156ms\n",
      "190:\tlearn: 97.3322959\ttotal: 96.3ms\tremaining: 156ms\n",
      "191:\tlearn: 97.1950848\ttotal: 96.7ms\tremaining: 155ms\n",
      "192:\tlearn: 96.6789532\ttotal: 97.2ms\tremaining: 155ms\n",
      "193:\tlearn: 96.5506179\ttotal: 97.5ms\tremaining: 154ms\n",
      "194:\tlearn: 95.6635039\ttotal: 97.9ms\tremaining: 153ms\n",
      "195:\tlearn: 94.8850777\ttotal: 98.3ms\tremaining: 152ms\n",
      "196:\tlearn: 94.1624589\ttotal: 98.7ms\tremaining: 152ms\n",
      "197:\tlearn: 93.8220662\ttotal: 99.1ms\tremaining: 151ms\n",
      "198:\tlearn: 93.7300351\ttotal: 99.5ms\tremaining: 151ms\n",
      "199:\tlearn: 93.3339522\ttotal: 99.9ms\tremaining: 150ms\n",
      "200:\tlearn: 93.2187899\ttotal: 100ms\tremaining: 149ms\n",
      "201:\tlearn: 93.1229893\ttotal: 101ms\tremaining: 148ms\n",
      "202:\tlearn: 92.3652609\ttotal: 101ms\tremaining: 148ms\n",
      "203:\tlearn: 91.9783646\ttotal: 101ms\tremaining: 147ms\n",
      "204:\tlearn: 91.9001315\ttotal: 102ms\tremaining: 146ms\n",
      "205:\tlearn: 91.3853485\ttotal: 102ms\tremaining: 146ms\n",
      "206:\tlearn: 91.0739799\ttotal: 102ms\tremaining: 145ms\n",
      "207:\tlearn: 90.7397769\ttotal: 103ms\tremaining: 144ms\n",
      "208:\tlearn: 90.6559298\ttotal: 103ms\tremaining: 144ms\n",
      "209:\tlearn: 90.1743419\ttotal: 104ms\tremaining: 143ms\n",
      "210:\tlearn: 89.5990722\ttotal: 104ms\tremaining: 143ms\n",
      "211:\tlearn: 89.2669888\ttotal: 104ms\tremaining: 142ms\n",
      "212:\tlearn: 88.7659276\ttotal: 105ms\tremaining: 141ms\n",
      "213:\tlearn: 88.4770095\ttotal: 105ms\tremaining: 141ms\n",
      "214:\tlearn: 88.3764741\ttotal: 106ms\tremaining: 140ms\n",
      "215:\tlearn: 88.0525649\ttotal: 106ms\tremaining: 139ms\n",
      "216:\tlearn: 87.9761846\ttotal: 107ms\tremaining: 140ms\n",
      "217:\tlearn: 87.6042730\ttotal: 108ms\tremaining: 140ms\n",
      "218:\tlearn: 86.9514620\ttotal: 109ms\tremaining: 139ms\n",
      "219:\tlearn: 86.8967405\ttotal: 109ms\tremaining: 139ms\n",
      "220:\tlearn: 86.2438941\ttotal: 109ms\tremaining: 138ms\n",
      "221:\tlearn: 85.5834415\ttotal: 110ms\tremaining: 137ms\n",
      "222:\tlearn: 85.0300334\ttotal: 110ms\tremaining: 137ms\n",
      "223:\tlearn: 84.4518944\ttotal: 110ms\tremaining: 136ms\n",
      "224:\tlearn: 84.1336997\ttotal: 111ms\tremaining: 135ms\n",
      "225:\tlearn: 83.3363884\ttotal: 111ms\tremaining: 135ms\n",
      "226:\tlearn: 83.0804458\ttotal: 112ms\tremaining: 134ms\n",
      "227:\tlearn: 82.8233471\ttotal: 112ms\tremaining: 133ms\n",
      "228:\tlearn: 82.5337644\ttotal: 112ms\tremaining: 133ms\n",
      "229:\tlearn: 81.8142344\ttotal: 113ms\tremaining: 132ms\n",
      "230:\tlearn: 81.5004564\ttotal: 113ms\tremaining: 132ms\n",
      "231:\tlearn: 81.2798023\ttotal: 113ms\tremaining: 131ms\n",
      "232:\tlearn: 80.7611552\ttotal: 114ms\tremaining: 130ms\n",
      "233:\tlearn: 80.3886115\ttotal: 114ms\tremaining: 130ms\n",
      "234:\tlearn: 80.1299339\ttotal: 114ms\tremaining: 129ms\n",
      "235:\tlearn: 79.8491967\ttotal: 115ms\tremaining: 128ms\n",
      "236:\tlearn: 79.5615744\ttotal: 115ms\tremaining: 128ms\n",
      "237:\tlearn: 79.3117577\ttotal: 115ms\tremaining: 127ms\n",
      "238:\tlearn: 79.1086712\ttotal: 116ms\tremaining: 126ms\n",
      "239:\tlearn: 78.8298680\ttotal: 116ms\tremaining: 126ms\n",
      "240:\tlearn: 78.4353578\ttotal: 117ms\tremaining: 125ms\n",
      "241:\tlearn: 77.8564527\ttotal: 117ms\tremaining: 125ms\n",
      "242:\tlearn: 77.3853191\ttotal: 117ms\tremaining: 124ms\n",
      "243:\tlearn: 76.9503413\ttotal: 118ms\tremaining: 123ms\n",
      "244:\tlearn: 76.8791584\ttotal: 118ms\tremaining: 123ms\n",
      "245:\tlearn: 76.8091242\ttotal: 118ms\tremaining: 122ms\n",
      "246:\tlearn: 76.3259755\ttotal: 119ms\tremaining: 122ms\n",
      "247:\tlearn: 76.2576074\ttotal: 119ms\tremaining: 121ms\n",
      "248:\tlearn: 75.6197714\ttotal: 119ms\tremaining: 120ms\n",
      "249:\tlearn: 75.1108267\ttotal: 121ms\tremaining: 121ms\n",
      "250:\tlearn: 74.8951285\ttotal: 122ms\tremaining: 121ms\n",
      "251:\tlearn: 74.1881361\ttotal: 122ms\tremaining: 121ms\n",
      "252:\tlearn: 73.7075979\ttotal: 123ms\tremaining: 120ms\n",
      "253:\tlearn: 73.6579077\ttotal: 123ms\tremaining: 119ms\n",
      "254:\tlearn: 73.1865737\ttotal: 124ms\tremaining: 119ms\n",
      "255:\tlearn: 72.9702795\ttotal: 124ms\tremaining: 118ms\n",
      "256:\tlearn: 72.9155046\ttotal: 125ms\tremaining: 118ms\n",
      "257:\tlearn: 72.6118600\ttotal: 125ms\tremaining: 117ms\n",
      "258:\tlearn: 72.5577657\ttotal: 125ms\tremaining: 117ms\n",
      "259:\tlearn: 72.1525257\ttotal: 126ms\tremaining: 116ms\n",
      "260:\tlearn: 71.7943854\ttotal: 126ms\tremaining: 115ms\n",
      "261:\tlearn: 71.1090815\ttotal: 126ms\tremaining: 115ms\n",
      "262:\tlearn: 70.6948771\ttotal: 127ms\tremaining: 114ms\n",
      "263:\tlearn: 70.3614682\ttotal: 127ms\tremaining: 114ms\n",
      "264:\tlearn: 70.0417470\ttotal: 128ms\tremaining: 113ms\n",
      "265:\tlearn: 69.7026420\ttotal: 128ms\tremaining: 113ms\n",
      "266:\tlearn: 69.5040036\ttotal: 128ms\tremaining: 112ms\n",
      "267:\tlearn: 69.1426951\ttotal: 129ms\tremaining: 111ms\n",
      "268:\tlearn: 68.7942828\ttotal: 129ms\tremaining: 111ms\n",
      "269:\tlearn: 68.4519486\ttotal: 129ms\tremaining: 110ms\n",
      "270:\tlearn: 68.2501241\ttotal: 130ms\tremaining: 110ms\n",
      "271:\tlearn: 67.7950677\ttotal: 130ms\tremaining: 109ms\n",
      "272:\tlearn: 67.6253379\ttotal: 130ms\tremaining: 109ms\n",
      "273:\tlearn: 67.0299652\ttotal: 131ms\tremaining: 108ms\n",
      "274:\tlearn: 66.8269749\ttotal: 131ms\tremaining: 107ms\n",
      "275:\tlearn: 66.6473738\ttotal: 132ms\tremaining: 107ms\n",
      "276:\tlearn: 66.5896053\ttotal: 132ms\tremaining: 106ms\n",
      "277:\tlearn: 66.3475217\ttotal: 132ms\tremaining: 106ms\n",
      "278:\tlearn: 66.2949248\ttotal: 133ms\tremaining: 105ms\n",
      "279:\tlearn: 65.8505003\ttotal: 133ms\tremaining: 105ms\n",
      "280:\tlearn: 65.7054325\ttotal: 134ms\tremaining: 104ms\n",
      "281:\tlearn: 65.6563114\ttotal: 135ms\tremaining: 104ms\n",
      "282:\tlearn: 65.1152051\ttotal: 136ms\tremaining: 104ms\n",
      "283:\tlearn: 65.0016484\ttotal: 136ms\tremaining: 104ms\n",
      "284:\tlearn: 64.8592135\ttotal: 137ms\tremaining: 103ms\n",
      "285:\tlearn: 64.2616048\ttotal: 137ms\tremaining: 103ms\n",
      "286:\tlearn: 64.2091713\ttotal: 137ms\tremaining: 102ms\n",
      "287:\tlearn: 63.8230195\ttotal: 138ms\tremaining: 101ms\n",
      "288:\tlearn: 63.3548107\ttotal: 138ms\tremaining: 101ms\n",
      "289:\tlearn: 63.0655464\ttotal: 138ms\tremaining: 100ms\n",
      "290:\tlearn: 62.9430786\ttotal: 139ms\tremaining: 99.7ms\n",
      "291:\tlearn: 62.7630773\ttotal: 139ms\tremaining: 99.1ms\n",
      "292:\tlearn: 62.7062866\ttotal: 140ms\tremaining: 98.6ms\n",
      "293:\tlearn: 62.2544559\ttotal: 140ms\tremaining: 98ms\n",
      "294:\tlearn: 61.7409243\ttotal: 140ms\tremaining: 97.4ms\n",
      "295:\tlearn: 61.2323802\ttotal: 141ms\tremaining: 96.9ms\n",
      "296:\tlearn: 60.8444601\ttotal: 141ms\tremaining: 96.3ms\n",
      "297:\tlearn: 60.6799729\ttotal: 141ms\tremaining: 95.7ms\n",
      "298:\tlearn: 60.2743546\ttotal: 142ms\tremaining: 95.2ms\n",
      "299:\tlearn: 60.1192569\ttotal: 142ms\tremaining: 94.6ms\n",
      "300:\tlearn: 59.8115193\ttotal: 142ms\tremaining: 94.1ms\n",
      "301:\tlearn: 59.7738185\ttotal: 143ms\tremaining: 93.6ms\n",
      "302:\tlearn: 59.7275400\ttotal: 143ms\tremaining: 93ms\n",
      "303:\tlearn: 59.4185605\ttotal: 143ms\tremaining: 92.5ms\n",
      "304:\tlearn: 59.3739449\ttotal: 144ms\tremaining: 92ms\n",
      "305:\tlearn: 59.1037010\ttotal: 144ms\tremaining: 91.4ms\n",
      "306:\tlearn: 59.0623401\ttotal: 145ms\tremaining: 90.9ms\n",
      "307:\tlearn: 58.8334515\ttotal: 145ms\tremaining: 90.4ms\n",
      "308:\tlearn: 58.7008075\ttotal: 145ms\tremaining: 89.9ms\n",
      "309:\tlearn: 58.4241697\ttotal: 146ms\tremaining: 89.3ms\n",
      "310:\tlearn: 58.3909058\ttotal: 146ms\tremaining: 88.8ms\n",
      "311:\tlearn: 58.3560202\ttotal: 147ms\tremaining: 88.3ms\n",
      "312:\tlearn: 58.2244185\ttotal: 147ms\tremaining: 87.7ms\n",
      "313:\tlearn: 58.1989980\ttotal: 147ms\tremaining: 87.2ms\n",
      "314:\tlearn: 57.7480707\ttotal: 148ms\tremaining: 87.1ms\n",
      "315:\tlearn: 57.6045885\ttotal: 149ms\tremaining: 86.9ms\n",
      "316:\tlearn: 57.3661913\ttotal: 150ms\tremaining: 86.7ms\n",
      "317:\tlearn: 57.0509648\ttotal: 151ms\tremaining: 86.2ms\n",
      "318:\tlearn: 57.0192439\ttotal: 151ms\tremaining: 85.7ms\n",
      "319:\tlearn: 56.9939523\ttotal: 152ms\tremaining: 85.3ms\n",
      "320:\tlearn: 56.8405228\ttotal: 152ms\tremaining: 84.8ms\n",
      "321:\tlearn: 56.7420280\ttotal: 153ms\tremaining: 84.3ms\n",
      "322:\tlearn: 56.4477010\ttotal: 153ms\tremaining: 83.8ms\n",
      "323:\tlearn: 56.0826853\ttotal: 153ms\tremaining: 83.3ms\n",
      "324:\tlearn: 56.0624323\ttotal: 154ms\tremaining: 82.8ms\n",
      "325:\tlearn: 55.8598134\ttotal: 154ms\tremaining: 82.2ms\n",
      "326:\tlearn: 55.6077885\ttotal: 154ms\tremaining: 81.7ms\n",
      "327:\tlearn: 55.5141385\ttotal: 155ms\tremaining: 81.2ms\n",
      "328:\tlearn: 55.1578748\ttotal: 155ms\tremaining: 80.6ms\n",
      "329:\tlearn: 54.8687586\ttotal: 155ms\tremaining: 80.1ms\n",
      "330:\tlearn: 54.6149903\ttotal: 156ms\tremaining: 79.6ms\n",
      "331:\tlearn: 54.3373137\ttotal: 156ms\tremaining: 79ms\n",
      "332:\tlearn: 54.3010723\ttotal: 157ms\tremaining: 78.5ms\n",
      "333:\tlearn: 54.0034968\ttotal: 157ms\tremaining: 78ms\n",
      "334:\tlearn: 53.4838324\ttotal: 157ms\tremaining: 77.4ms\n",
      "335:\tlearn: 53.2427876\ttotal: 158ms\tremaining: 76.9ms\n",
      "336:\tlearn: 52.9841644\ttotal: 158ms\tremaining: 76.4ms\n",
      "337:\tlearn: 52.7883900\ttotal: 158ms\tremaining: 75.9ms\n",
      "338:\tlearn: 52.4044440\ttotal: 159ms\tremaining: 75.4ms\n",
      "339:\tlearn: 52.1002255\ttotal: 159ms\tremaining: 74.9ms\n",
      "340:\tlearn: 52.0565385\ttotal: 159ms\tremaining: 74.4ms\n",
      "341:\tlearn: 51.8333144\ttotal: 160ms\tremaining: 73.8ms\n",
      "342:\tlearn: 51.6373574\ttotal: 160ms\tremaining: 73.3ms\n",
      "343:\tlearn: 51.5215560\ttotal: 161ms\tremaining: 72.8ms\n",
      "344:\tlearn: 51.4715068\ttotal: 161ms\tremaining: 72.3ms\n",
      "345:\tlearn: 51.3708693\ttotal: 162ms\tremaining: 72.2ms\n",
      "346:\tlearn: 51.3487490\ttotal: 163ms\tremaining: 71.9ms\n",
      "347:\tlearn: 51.1293205\ttotal: 164ms\tremaining: 71.6ms\n",
      "348:\tlearn: 50.7968307\ttotal: 164ms\tremaining: 71.1ms\n",
      "349:\tlearn: 50.4247981\ttotal: 165ms\tremaining: 70.5ms\n",
      "350:\tlearn: 50.1184662\ttotal: 165ms\tremaining: 70ms\n",
      "351:\tlearn: 50.0158233\ttotal: 165ms\tremaining: 69.5ms\n",
      "352:\tlearn: 49.8167355\ttotal: 166ms\tremaining: 69ms\n",
      "353:\tlearn: 49.7231504\ttotal: 166ms\tremaining: 68.5ms\n",
      "354:\tlearn: 49.5735896\ttotal: 166ms\tremaining: 68ms\n",
      "355:\tlearn: 49.3370822\ttotal: 167ms\tremaining: 67.4ms\n",
      "356:\tlearn: 49.1271597\ttotal: 167ms\tremaining: 66.9ms\n",
      "357:\tlearn: 48.6671601\ttotal: 168ms\tremaining: 66.4ms\n",
      "358:\tlearn: 48.5820922\ttotal: 168ms\tremaining: 65.9ms\n",
      "359:\tlearn: 48.2968035\ttotal: 168ms\tremaining: 65.4ms\n",
      "360:\tlearn: 48.2725179\ttotal: 169ms\tremaining: 64.9ms\n",
      "361:\tlearn: 48.2491857\ttotal: 169ms\tremaining: 64.4ms\n",
      "362:\tlearn: 47.9937707\ttotal: 169ms\tremaining: 63.9ms\n",
      "363:\tlearn: 47.7546913\ttotal: 170ms\tremaining: 63.4ms\n",
      "364:\tlearn: 47.6351159\ttotal: 170ms\tremaining: 62.8ms\n",
      "365:\tlearn: 47.4573219\ttotal: 170ms\tremaining: 62.3ms\n",
      "366:\tlearn: 47.2461884\ttotal: 171ms\tremaining: 61.9ms\n",
      "367:\tlearn: 47.0831336\ttotal: 171ms\tremaining: 61.4ms\n",
      "368:\tlearn: 47.0616046\ttotal: 171ms\tremaining: 60.9ms\n",
      "369:\tlearn: 46.8167805\ttotal: 172ms\tremaining: 60.4ms\n",
      "370:\tlearn: 46.7105749\ttotal: 172ms\tremaining: 59.9ms\n",
      "371:\tlearn: 46.5238776\ttotal: 172ms\tremaining: 59.3ms\n",
      "372:\tlearn: 46.2028434\ttotal: 173ms\tremaining: 58.9ms\n",
      "373:\tlearn: 45.9839526\ttotal: 173ms\tremaining: 58.4ms\n",
      "374:\tlearn: 45.9116724\ttotal: 174ms\tremaining: 57.9ms\n",
      "375:\tlearn: 45.7320516\ttotal: 174ms\tremaining: 57.4ms\n",
      "376:\tlearn: 45.4374263\ttotal: 174ms\tremaining: 56.9ms\n",
      "377:\tlearn: 45.4057546\ttotal: 175ms\tremaining: 56.4ms\n",
      "378:\tlearn: 45.1327165\ttotal: 175ms\tremaining: 55.9ms\n",
      "379:\tlearn: 45.0209604\ttotal: 177ms\tremaining: 55.9ms\n",
      "380:\tlearn: 44.8196593\ttotal: 178ms\tremaining: 55.6ms\n",
      "381:\tlearn: 44.5039384\ttotal: 179ms\tremaining: 55.1ms\n",
      "382:\tlearn: 44.2600323\ttotal: 179ms\tremaining: 54.7ms\n",
      "383:\tlearn: 44.0151561\ttotal: 179ms\tremaining: 54.2ms\n",
      "384:\tlearn: 43.9556570\ttotal: 180ms\tremaining: 53.8ms\n",
      "385:\tlearn: 43.9359597\ttotal: 180ms\tremaining: 53.3ms\n",
      "386:\tlearn: 43.7555080\ttotal: 181ms\tremaining: 52.8ms\n",
      "387:\tlearn: 43.7373019\ttotal: 181ms\tremaining: 52.3ms\n",
      "388:\tlearn: 43.5293640\ttotal: 182ms\tremaining: 51.8ms\n",
      "389:\tlearn: 43.3730365\ttotal: 182ms\tremaining: 51.3ms\n",
      "390:\tlearn: 43.1909656\ttotal: 182ms\tremaining: 50.8ms\n",
      "391:\tlearn: 42.8856830\ttotal: 183ms\tremaining: 50.3ms\n",
      "392:\tlearn: 42.6992411\ttotal: 183ms\tremaining: 49.8ms\n",
      "393:\tlearn: 42.5465749\ttotal: 183ms\tremaining: 49.4ms\n",
      "394:\tlearn: 42.4807979\ttotal: 184ms\tremaining: 48.9ms\n",
      "395:\tlearn: 42.2916183\ttotal: 184ms\tremaining: 48.4ms\n",
      "396:\tlearn: 42.1037568\ttotal: 185ms\tremaining: 47.9ms\n",
      "397:\tlearn: 41.8981932\ttotal: 185ms\tremaining: 47.4ms\n",
      "398:\tlearn: 41.7248917\ttotal: 185ms\tremaining: 46.9ms\n",
      "399:\tlearn: 41.6301069\ttotal: 186ms\tremaining: 46.4ms\n",
      "400:\tlearn: 41.4400764\ttotal: 186ms\tremaining: 45.9ms\n",
      "401:\tlearn: 41.3090865\ttotal: 186ms\tremaining: 45.5ms\n",
      "402:\tlearn: 41.1301442\ttotal: 187ms\tremaining: 45ms\n",
      "403:\tlearn: 41.0443482\ttotal: 187ms\tremaining: 44.5ms\n",
      "404:\tlearn: 40.8259644\ttotal: 188ms\tremaining: 44ms\n",
      "405:\tlearn: 40.7839263\ttotal: 188ms\tremaining: 43.6ms\n",
      "406:\tlearn: 40.5480337\ttotal: 189ms\tremaining: 43.1ms\n",
      "407:\tlearn: 40.3715893\ttotal: 208ms\tremaining: 46.8ms\n",
      "408:\tlearn: 40.0394045\ttotal: 209ms\tremaining: 46.4ms\n",
      "409:\tlearn: 40.0086630\ttotal: 209ms\tremaining: 45.9ms\n",
      "410:\tlearn: 39.8104476\ttotal: 210ms\tremaining: 45.4ms\n",
      "411:\tlearn: 39.7843849\ttotal: 210ms\tremaining: 44.9ms\n",
      "412:\tlearn: 39.5300372\ttotal: 211ms\tremaining: 44.4ms\n",
      "413:\tlearn: 39.4430130\ttotal: 211ms\tremaining: 43.8ms\n",
      "414:\tlearn: 39.3629631\ttotal: 211ms\tremaining: 43.3ms\n",
      "415:\tlearn: 39.1293840\ttotal: 212ms\tremaining: 42.8ms\n",
      "416:\tlearn: 38.9691684\ttotal: 212ms\tremaining: 42.3ms\n",
      "417:\tlearn: 38.8190384\ttotal: 213ms\tremaining: 41.7ms\n",
      "418:\tlearn: 38.7077834\ttotal: 213ms\tremaining: 41.2ms\n",
      "419:\tlearn: 38.4779254\ttotal: 214ms\tremaining: 40.7ms\n",
      "420:\tlearn: 38.2678683\ttotal: 214ms\tremaining: 40.2ms\n",
      "421:\tlearn: 38.0994389\ttotal: 215ms\tremaining: 39.7ms\n",
      "422:\tlearn: 38.0005916\ttotal: 215ms\tremaining: 39.2ms\n",
      "423:\tlearn: 37.8385180\ttotal: 216ms\tremaining: 38.7ms\n",
      "424:\tlearn: 37.8083452\ttotal: 216ms\tremaining: 38.2ms\n",
      "425:\tlearn: 37.5174336\ttotal: 217ms\tremaining: 37.7ms\n",
      "426:\tlearn: 37.3208834\ttotal: 217ms\tremaining: 37.2ms\n",
      "427:\tlearn: 37.1185556\ttotal: 218ms\tremaining: 36.7ms\n",
      "428:\tlearn: 36.9282531\ttotal: 219ms\tremaining: 36.2ms\n",
      "429:\tlearn: 36.8200949\ttotal: 219ms\tremaining: 35.7ms\n",
      "430:\tlearn: 36.5845945\ttotal: 221ms\tremaining: 35.4ms\n",
      "431:\tlearn: 36.4529306\ttotal: 222ms\tremaining: 35ms\n",
      "432:\tlearn: 36.3720600\ttotal: 223ms\tremaining: 34.5ms\n",
      "433:\tlearn: 36.2143120\ttotal: 223ms\tremaining: 34ms\n",
      "434:\tlearn: 36.1631312\ttotal: 224ms\tremaining: 33.5ms\n",
      "435:\tlearn: 36.0260171\ttotal: 224ms\tremaining: 32.9ms\n",
      "436:\tlearn: 35.9587903\ttotal: 225ms\tremaining: 32.4ms\n",
      "437:\tlearn: 35.7467530\ttotal: 225ms\tremaining: 31.9ms\n",
      "438:\tlearn: 35.6636162\ttotal: 226ms\tremaining: 31.4ms\n",
      "439:\tlearn: 35.3997824\ttotal: 226ms\tremaining: 30.8ms\n",
      "440:\tlearn: 35.3553789\ttotal: 227ms\tremaining: 30.3ms\n",
      "441:\tlearn: 35.2699314\ttotal: 227ms\tremaining: 29.8ms\n",
      "442:\tlearn: 35.1306846\ttotal: 228ms\tremaining: 29.3ms\n",
      "443:\tlearn: 34.9610274\ttotal: 228ms\tremaining: 28.8ms\n",
      "444:\tlearn: 34.7856232\ttotal: 229ms\tremaining: 28.3ms\n",
      "445:\tlearn: 34.7614923\ttotal: 229ms\tremaining: 27.8ms\n",
      "446:\tlearn: 34.6543743\ttotal: 230ms\tremaining: 27.3ms\n",
      "447:\tlearn: 34.5959377\ttotal: 231ms\tremaining: 26.8ms\n",
      "448:\tlearn: 34.5691317\ttotal: 231ms\tremaining: 26.3ms\n",
      "449:\tlearn: 34.4629374\ttotal: 232ms\tremaining: 25.7ms\n",
      "450:\tlearn: 34.3200339\ttotal: 232ms\tremaining: 25.2ms\n",
      "451:\tlearn: 34.1540496\ttotal: 233ms\tremaining: 24.7ms\n",
      "452:\tlearn: 34.0985391\ttotal: 235ms\tremaining: 24.4ms\n",
      "453:\tlearn: 33.9918761\ttotal: 237ms\tremaining: 24ms\n",
      "454:\tlearn: 33.8657847\ttotal: 237ms\tremaining: 23.5ms\n",
      "455:\tlearn: 33.8438159\ttotal: 238ms\tremaining: 22.9ms\n",
      "456:\tlearn: 33.7117534\ttotal: 238ms\tremaining: 22.4ms\n",
      "457:\tlearn: 33.6771055\ttotal: 239ms\tremaining: 21.9ms\n",
      "458:\tlearn: 33.6340909\ttotal: 240ms\tremaining: 21.4ms\n",
      "459:\tlearn: 33.4471051\ttotal: 240ms\tremaining: 20.9ms\n",
      "460:\tlearn: 33.3443100\ttotal: 241ms\tremaining: 20.4ms\n",
      "461:\tlearn: 33.3006352\ttotal: 241ms\tremaining: 19.9ms\n",
      "462:\tlearn: 33.1630995\ttotal: 242ms\tremaining: 19.3ms\n",
      "463:\tlearn: 33.0996695\ttotal: 242ms\tremaining: 18.8ms\n",
      "464:\tlearn: 32.9952267\ttotal: 243ms\tremaining: 18.3ms\n",
      "465:\tlearn: 32.8806709\ttotal: 243ms\tremaining: 17.8ms\n",
      "466:\tlearn: 32.8402030\ttotal: 244ms\tremaining: 17.2ms\n",
      "467:\tlearn: 32.7515554\ttotal: 244ms\tremaining: 16.7ms\n",
      "468:\tlearn: 32.5705783\ttotal: 245ms\tremaining: 16.2ms\n",
      "469:\tlearn: 32.4509155\ttotal: 246ms\tremaining: 15.7ms\n",
      "470:\tlearn: 32.3653375\ttotal: 246ms\tremaining: 15.2ms\n",
      "471:\tlearn: 32.3354708\ttotal: 247ms\tremaining: 14.6ms\n",
      "472:\tlearn: 32.2452625\ttotal: 250ms\tremaining: 14.3ms\n",
      "473:\tlearn: 32.2128326\ttotal: 251ms\tremaining: 13.8ms\n",
      "474:\tlearn: 32.1039579\ttotal: 252ms\tremaining: 13.3ms\n",
      "475:\tlearn: 31.9549739\ttotal: 253ms\tremaining: 12.7ms\n",
      "476:\tlearn: 31.7831113\ttotal: 253ms\tremaining: 12.2ms\n",
      "477:\tlearn: 31.6923157\ttotal: 254ms\tremaining: 11.7ms\n",
      "478:\tlearn: 31.5483905\ttotal: 255ms\tremaining: 11.2ms\n",
      "479:\tlearn: 31.5175537\ttotal: 255ms\tremaining: 10.6ms\n",
      "480:\tlearn: 31.4981942\ttotal: 256ms\tremaining: 10.1ms\n",
      "481:\tlearn: 31.4399583\ttotal: 256ms\tremaining: 9.58ms\n",
      "482:\tlearn: 31.3121387\ttotal: 257ms\tremaining: 9.04ms\n",
      "483:\tlearn: 31.2522235\ttotal: 257ms\tremaining: 8.51ms\n",
      "484:\tlearn: 31.2267889\ttotal: 258ms\tremaining: 7.98ms\n",
      "485:\tlearn: 31.1412081\ttotal: 259ms\tremaining: 7.45ms\n",
      "486:\tlearn: 30.8518019\ttotal: 259ms\tremaining: 6.92ms\n",
      "487:\tlearn: 30.7746221\ttotal: 260ms\tremaining: 6.38ms\n",
      "488:\tlearn: 30.6671436\ttotal: 260ms\tremaining: 5.85ms\n",
      "489:\tlearn: 30.6538437\ttotal: 261ms\tremaining: 5.32ms\n",
      "490:\tlearn: 30.4773758\ttotal: 264ms\tremaining: 4.84ms\n",
      "491:\tlearn: 30.3351390\ttotal: 266ms\tremaining: 4.32ms\n",
      "492:\tlearn: 30.0672228\ttotal: 267ms\tremaining: 3.78ms\n",
      "493:\tlearn: 30.0359966\ttotal: 267ms\tremaining: 3.25ms\n",
      "494:\tlearn: 29.8504506\ttotal: 268ms\tremaining: 2.71ms\n",
      "495:\tlearn: 29.6461509\ttotal: 269ms\tremaining: 2.17ms\n",
      "496:\tlearn: 29.4447781\ttotal: 269ms\tremaining: 1.63ms\n",
      "497:\tlearn: 29.3848746\ttotal: 270ms\tremaining: 1.08ms\n",
      "498:\tlearn: 29.2432694\ttotal: 271ms\tremaining: 542us\n",
      "499:\tlearn: 29.1284294\ttotal: 271ms\tremaining: 0us\n"
     ]
    }
   ],
   "source": [
    "catb_cv_model = GridSearchCV(catb_model,catb_params,verbose=2,n_jobs=-1,cv=5).fit(X_train,y_train)"
   ]
  },
  {
   "cell_type": "code",
   "execution_count": 193,
   "metadata": {},
   "outputs": [
    {
     "data": {
      "text/plain": [
       "{'depth': 3, 'iterations': 500, 'learning_rate': 0.1}"
      ]
     },
     "execution_count": 193,
     "metadata": {},
     "output_type": "execute_result"
    }
   ],
   "source": [
    "catb_cv_model.best_params_"
   ]
  },
  {
   "cell_type": "code",
   "execution_count": 194,
   "metadata": {},
   "outputs": [
    {
     "name": "stdout",
     "output_type": "stream",
     "text": [
      "0:\tlearn: 425.7900818\ttotal: 1.67ms\tremaining: 834ms\n",
      "1:\tlearn: 404.8723520\ttotal: 3.06ms\tremaining: 761ms\n",
      "2:\tlearn: 387.4057666\ttotal: 4.39ms\tremaining: 727ms\n",
      "3:\tlearn: 372.2801584\ttotal: 5.29ms\tremaining: 657ms\n",
      "4:\tlearn: 358.9204229\ttotal: 6.31ms\tremaining: 625ms\n",
      "5:\tlearn: 347.0083933\ttotal: 7.08ms\tremaining: 583ms\n",
      "6:\tlearn: 336.0130818\ttotal: 7.85ms\tremaining: 553ms\n",
      "7:\tlearn: 324.3923300\ttotal: 8.67ms\tremaining: 533ms\n",
      "8:\tlearn: 314.8690957\ttotal: 9.72ms\tremaining: 531ms\n",
      "9:\tlearn: 308.5075563\ttotal: 10.7ms\tremaining: 524ms\n",
      "10:\tlearn: 298.8587285\ttotal: 11.6ms\tremaining: 516ms\n",
      "11:\tlearn: 294.7655438\ttotal: 13.9ms\tremaining: 565ms\n",
      "12:\tlearn: 288.0697862\ttotal: 15.9ms\tremaining: 597ms\n",
      "13:\tlearn: 282.6697154\ttotal: 16.7ms\tremaining: 581ms\n",
      "14:\tlearn: 277.6121667\ttotal: 18ms\tremaining: 583ms\n",
      "15:\tlearn: 273.4383979\ttotal: 19.2ms\tremaining: 582ms\n",
      "16:\tlearn: 269.1556201\ttotal: 20.9ms\tremaining: 592ms\n",
      "17:\tlearn: 264.8098704\ttotal: 21.9ms\tremaining: 587ms\n",
      "18:\tlearn: 261.6700768\ttotal: 24.5ms\tremaining: 621ms\n",
      "19:\tlearn: 257.3961290\ttotal: 25.9ms\tremaining: 621ms\n",
      "20:\tlearn: 252.2691509\ttotal: 27.5ms\tremaining: 627ms\n",
      "21:\tlearn: 249.0686482\ttotal: 29.1ms\tremaining: 632ms\n",
      "22:\tlearn: 244.1881041\ttotal: 29.9ms\tremaining: 619ms\n",
      "23:\tlearn: 242.1696687\ttotal: 31.4ms\tremaining: 623ms\n",
      "24:\tlearn: 239.2131476\ttotal: 33ms\tremaining: 626ms\n",
      "25:\tlearn: 236.6883901\ttotal: 34.7ms\tremaining: 632ms\n",
      "26:\tlearn: 234.5295613\ttotal: 35.6ms\tremaining: 624ms\n",
      "27:\tlearn: 231.7788834\ttotal: 36.6ms\tremaining: 618ms\n",
      "28:\tlearn: 228.8020330\ttotal: 38.1ms\tremaining: 619ms\n",
      "29:\tlearn: 226.8420565\ttotal: 39ms\tremaining: 611ms\n",
      "30:\tlearn: 224.0686558\ttotal: 40.2ms\tremaining: 609ms\n",
      "31:\tlearn: 222.6644699\ttotal: 42.2ms\tremaining: 618ms\n",
      "32:\tlearn: 221.6889573\ttotal: 43.1ms\tremaining: 610ms\n",
      "33:\tlearn: 220.5171653\ttotal: 44.1ms\tremaining: 605ms\n",
      "34:\tlearn: 217.7686033\ttotal: 45.6ms\tremaining: 605ms\n",
      "35:\tlearn: 214.8462789\ttotal: 47.1ms\tremaining: 606ms\n",
      "36:\tlearn: 214.4799251\ttotal: 48.2ms\tremaining: 603ms\n",
      "37:\tlearn: 212.3480429\ttotal: 49.1ms\tremaining: 597ms\n",
      "38:\tlearn: 210.0040644\ttotal: 50.2ms\tremaining: 594ms\n",
      "39:\tlearn: 208.3086913\ttotal: 51.3ms\tremaining: 590ms\n",
      "40:\tlearn: 207.5469119\ttotal: 53.6ms\tremaining: 600ms\n",
      "41:\tlearn: 205.9351113\ttotal: 55.6ms\tremaining: 606ms\n",
      "42:\tlearn: 205.3580824\ttotal: 56.4ms\tremaining: 599ms\n",
      "43:\tlearn: 204.6204266\ttotal: 58.1ms\tremaining: 602ms\n",
      "44:\tlearn: 202.5023220\ttotal: 59.2ms\tremaining: 599ms\n",
      "45:\tlearn: 201.4347853\ttotal: 60.3ms\tremaining: 595ms\n",
      "46:\tlearn: 200.8752553\ttotal: 61.2ms\tremaining: 590ms\n",
      "47:\tlearn: 200.4047344\ttotal: 61.9ms\tremaining: 583ms\n",
      "48:\tlearn: 197.5433004\ttotal: 62.7ms\tremaining: 577ms\n",
      "49:\tlearn: 194.6943292\ttotal: 63.5ms\tremaining: 571ms\n",
      "50:\tlearn: 194.3011982\ttotal: 64.2ms\tremaining: 566ms\n",
      "51:\tlearn: 193.4011843\ttotal: 65.1ms\tremaining: 561ms\n",
      "52:\tlearn: 193.0109753\ttotal: 66.4ms\tremaining: 560ms\n",
      "53:\tlearn: 192.6071142\ttotal: 68ms\tremaining: 562ms\n",
      "54:\tlearn: 191.9666153\ttotal: 68.7ms\tremaining: 556ms\n",
      "55:\tlearn: 191.5789727\ttotal: 69.5ms\tremaining: 551ms\n",
      "56:\tlearn: 190.7186284\ttotal: 70.3ms\tremaining: 546ms\n",
      "57:\tlearn: 190.4543087\ttotal: 71.6ms\tremaining: 546ms\n",
      "58:\tlearn: 190.1336317\ttotal: 72.7ms\tremaining: 543ms\n",
      "59:\tlearn: 188.2286484\ttotal: 73.9ms\tremaining: 542ms\n",
      "60:\tlearn: 187.7652417\ttotal: 75ms\tremaining: 539ms\n",
      "61:\tlearn: 187.4227950\ttotal: 76ms\tremaining: 537ms\n",
      "62:\tlearn: 186.9289182\ttotal: 77.1ms\tremaining: 534ms\n",
      "63:\tlearn: 185.2993487\ttotal: 78.4ms\tremaining: 534ms\n",
      "64:\tlearn: 185.0349598\ttotal: 79.5ms\tremaining: 532ms\n",
      "65:\tlearn: 183.9773430\ttotal: 80.7ms\tremaining: 531ms\n",
      "66:\tlearn: 183.4463166\ttotal: 81.7ms\tremaining: 528ms\n",
      "67:\tlearn: 181.6627740\ttotal: 82.4ms\tremaining: 524ms\n",
      "68:\tlearn: 179.8785055\ttotal: 83.1ms\tremaining: 519ms\n",
      "69:\tlearn: 179.6737527\ttotal: 83.8ms\tremaining: 515ms\n",
      "70:\tlearn: 177.0830981\ttotal: 85.1ms\tremaining: 514ms\n",
      "71:\tlearn: 176.5917790\ttotal: 86.1ms\tremaining: 512ms\n",
      "72:\tlearn: 176.1240502\ttotal: 87ms\tremaining: 509ms\n",
      "73:\tlearn: 174.4828953\ttotal: 88ms\tremaining: 507ms\n",
      "74:\tlearn: 173.4220482\ttotal: 88.7ms\tremaining: 502ms\n",
      "75:\tlearn: 171.9903405\ttotal: 89.3ms\tremaining: 498ms\n",
      "76:\tlearn: 171.5803116\ttotal: 90.1ms\tremaining: 495ms\n",
      "77:\tlearn: 170.1411594\ttotal: 91ms\tremaining: 493ms\n",
      "78:\tlearn: 167.9868133\ttotal: 91.9ms\tremaining: 490ms\n",
      "79:\tlearn: 166.5304475\ttotal: 92.8ms\tremaining: 487ms\n",
      "80:\tlearn: 166.1741622\ttotal: 94.2ms\tremaining: 487ms\n",
      "81:\tlearn: 165.8411762\ttotal: 95.6ms\tremaining: 487ms\n",
      "82:\tlearn: 165.1041583\ttotal: 96.5ms\tremaining: 485ms\n",
      "83:\tlearn: 163.5641543\ttotal: 97.2ms\tremaining: 481ms\n",
      "84:\tlearn: 163.2003311\ttotal: 98.5ms\tremaining: 481ms\n",
      "85:\tlearn: 161.1781702\ttotal: 99.5ms\tremaining: 479ms\n",
      "86:\tlearn: 160.8727658\ttotal: 100ms\tremaining: 477ms\n",
      "87:\tlearn: 159.7954077\ttotal: 101ms\tremaining: 474ms\n",
      "88:\tlearn: 158.8759132\ttotal: 102ms\tremaining: 472ms\n",
      "89:\tlearn: 158.4831323\ttotal: 103ms\tremaining: 471ms\n",
      "90:\tlearn: 157.4808127\ttotal: 104ms\tremaining: 469ms\n",
      "91:\tlearn: 157.1703230\ttotal: 105ms\tremaining: 466ms\n",
      "92:\tlearn: 155.3184755\ttotal: 106ms\tremaining: 464ms\n",
      "93:\tlearn: 154.3988879\ttotal: 108ms\tremaining: 466ms\n",
      "94:\tlearn: 153.4591935\ttotal: 109ms\tremaining: 466ms\n",
      "95:\tlearn: 153.1206893\ttotal: 110ms\tremaining: 464ms\n",
      "96:\tlearn: 152.7897351\ttotal: 111ms\tremaining: 462ms\n",
      "97:\tlearn: 150.9293164\ttotal: 113ms\tremaining: 465ms\n",
      "98:\tlearn: 149.7127171\ttotal: 115ms\tremaining: 467ms\n",
      "99:\tlearn: 149.5089324\ttotal: 117ms\tremaining: 469ms\n",
      "100:\tlearn: 149.3156312\ttotal: 119ms\tremaining: 472ms\n",
      "101:\tlearn: 147.7226718\ttotal: 121ms\tremaining: 473ms\n",
      "102:\tlearn: 146.7692282\ttotal: 124ms\tremaining: 477ms\n",
      "103:\tlearn: 145.9084983\ttotal: 125ms\tremaining: 475ms\n",
      "104:\tlearn: 144.8780979\ttotal: 126ms\tremaining: 475ms\n",
      "105:\tlearn: 143.8090268\ttotal: 128ms\tremaining: 475ms\n",
      "106:\tlearn: 143.1272551\ttotal: 129ms\tremaining: 473ms\n",
      "107:\tlearn: 142.4863018\ttotal: 130ms\tremaining: 471ms\n",
      "108:\tlearn: 141.4861279\ttotal: 131ms\tremaining: 469ms\n",
      "109:\tlearn: 140.8689530\ttotal: 132ms\tremaining: 467ms\n",
      "110:\tlearn: 140.4009570\ttotal: 132ms\tremaining: 464ms\n",
      "111:\tlearn: 140.0344439\ttotal: 133ms\tremaining: 462ms\n",
      "112:\tlearn: 139.4290096\ttotal: 134ms\tremaining: 460ms\n",
      "113:\tlearn: 139.2008874\ttotal: 136ms\tremaining: 462ms\n",
      "114:\tlearn: 138.6000188\ttotal: 137ms\tremaining: 459ms\n",
      "115:\tlearn: 138.3962706\ttotal: 138ms\tremaining: 457ms\n",
      "116:\tlearn: 138.1737256\ttotal: 139ms\tremaining: 455ms\n",
      "117:\tlearn: 137.6342361\ttotal: 141ms\tremaining: 455ms\n",
      "118:\tlearn: 136.7119826\ttotal: 142ms\tremaining: 453ms\n",
      "119:\tlearn: 135.3057402\ttotal: 143ms\tremaining: 452ms\n",
      "120:\tlearn: 134.4797815\ttotal: 144ms\tremaining: 451ms\n",
      "121:\tlearn: 133.0774331\ttotal: 145ms\tremaining: 448ms\n",
      "122:\tlearn: 131.8739238\ttotal: 146ms\tremaining: 447ms\n",
      "123:\tlearn: 131.3203837\ttotal: 147ms\tremaining: 446ms\n",
      "124:\tlearn: 130.8294604\ttotal: 148ms\tremaining: 444ms\n",
      "125:\tlearn: 130.6107905\ttotal: 150ms\tremaining: 445ms\n",
      "126:\tlearn: 130.1614924\ttotal: 151ms\tremaining: 444ms\n",
      "127:\tlearn: 129.3166972\ttotal: 152ms\tremaining: 441ms\n",
      "128:\tlearn: 129.1038672\ttotal: 152ms\tremaining: 438ms\n",
      "129:\tlearn: 128.9594874\ttotal: 154ms\tremaining: 437ms\n",
      "130:\tlearn: 128.1849638\ttotal: 155ms\tremaining: 437ms\n",
      "131:\tlearn: 128.0307033\ttotal: 156ms\tremaining: 436ms\n",
      "132:\tlearn: 127.3373882\ttotal: 158ms\tremaining: 435ms\n",
      "133:\tlearn: 126.2856989\ttotal: 158ms\tremaining: 432ms\n",
      "134:\tlearn: 126.1379832\ttotal: 160ms\tremaining: 432ms\n",
      "135:\tlearn: 126.0180019\ttotal: 162ms\tremaining: 433ms\n",
      "136:\tlearn: 125.8843963\ttotal: 164ms\tremaining: 435ms\n",
      "137:\tlearn: 125.7576333\ttotal: 165ms\tremaining: 434ms\n",
      "138:\tlearn: 125.4794581\ttotal: 167ms\tremaining: 433ms\n",
      "139:\tlearn: 124.7920270\ttotal: 168ms\tremaining: 433ms\n",
      "140:\tlearn: 124.6530278\ttotal: 169ms\tremaining: 431ms\n",
      "141:\tlearn: 123.4539010\ttotal: 171ms\tremaining: 431ms\n",
      "142:\tlearn: 122.8980001\ttotal: 173ms\tremaining: 432ms\n",
      "143:\tlearn: 122.0911177\ttotal: 174ms\tremaining: 430ms\n",
      "144:\tlearn: 121.1209154\ttotal: 177ms\tremaining: 434ms\n",
      "145:\tlearn: 120.1613553\ttotal: 178ms\tremaining: 433ms\n",
      "146:\tlearn: 119.1894727\ttotal: 179ms\tremaining: 431ms\n",
      "147:\tlearn: 118.0325732\ttotal: 181ms\tremaining: 430ms\n",
      "148:\tlearn: 117.9138240\ttotal: 182ms\tremaining: 429ms\n",
      "149:\tlearn: 117.3831462\ttotal: 183ms\tremaining: 427ms\n",
      "150:\tlearn: 116.8475244\ttotal: 185ms\tremaining: 427ms\n",
      "151:\tlearn: 116.3821954\ttotal: 186ms\tremaining: 426ms\n",
      "152:\tlearn: 115.5293176\ttotal: 188ms\tremaining: 426ms\n",
      "153:\tlearn: 115.0975175\ttotal: 189ms\tremaining: 425ms\n",
      "154:\tlearn: 114.0649594\ttotal: 191ms\tremaining: 425ms\n",
      "155:\tlearn: 113.2562326\ttotal: 193ms\tremaining: 425ms\n",
      "156:\tlearn: 112.7557871\ttotal: 194ms\tremaining: 423ms\n",
      "157:\tlearn: 112.5657565\ttotal: 195ms\tremaining: 422ms\n",
      "158:\tlearn: 112.3541525\ttotal: 196ms\tremaining: 421ms\n",
      "159:\tlearn: 111.8527982\ttotal: 198ms\tremaining: 421ms\n",
      "160:\tlearn: 111.1619644\ttotal: 199ms\tremaining: 419ms\n",
      "161:\tlearn: 110.3588257\ttotal: 201ms\tremaining: 419ms\n",
      "162:\tlearn: 109.6664293\ttotal: 203ms\tremaining: 419ms\n",
      "163:\tlearn: 109.5577303\ttotal: 206ms\tremaining: 422ms\n",
      "164:\tlearn: 109.0570285\ttotal: 207ms\tremaining: 420ms\n",
      "165:\tlearn: 108.7601467\ttotal: 209ms\tremaining: 420ms\n",
      "166:\tlearn: 108.0448620\ttotal: 212ms\tremaining: 422ms\n",
      "167:\tlearn: 107.5593372\ttotal: 213ms\tremaining: 421ms\n",
      "168:\tlearn: 106.3862999\ttotal: 215ms\tremaining: 421ms\n",
      "169:\tlearn: 106.2180807\ttotal: 216ms\tremaining: 419ms\n",
      "170:\tlearn: 106.0695603\ttotal: 218ms\tremaining: 419ms\n",
      "171:\tlearn: 105.6940213\ttotal: 220ms\tremaining: 419ms\n",
      "172:\tlearn: 104.7598987\ttotal: 221ms\tremaining: 418ms\n",
      "173:\tlearn: 104.6589992\ttotal: 223ms\tremaining: 418ms\n",
      "174:\tlearn: 103.7203657\ttotal: 226ms\tremaining: 419ms\n",
      "175:\tlearn: 103.2660987\ttotal: 227ms\tremaining: 418ms\n",
      "176:\tlearn: 103.0926213\ttotal: 229ms\tremaining: 417ms\n",
      "177:\tlearn: 102.6925209\ttotal: 230ms\tremaining: 416ms\n",
      "178:\tlearn: 102.1655154\ttotal: 232ms\tremaining: 416ms\n",
      "179:\tlearn: 101.8273108\ttotal: 233ms\tremaining: 415ms\n",
      "180:\tlearn: 101.7264515\ttotal: 235ms\tremaining: 413ms\n",
      "181:\tlearn: 101.1102333\ttotal: 237ms\tremaining: 414ms\n",
      "182:\tlearn: 100.7880364\ttotal: 241ms\tremaining: 417ms\n",
      "183:\tlearn: 100.6673014\ttotal: 242ms\tremaining: 415ms\n",
      "184:\tlearn: 100.0153055\ttotal: 245ms\tremaining: 417ms\n",
      "185:\tlearn: 99.7667281\ttotal: 247ms\tremaining: 416ms\n",
      "186:\tlearn: 99.1860593\ttotal: 249ms\tremaining: 417ms\n",
      "187:\tlearn: 99.0408133\ttotal: 255ms\tremaining: 423ms\n",
      "188:\tlearn: 98.9030718\ttotal: 258ms\tremaining: 424ms\n",
      "189:\tlearn: 97.4513860\ttotal: 260ms\tremaining: 424ms\n",
      "190:\tlearn: 97.3322959\ttotal: 263ms\tremaining: 425ms\n",
      "191:\tlearn: 97.1950848\ttotal: 271ms\tremaining: 435ms\n",
      "192:\tlearn: 96.6789532\ttotal: 274ms\tremaining: 436ms\n",
      "193:\tlearn: 96.5506179\ttotal: 276ms\tremaining: 435ms\n",
      "194:\tlearn: 95.6635039\ttotal: 279ms\tremaining: 437ms\n",
      "195:\tlearn: 94.8850777\ttotal: 283ms\tremaining: 439ms\n",
      "196:\tlearn: 94.1624589\ttotal: 287ms\tremaining: 441ms\n",
      "197:\tlearn: 93.8220662\ttotal: 303ms\tremaining: 462ms\n",
      "198:\tlearn: 93.7300351\ttotal: 307ms\tremaining: 464ms\n",
      "199:\tlearn: 93.3339522\ttotal: 309ms\tremaining: 463ms\n",
      "200:\tlearn: 93.2187899\ttotal: 311ms\tremaining: 462ms\n",
      "201:\tlearn: 93.1229893\ttotal: 312ms\tremaining: 460ms\n",
      "202:\tlearn: 92.3652609\ttotal: 316ms\tremaining: 462ms\n",
      "203:\tlearn: 91.9783646\ttotal: 318ms\tremaining: 462ms\n",
      "204:\tlearn: 91.9001315\ttotal: 320ms\tremaining: 461ms\n",
      "205:\tlearn: 91.3853485\ttotal: 327ms\tremaining: 466ms\n",
      "206:\tlearn: 91.0739799\ttotal: 332ms\tremaining: 469ms\n",
      "207:\tlearn: 90.7397769\ttotal: 334ms\tremaining: 468ms\n",
      "208:\tlearn: 90.6559298\ttotal: 335ms\tremaining: 466ms\n",
      "209:\tlearn: 90.1743419\ttotal: 338ms\tremaining: 467ms\n",
      "210:\tlearn: 89.5990722\ttotal: 342ms\tremaining: 469ms\n",
      "211:\tlearn: 89.2669888\ttotal: 349ms\tremaining: 474ms\n",
      "212:\tlearn: 88.7659276\ttotal: 352ms\tremaining: 474ms\n",
      "213:\tlearn: 88.4770095\ttotal: 354ms\tremaining: 473ms\n",
      "214:\tlearn: 88.3764741\ttotal: 355ms\tremaining: 471ms\n",
      "215:\tlearn: 88.0525649\ttotal: 356ms\tremaining: 469ms\n",
      "216:\tlearn: 87.9761846\ttotal: 357ms\tremaining: 466ms\n",
      "217:\tlearn: 87.6042730\ttotal: 360ms\tremaining: 466ms\n",
      "218:\tlearn: 86.9514620\ttotal: 363ms\tremaining: 466ms\n",
      "219:\tlearn: 86.8967405\ttotal: 364ms\tremaining: 464ms\n",
      "220:\tlearn: 86.2438941\ttotal: 366ms\tremaining: 462ms\n",
      "221:\tlearn: 85.5834415\ttotal: 368ms\tremaining: 460ms\n",
      "222:\tlearn: 85.0300334\ttotal: 369ms\tremaining: 459ms\n",
      "223:\tlearn: 84.4518944\ttotal: 373ms\tremaining: 460ms\n",
      "224:\tlearn: 84.1336997\ttotal: 375ms\tremaining: 459ms\n",
      "225:\tlearn: 83.3363884\ttotal: 376ms\tremaining: 456ms\n",
      "226:\tlearn: 83.0804458\ttotal: 378ms\tremaining: 455ms\n",
      "227:\tlearn: 82.8233471\ttotal: 379ms\tremaining: 453ms\n",
      "228:\tlearn: 82.5337644\ttotal: 381ms\tremaining: 451ms\n",
      "229:\tlearn: 81.8142344\ttotal: 383ms\tremaining: 450ms\n",
      "230:\tlearn: 81.5004564\ttotal: 386ms\tremaining: 450ms\n",
      "231:\tlearn: 81.2798023\ttotal: 388ms\tremaining: 448ms\n",
      "232:\tlearn: 80.7611552\ttotal: 389ms\tremaining: 446ms\n",
      "233:\tlearn: 80.3886115\ttotal: 390ms\tremaining: 444ms\n",
      "234:\tlearn: 80.1299339\ttotal: 391ms\tremaining: 441ms\n",
      "235:\tlearn: 79.8491967\ttotal: 393ms\tremaining: 440ms\n",
      "236:\tlearn: 79.5615744\ttotal: 395ms\tremaining: 438ms\n",
      "237:\tlearn: 79.3117577\ttotal: 396ms\tremaining: 436ms\n",
      "238:\tlearn: 79.1086712\ttotal: 398ms\tremaining: 434ms\n",
      "239:\tlearn: 78.8298680\ttotal: 400ms\tremaining: 434ms\n",
      "240:\tlearn: 78.4353578\ttotal: 402ms\tremaining: 432ms\n",
      "241:\tlearn: 77.8564527\ttotal: 403ms\tremaining: 430ms\n",
      "242:\tlearn: 77.3853191\ttotal: 404ms\tremaining: 428ms\n",
      "243:\tlearn: 76.9503413\ttotal: 405ms\tremaining: 425ms\n",
      "244:\tlearn: 76.8791584\ttotal: 406ms\tremaining: 423ms\n",
      "245:\tlearn: 76.8091242\ttotal: 407ms\tremaining: 420ms\n",
      "246:\tlearn: 76.3259755\ttotal: 409ms\tremaining: 419ms\n",
      "247:\tlearn: 76.2576074\ttotal: 411ms\tremaining: 417ms\n",
      "248:\tlearn: 75.6197714\ttotal: 413ms\tremaining: 416ms\n",
      "249:\tlearn: 75.1108267\ttotal: 415ms\tremaining: 415ms\n",
      "250:\tlearn: 74.8951285\ttotal: 417ms\tremaining: 413ms\n",
      "251:\tlearn: 74.1881361\ttotal: 418ms\tremaining: 411ms\n",
      "252:\tlearn: 73.7075979\ttotal: 419ms\tremaining: 409ms\n",
      "253:\tlearn: 73.6579077\ttotal: 420ms\tremaining: 407ms\n",
      "254:\tlearn: 73.1865737\ttotal: 421ms\tremaining: 405ms\n",
      "255:\tlearn: 72.9702795\ttotal: 423ms\tremaining: 403ms\n",
      "256:\tlearn: 72.9155046\ttotal: 426ms\tremaining: 403ms\n",
      "257:\tlearn: 72.6118600\ttotal: 428ms\tremaining: 402ms\n",
      "258:\tlearn: 72.5577657\ttotal: 431ms\tremaining: 401ms\n",
      "259:\tlearn: 72.1525257\ttotal: 432ms\tremaining: 399ms\n",
      "260:\tlearn: 71.7943854\ttotal: 433ms\tremaining: 396ms\n",
      "261:\tlearn: 71.1090815\ttotal: 434ms\tremaining: 394ms\n",
      "262:\tlearn: 70.6948771\ttotal: 434ms\tremaining: 391ms\n",
      "263:\tlearn: 70.3614682\ttotal: 435ms\tremaining: 389ms\n",
      "264:\tlearn: 70.0417470\ttotal: 436ms\tremaining: 387ms\n",
      "265:\tlearn: 69.7026420\ttotal: 437ms\tremaining: 384ms\n",
      "266:\tlearn: 69.5040036\ttotal: 438ms\tremaining: 382ms\n",
      "267:\tlearn: 69.1426951\ttotal: 438ms\tremaining: 380ms\n",
      "268:\tlearn: 68.7942828\ttotal: 440ms\tremaining: 378ms\n",
      "269:\tlearn: 68.4519486\ttotal: 441ms\tremaining: 376ms\n",
      "270:\tlearn: 68.2501241\ttotal: 442ms\tremaining: 374ms\n",
      "271:\tlearn: 67.7950677\ttotal: 443ms\tremaining: 371ms\n",
      "272:\tlearn: 67.6253379\ttotal: 444ms\tremaining: 369ms\n",
      "273:\tlearn: 67.0299652\ttotal: 445ms\tremaining: 367ms\n",
      "274:\tlearn: 66.8269749\ttotal: 447ms\tremaining: 366ms\n",
      "275:\tlearn: 66.6473738\ttotal: 448ms\tremaining: 364ms\n",
      "276:\tlearn: 66.5896053\ttotal: 450ms\tremaining: 362ms\n",
      "277:\tlearn: 66.3475217\ttotal: 451ms\tremaining: 360ms\n",
      "278:\tlearn: 66.2949248\ttotal: 453ms\tremaining: 358ms\n",
      "279:\tlearn: 65.8505003\ttotal: 458ms\tremaining: 360ms\n",
      "280:\tlearn: 65.7054325\ttotal: 459ms\tremaining: 358ms\n",
      "281:\tlearn: 65.6563114\ttotal: 460ms\tremaining: 356ms\n",
      "282:\tlearn: 65.1152051\ttotal: 461ms\tremaining: 353ms\n",
      "283:\tlearn: 65.0016484\ttotal: 462ms\tremaining: 351ms\n",
      "284:\tlearn: 64.8592135\ttotal: 463ms\tremaining: 349ms\n",
      "285:\tlearn: 64.2616048\ttotal: 464ms\tremaining: 347ms\n",
      "286:\tlearn: 64.2091713\ttotal: 466ms\tremaining: 346ms\n",
      "287:\tlearn: 63.8230195\ttotal: 467ms\tremaining: 344ms\n",
      "288:\tlearn: 63.3548107\ttotal: 468ms\tremaining: 341ms\n",
      "289:\tlearn: 63.0655464\ttotal: 470ms\tremaining: 340ms\n",
      "290:\tlearn: 62.9430786\ttotal: 471ms\tremaining: 338ms\n",
      "291:\tlearn: 62.7630773\ttotal: 472ms\tremaining: 336ms\n",
      "292:\tlearn: 62.7062866\ttotal: 473ms\tremaining: 334ms\n",
      "293:\tlearn: 62.2544559\ttotal: 474ms\tremaining: 332ms\n",
      "294:\tlearn: 61.7409243\ttotal: 475ms\tremaining: 330ms\n",
      "295:\tlearn: 61.2323802\ttotal: 476ms\tremaining: 328ms\n",
      "296:\tlearn: 60.8444601\ttotal: 477ms\tremaining: 326ms\n",
      "297:\tlearn: 60.6799729\ttotal: 478ms\tremaining: 324ms\n",
      "298:\tlearn: 60.2743546\ttotal: 480ms\tremaining: 323ms\n",
      "299:\tlearn: 60.1192569\ttotal: 484ms\tremaining: 323ms\n",
      "300:\tlearn: 59.8115193\ttotal: 486ms\tremaining: 321ms\n",
      "301:\tlearn: 59.7738185\ttotal: 487ms\tremaining: 320ms\n",
      "302:\tlearn: 59.7275400\ttotal: 489ms\tremaining: 318ms\n",
      "303:\tlearn: 59.4185605\ttotal: 490ms\tremaining: 316ms\n",
      "304:\tlearn: 59.3739449\ttotal: 490ms\tremaining: 314ms\n",
      "305:\tlearn: 59.1037010\ttotal: 491ms\tremaining: 312ms\n",
      "306:\tlearn: 59.0623401\ttotal: 492ms\tremaining: 310ms\n",
      "307:\tlearn: 58.8334515\ttotal: 493ms\tremaining: 307ms\n",
      "308:\tlearn: 58.7008075\ttotal: 494ms\tremaining: 305ms\n",
      "309:\tlearn: 58.4241697\ttotal: 495ms\tremaining: 303ms\n",
      "310:\tlearn: 58.3909058\ttotal: 496ms\tremaining: 301ms\n",
      "311:\tlearn: 58.3560202\ttotal: 497ms\tremaining: 299ms\n",
      "312:\tlearn: 58.2244185\ttotal: 498ms\tremaining: 298ms\n",
      "313:\tlearn: 58.1989980\ttotal: 499ms\tremaining: 296ms\n",
      "314:\tlearn: 57.7480707\ttotal: 500ms\tremaining: 294ms\n",
      "315:\tlearn: 57.6045885\ttotal: 502ms\tremaining: 292ms\n",
      "316:\tlearn: 57.3661913\ttotal: 503ms\tremaining: 290ms\n",
      "317:\tlearn: 57.0509648\ttotal: 504ms\tremaining: 289ms\n",
      "318:\tlearn: 57.0192439\ttotal: 507ms\tremaining: 287ms\n",
      "319:\tlearn: 56.9939523\ttotal: 508ms\tremaining: 286ms\n",
      "320:\tlearn: 56.8405228\ttotal: 509ms\tremaining: 284ms\n",
      "321:\tlearn: 56.7420280\ttotal: 513ms\tremaining: 283ms\n",
      "322:\tlearn: 56.4477010\ttotal: 514ms\tremaining: 282ms\n",
      "323:\tlearn: 56.0826853\ttotal: 515ms\tremaining: 280ms\n",
      "324:\tlearn: 56.0624323\ttotal: 517ms\tremaining: 278ms\n",
      "325:\tlearn: 55.8598134\ttotal: 520ms\tremaining: 278ms\n",
      "326:\tlearn: 55.6077885\ttotal: 526ms\tremaining: 278ms\n",
      "327:\tlearn: 55.5141385\ttotal: 528ms\tremaining: 277ms\n",
      "328:\tlearn: 55.1578748\ttotal: 529ms\tremaining: 275ms\n",
      "329:\tlearn: 54.8687586\ttotal: 530ms\tremaining: 273ms\n",
      "330:\tlearn: 54.6149903\ttotal: 532ms\tremaining: 272ms\n",
      "331:\tlearn: 54.3373137\ttotal: 534ms\tremaining: 270ms\n",
      "332:\tlearn: 54.3010723\ttotal: 535ms\tremaining: 268ms\n",
      "333:\tlearn: 54.0034968\ttotal: 537ms\tremaining: 267ms\n",
      "334:\tlearn: 53.4838324\ttotal: 539ms\tremaining: 265ms\n",
      "335:\tlearn: 53.2427876\ttotal: 540ms\tremaining: 264ms\n",
      "336:\tlearn: 52.9841644\ttotal: 542ms\tremaining: 262ms\n",
      "337:\tlearn: 52.7883900\ttotal: 544ms\tremaining: 261ms\n",
      "338:\tlearn: 52.4044440\ttotal: 545ms\tremaining: 259ms\n",
      "339:\tlearn: 52.1002255\ttotal: 547ms\tremaining: 257ms\n",
      "340:\tlearn: 52.0565385\ttotal: 549ms\tremaining: 256ms\n",
      "341:\tlearn: 51.8333144\ttotal: 552ms\tremaining: 255ms\n",
      "342:\tlearn: 51.6373574\ttotal: 554ms\tremaining: 253ms\n",
      "343:\tlearn: 51.5215560\ttotal: 556ms\tremaining: 252ms\n",
      "344:\tlearn: 51.4715068\ttotal: 558ms\tremaining: 250ms\n",
      "345:\tlearn: 51.3708693\ttotal: 559ms\tremaining: 249ms\n",
      "346:\tlearn: 51.3487490\ttotal: 560ms\tremaining: 247ms\n",
      "347:\tlearn: 51.1293205\ttotal: 561ms\tremaining: 245ms\n",
      "348:\tlearn: 50.7968307\ttotal: 562ms\tremaining: 243ms\n",
      "349:\tlearn: 50.4247981\ttotal: 563ms\tremaining: 241ms\n",
      "350:\tlearn: 50.1184662\ttotal: 564ms\tremaining: 239ms\n",
      "351:\tlearn: 50.0158233\ttotal: 565ms\tremaining: 238ms\n",
      "352:\tlearn: 49.8167355\ttotal: 567ms\tremaining: 236ms\n",
      "353:\tlearn: 49.7231504\ttotal: 568ms\tremaining: 234ms\n",
      "354:\tlearn: 49.5735896\ttotal: 569ms\tremaining: 232ms\n",
      "355:\tlearn: 49.3370822\ttotal: 571ms\tremaining: 231ms\n",
      "356:\tlearn: 49.1271597\ttotal: 572ms\tremaining: 229ms\n",
      "357:\tlearn: 48.6671601\ttotal: 573ms\tremaining: 227ms\n",
      "358:\tlearn: 48.5820922\ttotal: 575ms\tremaining: 226ms\n",
      "359:\tlearn: 48.2968035\ttotal: 576ms\tremaining: 224ms\n",
      "360:\tlearn: 48.2725179\ttotal: 576ms\tremaining: 222ms\n",
      "361:\tlearn: 48.2491857\ttotal: 580ms\tremaining: 221ms\n",
      "362:\tlearn: 47.9937707\ttotal: 581ms\tremaining: 219ms\n",
      "363:\tlearn: 47.7546913\ttotal: 582ms\tremaining: 218ms\n",
      "364:\tlearn: 47.6351159\ttotal: 583ms\tremaining: 216ms\n",
      "365:\tlearn: 47.4573219\ttotal: 585ms\tremaining: 214ms\n",
      "366:\tlearn: 47.2461884\ttotal: 586ms\tremaining: 212ms\n",
      "367:\tlearn: 47.0831336\ttotal: 587ms\tremaining: 211ms\n",
      "368:\tlearn: 47.0616046\ttotal: 589ms\tremaining: 209ms\n",
      "369:\tlearn: 46.8167805\ttotal: 590ms\tremaining: 207ms\n",
      "370:\tlearn: 46.7105749\ttotal: 590ms\tremaining: 205ms\n",
      "371:\tlearn: 46.5238776\ttotal: 592ms\tremaining: 204ms\n",
      "372:\tlearn: 46.2028434\ttotal: 594ms\tremaining: 202ms\n",
      "373:\tlearn: 45.9839526\ttotal: 595ms\tremaining: 200ms\n",
      "374:\tlearn: 45.9116724\ttotal: 596ms\tremaining: 199ms\n",
      "375:\tlearn: 45.7320516\ttotal: 597ms\tremaining: 197ms\n",
      "376:\tlearn: 45.4374263\ttotal: 598ms\tremaining: 195ms\n",
      "377:\tlearn: 45.4057546\ttotal: 599ms\tremaining: 193ms\n",
      "378:\tlearn: 45.1327165\ttotal: 600ms\tremaining: 192ms\n",
      "379:\tlearn: 45.0209604\ttotal: 602ms\tremaining: 190ms\n",
      "380:\tlearn: 44.8196593\ttotal: 603ms\tremaining: 188ms\n",
      "381:\tlearn: 44.5039384\ttotal: 605ms\tremaining: 187ms\n",
      "382:\tlearn: 44.2600323\ttotal: 607ms\tremaining: 186ms\n",
      "383:\tlearn: 44.0151561\ttotal: 609ms\tremaining: 184ms\n",
      "384:\tlearn: 43.9556570\ttotal: 609ms\tremaining: 182ms\n",
      "385:\tlearn: 43.9359597\ttotal: 610ms\tremaining: 180ms\n",
      "386:\tlearn: 43.7555080\ttotal: 611ms\tremaining: 178ms\n",
      "387:\tlearn: 43.7373019\ttotal: 612ms\tremaining: 177ms\n",
      "388:\tlearn: 43.5293640\ttotal: 614ms\tremaining: 175ms\n",
      "389:\tlearn: 43.3730365\ttotal: 617ms\tremaining: 174ms\n",
      "390:\tlearn: 43.1909656\ttotal: 618ms\tremaining: 172ms\n",
      "391:\tlearn: 42.8856830\ttotal: 622ms\tremaining: 171ms\n",
      "392:\tlearn: 42.6992411\ttotal: 623ms\tremaining: 170ms\n",
      "393:\tlearn: 42.5465749\ttotal: 624ms\tremaining: 168ms\n",
      "394:\tlearn: 42.4807979\ttotal: 625ms\tremaining: 166ms\n",
      "395:\tlearn: 42.2916183\ttotal: 626ms\tremaining: 164ms\n",
      "396:\tlearn: 42.1037568\ttotal: 627ms\tremaining: 163ms\n",
      "397:\tlearn: 41.8981932\ttotal: 627ms\tremaining: 161ms\n",
      "398:\tlearn: 41.7248917\ttotal: 628ms\tremaining: 159ms\n",
      "399:\tlearn: 41.6301069\ttotal: 630ms\tremaining: 157ms\n",
      "400:\tlearn: 41.4400764\ttotal: 632ms\tremaining: 156ms\n",
      "401:\tlearn: 41.3090865\ttotal: 635ms\tremaining: 155ms\n",
      "402:\tlearn: 41.1301442\ttotal: 636ms\tremaining: 153ms\n",
      "403:\tlearn: 41.0443482\ttotal: 637ms\tremaining: 151ms\n",
      "404:\tlearn: 40.8259644\ttotal: 638ms\tremaining: 150ms\n",
      "405:\tlearn: 40.7839263\ttotal: 639ms\tremaining: 148ms\n",
      "406:\tlearn: 40.5480337\ttotal: 640ms\tremaining: 146ms\n",
      "407:\tlearn: 40.3715893\ttotal: 641ms\tremaining: 145ms\n",
      "408:\tlearn: 40.0394045\ttotal: 642ms\tremaining: 143ms\n",
      "409:\tlearn: 40.0086630\ttotal: 644ms\tremaining: 141ms\n",
      "410:\tlearn: 39.8104476\ttotal: 645ms\tremaining: 140ms\n",
      "411:\tlearn: 39.7843849\ttotal: 645ms\tremaining: 138ms\n",
      "412:\tlearn: 39.5300372\ttotal: 647ms\tremaining: 136ms\n",
      "413:\tlearn: 39.4430130\ttotal: 649ms\tremaining: 135ms\n",
      "414:\tlearn: 39.3629631\ttotal: 650ms\tremaining: 133ms\n",
      "415:\tlearn: 39.1293840\ttotal: 651ms\tremaining: 131ms\n",
      "416:\tlearn: 38.9691684\ttotal: 652ms\tremaining: 130ms\n",
      "417:\tlearn: 38.8190384\ttotal: 653ms\tremaining: 128ms\n",
      "418:\tlearn: 38.7077834\ttotal: 654ms\tremaining: 126ms\n",
      "419:\tlearn: 38.4779254\ttotal: 655ms\tremaining: 125ms\n",
      "420:\tlearn: 38.2678683\ttotal: 656ms\tremaining: 123ms\n",
      "421:\tlearn: 38.0994389\ttotal: 657ms\tremaining: 121ms\n",
      "422:\tlearn: 38.0005916\ttotal: 658ms\tremaining: 120ms\n",
      "423:\tlearn: 37.8385180\ttotal: 659ms\tremaining: 118ms\n",
      "424:\tlearn: 37.8083452\ttotal: 659ms\tremaining: 116ms\n",
      "425:\tlearn: 37.5174336\ttotal: 661ms\tremaining: 115ms\n",
      "426:\tlearn: 37.3208834\ttotal: 663ms\tremaining: 113ms\n",
      "427:\tlearn: 37.1185556\ttotal: 663ms\tremaining: 112ms\n",
      "428:\tlearn: 36.9282531\ttotal: 664ms\tremaining: 110ms\n",
      "429:\tlearn: 36.8200949\ttotal: 665ms\tremaining: 108ms\n",
      "430:\tlearn: 36.5845945\ttotal: 666ms\tremaining: 107ms\n",
      "431:\tlearn: 36.4529306\ttotal: 667ms\tremaining: 105ms\n",
      "432:\tlearn: 36.3720600\ttotal: 668ms\tremaining: 103ms\n",
      "433:\tlearn: 36.2143120\ttotal: 668ms\tremaining: 102ms\n",
      "434:\tlearn: 36.1631312\ttotal: 669ms\tremaining: 100ms\n",
      "435:\tlearn: 36.0260171\ttotal: 671ms\tremaining: 98.4ms\n",
      "436:\tlearn: 35.9587903\ttotal: 671ms\tremaining: 96.8ms\n",
      "437:\tlearn: 35.7467530\ttotal: 672ms\tremaining: 95.2ms\n",
      "438:\tlearn: 35.6636162\ttotal: 673ms\tremaining: 93.5ms\n",
      "439:\tlearn: 35.3997824\ttotal: 674ms\tremaining: 91.9ms\n",
      "440:\tlearn: 35.3553789\ttotal: 677ms\tremaining: 90.5ms\n",
      "441:\tlearn: 35.2699314\ttotal: 678ms\tremaining: 88.9ms\n",
      "442:\tlearn: 35.1306846\ttotal: 679ms\tremaining: 87.3ms\n",
      "443:\tlearn: 34.9610274\ttotal: 679ms\tremaining: 85.7ms\n",
      "444:\tlearn: 34.7856232\ttotal: 680ms\tremaining: 84.1ms\n",
      "445:\tlearn: 34.7614923\ttotal: 681ms\tremaining: 82.4ms\n",
      "446:\tlearn: 34.6543743\ttotal: 682ms\tremaining: 80.8ms\n",
      "447:\tlearn: 34.5959377\ttotal: 683ms\tremaining: 79.2ms\n",
      "448:\tlearn: 34.5691317\ttotal: 684ms\tremaining: 77.6ms\n",
      "449:\tlearn: 34.4629374\ttotal: 685ms\tremaining: 76.1ms\n",
      "450:\tlearn: 34.3200339\ttotal: 686ms\tremaining: 74.5ms\n",
      "451:\tlearn: 34.1540496\ttotal: 688ms\tremaining: 73ms\n",
      "452:\tlearn: 34.0985391\ttotal: 691ms\tremaining: 71.6ms\n",
      "453:\tlearn: 33.9918761\ttotal: 692ms\tremaining: 70.1ms\n",
      "454:\tlearn: 33.8657847\ttotal: 693ms\tremaining: 68.5ms\n",
      "455:\tlearn: 33.8438159\ttotal: 694ms\tremaining: 66.9ms\n",
      "456:\tlearn: 33.7117534\ttotal: 694ms\tremaining: 65.3ms\n",
      "457:\tlearn: 33.6771055\ttotal: 695ms\tremaining: 63.8ms\n",
      "458:\tlearn: 33.6340909\ttotal: 696ms\tremaining: 62.2ms\n",
      "459:\tlearn: 33.4471051\ttotal: 697ms\tremaining: 60.6ms\n",
      "460:\tlearn: 33.3443100\ttotal: 698ms\tremaining: 59ms\n",
      "461:\tlearn: 33.3006352\ttotal: 700ms\tremaining: 57.5ms\n",
      "462:\tlearn: 33.1630995\ttotal: 701ms\tremaining: 56ms\n",
      "463:\tlearn: 33.0996695\ttotal: 701ms\tremaining: 54.4ms\n",
      "464:\tlearn: 32.9952267\ttotal: 703ms\tremaining: 52.9ms\n",
      "465:\tlearn: 32.8806709\ttotal: 705ms\tremaining: 51.4ms\n",
      "466:\tlearn: 32.8402030\ttotal: 706ms\tremaining: 49.9ms\n",
      "467:\tlearn: 32.7515554\ttotal: 706ms\tremaining: 48.3ms\n",
      "468:\tlearn: 32.5705783\ttotal: 707ms\tremaining: 46.7ms\n",
      "469:\tlearn: 32.4509155\ttotal: 708ms\tremaining: 45.2ms\n",
      "470:\tlearn: 32.3653375\ttotal: 709ms\tremaining: 43.7ms\n",
      "471:\tlearn: 32.3354708\ttotal: 710ms\tremaining: 42.1ms\n",
      "472:\tlearn: 32.2452625\ttotal: 711ms\tremaining: 40.6ms\n",
      "473:\tlearn: 32.2128326\ttotal: 712ms\tremaining: 39.1ms\n",
      "474:\tlearn: 32.1039579\ttotal: 714ms\tremaining: 37.6ms\n",
      "475:\tlearn: 31.9549739\ttotal: 715ms\tremaining: 36ms\n",
      "476:\tlearn: 31.7831113\ttotal: 715ms\tremaining: 34.5ms\n",
      "477:\tlearn: 31.6923157\ttotal: 717ms\tremaining: 33ms\n",
      "478:\tlearn: 31.5483905\ttotal: 718ms\tremaining: 31.5ms\n",
      "479:\tlearn: 31.5175537\ttotal: 720ms\tremaining: 30ms\n",
      "480:\tlearn: 31.4981942\ttotal: 720ms\tremaining: 28.5ms\n",
      "481:\tlearn: 31.4399583\ttotal: 721ms\tremaining: 26.9ms\n",
      "482:\tlearn: 31.3121387\ttotal: 722ms\tremaining: 25.4ms\n",
      "483:\tlearn: 31.2522235\ttotal: 723ms\tremaining: 23.9ms\n",
      "484:\tlearn: 31.2267889\ttotal: 725ms\tremaining: 22.4ms\n",
      "485:\tlearn: 31.1412081\ttotal: 727ms\tremaining: 21ms\n",
      "486:\tlearn: 30.8518019\ttotal: 729ms\tremaining: 19.5ms\n",
      "487:\tlearn: 30.7746221\ttotal: 732ms\tremaining: 18ms\n",
      "488:\tlearn: 30.6671436\ttotal: 734ms\tremaining: 16.5ms\n",
      "489:\tlearn: 30.6538437\ttotal: 735ms\tremaining: 15ms\n",
      "490:\tlearn: 30.4773758\ttotal: 736ms\tremaining: 13.5ms\n",
      "491:\tlearn: 30.3351390\ttotal: 738ms\tremaining: 12ms\n",
      "492:\tlearn: 30.0672228\ttotal: 739ms\tremaining: 10.5ms\n",
      "493:\tlearn: 30.0359966\ttotal: 740ms\tremaining: 8.99ms\n",
      "494:\tlearn: 29.8504506\ttotal: 742ms\tremaining: 7.5ms\n",
      "495:\tlearn: 29.6461509\ttotal: 743ms\tremaining: 6ms\n",
      "496:\tlearn: 29.4447781\ttotal: 745ms\tremaining: 4.5ms\n",
      "497:\tlearn: 29.3848746\ttotal: 747ms\tremaining: 3ms\n",
      "498:\tlearn: 29.2432694\ttotal: 748ms\tremaining: 1.5ms\n",
      "499:\tlearn: 29.1284294\ttotal: 749ms\tremaining: 0us\n"
     ]
    },
    {
     "data": {
      "text/plain": [
       "336.40041748521486"
      ]
     },
     "execution_count": 194,
     "metadata": {},
     "output_type": "execute_result"
    }
   ],
   "source": [
    "catb_tuned_model = CatBoostRegressor(depth=3,learning_rate=0.1,iterations=500).fit(X_train,y_train)\n",
    "y_pred = catb_tuned_model.predict(X_test)\n",
    "np.sqrt(mean_squared_error(y_test,y_pred))"
   ]
  },
  {
   "cell_type": "code",
   "execution_count": null,
   "metadata": {},
   "outputs": [],
   "source": []
  }
 ],
 "metadata": {
  "kernelspec": {
   "display_name": "Python 3",
   "language": "python",
   "name": "python3"
  },
  "language_info": {
   "codemirror_mode": {
    "name": "ipython",
    "version": 3
   },
   "file_extension": ".py",
   "mimetype": "text/x-python",
   "name": "python",
   "nbconvert_exporter": "python",
   "pygments_lexer": "ipython3",
   "version": "3.10.7 (tags/v3.10.7:6cc6b13, Sep  5 2022, 14:08:36) [MSC v.1933 64 bit (AMD64)]"
  },
  "orig_nbformat": 4,
  "vscode": {
   "interpreter": {
    "hash": "a9ce8d1bd4cef32f29373bcb59c6a6d376d05724fa6dbea12cabade3e8f60e84"
   }
  }
 },
 "nbformat": 4,
 "nbformat_minor": 2
}
